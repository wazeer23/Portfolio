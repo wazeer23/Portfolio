{
  "nbformat": 4,
  "nbformat_minor": 0,
  "metadata": {
    "kernelspec": {
      "display_name": "Python 3",
      "language": "python",
      "name": "python3"
    },
    "language_info": {
      "codemirror_mode": {
        "name": "ipython",
        "version": 3
      },
      "file_extension": ".py",
      "mimetype": "text/x-python",
      "name": "python",
      "nbconvert_exporter": "python",
      "pygments_lexer": "ipython3",
      "version": "3.7.6"
    },
    "colab": {
      "name": "test.ipynb",
      "provenance": [],
      "collapsed_sections": [],
      "toc_visible": true,
      "machine_shape": "hm",
      "include_colab_link": true
    },
    "widgets": {
      "application/vnd.jupyter.widget-state+json": {
        "570d8898070d493e85667ae3c736e51d": {
          "model_module": "@jupyter-widgets/controls",
          "model_name": "HBoxModel",
          "state": {
            "_view_name": "HBoxView",
            "_dom_classes": [],
            "_model_name": "HBoxModel",
            "_view_module": "@jupyter-widgets/controls",
            "_model_module_version": "1.5.0",
            "_view_count": null,
            "_view_module_version": "1.5.0",
            "box_style": "",
            "layout": "IPY_MODEL_859493d2b0e8498c900a6e3a12da1812",
            "_model_module": "@jupyter-widgets/controls",
            "children": [
              "IPY_MODEL_246e96b44960441ea7b7b8c2489e876e",
              "IPY_MODEL_26872879c6994734b3d43bb4412bf01c"
            ]
          }
        },
        "859493d2b0e8498c900a6e3a12da1812": {
          "model_module": "@jupyter-widgets/base",
          "model_name": "LayoutModel",
          "state": {
            "_view_name": "LayoutView",
            "grid_template_rows": null,
            "right": null,
            "justify_content": null,
            "_view_module": "@jupyter-widgets/base",
            "overflow": null,
            "_model_module_version": "1.2.0",
            "_view_count": null,
            "flex_flow": null,
            "width": null,
            "min_width": null,
            "border": null,
            "align_items": null,
            "bottom": null,
            "_model_module": "@jupyter-widgets/base",
            "top": null,
            "grid_column": null,
            "overflow_y": null,
            "overflow_x": null,
            "grid_auto_flow": null,
            "grid_area": null,
            "grid_template_columns": null,
            "flex": null,
            "_model_name": "LayoutModel",
            "justify_items": null,
            "grid_row": null,
            "max_height": null,
            "align_content": null,
            "visibility": null,
            "align_self": null,
            "height": null,
            "min_height": null,
            "padding": null,
            "grid_auto_rows": null,
            "grid_gap": null,
            "max_width": null,
            "order": null,
            "_view_module_version": "1.2.0",
            "grid_template_areas": null,
            "object_position": null,
            "object_fit": null,
            "grid_auto_columns": null,
            "margin": null,
            "display": null,
            "left": null
          }
        },
        "246e96b44960441ea7b7b8c2489e876e": {
          "model_module": "@jupyter-widgets/controls",
          "model_name": "FloatProgressModel",
          "state": {
            "_view_name": "ProgressView",
            "style": "IPY_MODEL_086f034553bf4a328502d4bd2f126204",
            "_dom_classes": [],
            "description": "Pandas Apply: 100%",
            "_model_name": "FloatProgressModel",
            "bar_style": "success",
            "max": 2847,
            "_view_module": "@jupyter-widgets/controls",
            "_model_module_version": "1.5.0",
            "value": 2847,
            "_view_count": null,
            "_view_module_version": "1.5.0",
            "orientation": "horizontal",
            "min": 0,
            "description_tooltip": null,
            "_model_module": "@jupyter-widgets/controls",
            "layout": "IPY_MODEL_2048be509901458498fbbf77a5e7874c"
          }
        },
        "26872879c6994734b3d43bb4412bf01c": {
          "model_module": "@jupyter-widgets/controls",
          "model_name": "HTMLModel",
          "state": {
            "_view_name": "HTMLView",
            "style": "IPY_MODEL_65c41a1bcfdb4cdd9d3d0260d196417c",
            "_dom_classes": [],
            "description": "",
            "_model_name": "HTMLModel",
            "placeholder": "​",
            "_view_module": "@jupyter-widgets/controls",
            "_model_module_version": "1.5.0",
            "value": " 2847/2847 [00:00&lt;00:00, 25326.27it/s]",
            "_view_count": null,
            "_view_module_version": "1.5.0",
            "description_tooltip": null,
            "_model_module": "@jupyter-widgets/controls",
            "layout": "IPY_MODEL_4b40109ef58f4fe6b82cb627af804d15"
          }
        },
        "086f034553bf4a328502d4bd2f126204": {
          "model_module": "@jupyter-widgets/controls",
          "model_name": "ProgressStyleModel",
          "state": {
            "_view_name": "StyleView",
            "_model_name": "ProgressStyleModel",
            "description_width": "initial",
            "_view_module": "@jupyter-widgets/base",
            "_model_module_version": "1.5.0",
            "_view_count": null,
            "_view_module_version": "1.2.0",
            "bar_color": null,
            "_model_module": "@jupyter-widgets/controls"
          }
        },
        "2048be509901458498fbbf77a5e7874c": {
          "model_module": "@jupyter-widgets/base",
          "model_name": "LayoutModel",
          "state": {
            "_view_name": "LayoutView",
            "grid_template_rows": null,
            "right": null,
            "justify_content": null,
            "_view_module": "@jupyter-widgets/base",
            "overflow": null,
            "_model_module_version": "1.2.0",
            "_view_count": null,
            "flex_flow": null,
            "width": null,
            "min_width": null,
            "border": null,
            "align_items": null,
            "bottom": null,
            "_model_module": "@jupyter-widgets/base",
            "top": null,
            "grid_column": null,
            "overflow_y": null,
            "overflow_x": null,
            "grid_auto_flow": null,
            "grid_area": null,
            "grid_template_columns": null,
            "flex": null,
            "_model_name": "LayoutModel",
            "justify_items": null,
            "grid_row": null,
            "max_height": null,
            "align_content": null,
            "visibility": null,
            "align_self": null,
            "height": null,
            "min_height": null,
            "padding": null,
            "grid_auto_rows": null,
            "grid_gap": null,
            "max_width": null,
            "order": null,
            "_view_module_version": "1.2.0",
            "grid_template_areas": null,
            "object_position": null,
            "object_fit": null,
            "grid_auto_columns": null,
            "margin": null,
            "display": null,
            "left": null
          }
        },
        "65c41a1bcfdb4cdd9d3d0260d196417c": {
          "model_module": "@jupyter-widgets/controls",
          "model_name": "DescriptionStyleModel",
          "state": {
            "_view_name": "StyleView",
            "_model_name": "DescriptionStyleModel",
            "description_width": "",
            "_view_module": "@jupyter-widgets/base",
            "_model_module_version": "1.5.0",
            "_view_count": null,
            "_view_module_version": "1.2.0",
            "_model_module": "@jupyter-widgets/controls"
          }
        },
        "4b40109ef58f4fe6b82cb627af804d15": {
          "model_module": "@jupyter-widgets/base",
          "model_name": "LayoutModel",
          "state": {
            "_view_name": "LayoutView",
            "grid_template_rows": null,
            "right": null,
            "justify_content": null,
            "_view_module": "@jupyter-widgets/base",
            "overflow": null,
            "_model_module_version": "1.2.0",
            "_view_count": null,
            "flex_flow": null,
            "width": null,
            "min_width": null,
            "border": null,
            "align_items": null,
            "bottom": null,
            "_model_module": "@jupyter-widgets/base",
            "top": null,
            "grid_column": null,
            "overflow_y": null,
            "overflow_x": null,
            "grid_auto_flow": null,
            "grid_area": null,
            "grid_template_columns": null,
            "flex": null,
            "_model_name": "LayoutModel",
            "justify_items": null,
            "grid_row": null,
            "max_height": null,
            "align_content": null,
            "visibility": null,
            "align_self": null,
            "height": null,
            "min_height": null,
            "padding": null,
            "grid_auto_rows": null,
            "grid_gap": null,
            "max_width": null,
            "order": null,
            "_view_module_version": "1.2.0",
            "grid_template_areas": null,
            "object_position": null,
            "object_fit": null,
            "grid_auto_columns": null,
            "margin": null,
            "display": null,
            "left": null
          }
        },
        "90d5df8c21b54a44b96ec29d28eceb62": {
          "model_module": "@jupyter-widgets/controls",
          "model_name": "HBoxModel",
          "state": {
            "_view_name": "HBoxView",
            "_dom_classes": [],
            "_model_name": "HBoxModel",
            "_view_module": "@jupyter-widgets/controls",
            "_model_module_version": "1.5.0",
            "_view_count": null,
            "_view_module_version": "1.5.0",
            "box_style": "",
            "layout": "IPY_MODEL_97d5a3d668ef465fa84b52b753a94d8c",
            "_model_module": "@jupyter-widgets/controls",
            "children": [
              "IPY_MODEL_239605a318df4cd0b8702ecbaa6e8986",
              "IPY_MODEL_3fe531a0b9d248e9b5571843bdb47811"
            ]
          }
        },
        "97d5a3d668ef465fa84b52b753a94d8c": {
          "model_module": "@jupyter-widgets/base",
          "model_name": "LayoutModel",
          "state": {
            "_view_name": "LayoutView",
            "grid_template_rows": null,
            "right": null,
            "justify_content": null,
            "_view_module": "@jupyter-widgets/base",
            "overflow": null,
            "_model_module_version": "1.2.0",
            "_view_count": null,
            "flex_flow": null,
            "width": null,
            "min_width": null,
            "border": null,
            "align_items": null,
            "bottom": null,
            "_model_module": "@jupyter-widgets/base",
            "top": null,
            "grid_column": null,
            "overflow_y": null,
            "overflow_x": null,
            "grid_auto_flow": null,
            "grid_area": null,
            "grid_template_columns": null,
            "flex": null,
            "_model_name": "LayoutModel",
            "justify_items": null,
            "grid_row": null,
            "max_height": null,
            "align_content": null,
            "visibility": null,
            "align_self": null,
            "height": null,
            "min_height": null,
            "padding": null,
            "grid_auto_rows": null,
            "grid_gap": null,
            "max_width": null,
            "order": null,
            "_view_module_version": "1.2.0",
            "grid_template_areas": null,
            "object_position": null,
            "object_fit": null,
            "grid_auto_columns": null,
            "margin": null,
            "display": null,
            "left": null
          }
        },
        "239605a318df4cd0b8702ecbaa6e8986": {
          "model_module": "@jupyter-widgets/controls",
          "model_name": "FloatProgressModel",
          "state": {
            "_view_name": "ProgressView",
            "style": "IPY_MODEL_cedd24e0df0c4209bb18754162f748f8",
            "_dom_classes": [],
            "description": "Pandas Apply: 100%",
            "_model_name": "FloatProgressModel",
            "bar_style": "success",
            "max": 2847,
            "_view_module": "@jupyter-widgets/controls",
            "_model_module_version": "1.5.0",
            "value": 2847,
            "_view_count": null,
            "_view_module_version": "1.5.0",
            "orientation": "horizontal",
            "min": 0,
            "description_tooltip": null,
            "_model_module": "@jupyter-widgets/controls",
            "layout": "IPY_MODEL_a03fdb82ee834712ab096f88b70f338c"
          }
        },
        "3fe531a0b9d248e9b5571843bdb47811": {
          "model_module": "@jupyter-widgets/controls",
          "model_name": "HTMLModel",
          "state": {
            "_view_name": "HTMLView",
            "style": "IPY_MODEL_66098a1046b54ef1bb2d0cd87685f5f0",
            "_dom_classes": [],
            "description": "",
            "_model_name": "HTMLModel",
            "placeholder": "​",
            "_view_module": "@jupyter-widgets/controls",
            "_model_module_version": "1.5.0",
            "value": " 2847/2847 [01:23&lt;00:00, 34.17it/s]",
            "_view_count": null,
            "_view_module_version": "1.5.0",
            "description_tooltip": null,
            "_model_module": "@jupyter-widgets/controls",
            "layout": "IPY_MODEL_0bdf1630ad9641478120d7b3a2c5500b"
          }
        },
        "cedd24e0df0c4209bb18754162f748f8": {
          "model_module": "@jupyter-widgets/controls",
          "model_name": "ProgressStyleModel",
          "state": {
            "_view_name": "StyleView",
            "_model_name": "ProgressStyleModel",
            "description_width": "initial",
            "_view_module": "@jupyter-widgets/base",
            "_model_module_version": "1.5.0",
            "_view_count": null,
            "_view_module_version": "1.2.0",
            "bar_color": null,
            "_model_module": "@jupyter-widgets/controls"
          }
        },
        "a03fdb82ee834712ab096f88b70f338c": {
          "model_module": "@jupyter-widgets/base",
          "model_name": "LayoutModel",
          "state": {
            "_view_name": "LayoutView",
            "grid_template_rows": null,
            "right": null,
            "justify_content": null,
            "_view_module": "@jupyter-widgets/base",
            "overflow": null,
            "_model_module_version": "1.2.0",
            "_view_count": null,
            "flex_flow": null,
            "width": null,
            "min_width": null,
            "border": null,
            "align_items": null,
            "bottom": null,
            "_model_module": "@jupyter-widgets/base",
            "top": null,
            "grid_column": null,
            "overflow_y": null,
            "overflow_x": null,
            "grid_auto_flow": null,
            "grid_area": null,
            "grid_template_columns": null,
            "flex": null,
            "_model_name": "LayoutModel",
            "justify_items": null,
            "grid_row": null,
            "max_height": null,
            "align_content": null,
            "visibility": null,
            "align_self": null,
            "height": null,
            "min_height": null,
            "padding": null,
            "grid_auto_rows": null,
            "grid_gap": null,
            "max_width": null,
            "order": null,
            "_view_module_version": "1.2.0",
            "grid_template_areas": null,
            "object_position": null,
            "object_fit": null,
            "grid_auto_columns": null,
            "margin": null,
            "display": null,
            "left": null
          }
        },
        "66098a1046b54ef1bb2d0cd87685f5f0": {
          "model_module": "@jupyter-widgets/controls",
          "model_name": "DescriptionStyleModel",
          "state": {
            "_view_name": "StyleView",
            "_model_name": "DescriptionStyleModel",
            "description_width": "",
            "_view_module": "@jupyter-widgets/base",
            "_model_module_version": "1.5.0",
            "_view_count": null,
            "_view_module_version": "1.2.0",
            "_model_module": "@jupyter-widgets/controls"
          }
        },
        "0bdf1630ad9641478120d7b3a2c5500b": {
          "model_module": "@jupyter-widgets/base",
          "model_name": "LayoutModel",
          "state": {
            "_view_name": "LayoutView",
            "grid_template_rows": null,
            "right": null,
            "justify_content": null,
            "_view_module": "@jupyter-widgets/base",
            "overflow": null,
            "_model_module_version": "1.2.0",
            "_view_count": null,
            "flex_flow": null,
            "width": null,
            "min_width": null,
            "border": null,
            "align_items": null,
            "bottom": null,
            "_model_module": "@jupyter-widgets/base",
            "top": null,
            "grid_column": null,
            "overflow_y": null,
            "overflow_x": null,
            "grid_auto_flow": null,
            "grid_area": null,
            "grid_template_columns": null,
            "flex": null,
            "_model_name": "LayoutModel",
            "justify_items": null,
            "grid_row": null,
            "max_height": null,
            "align_content": null,
            "visibility": null,
            "align_self": null,
            "height": null,
            "min_height": null,
            "padding": null,
            "grid_auto_rows": null,
            "grid_gap": null,
            "max_width": null,
            "order": null,
            "_view_module_version": "1.2.0",
            "grid_template_areas": null,
            "object_position": null,
            "object_fit": null,
            "grid_auto_columns": null,
            "margin": null,
            "display": null,
            "left": null
          }
        }
      }
    },
    "accelerator": "TPU"
  },
  "cells": [
    {
      "cell_type": "markdown",
      "metadata": {
        "id": "view-in-github",
        "colab_type": "text"
      },
      "source": [
        "<a href=\"https://colab.research.google.com/github/wazeer23/Portfolio/blob/main/Multi-Class%20Text%20Classification%20using%20Various%20Machine%20Learning%20Algorithims.ipynb\" target=\"_parent\"><img src=\"https://colab.research.google.com/assets/colab-badge.svg\" alt=\"Open In Colab\"/></a>"
      ]
    },
    {
      "cell_type": "markdown",
      "metadata": {
        "id": "hrCWMLLNdyys"
      },
      "source": [
        "# Multi-Class Text Classification\n",
        "CFPB - Consumer Complaints Database"
      ]
    },
    {
      "cell_type": "markdown",
      "metadata": {
        "id": "eo-W19YpeHMr"
      },
      "source": [
        "# 1. Loading the Dataset"
      ]
    },
    {
      "cell_type": "code",
      "metadata": {
        "id": "Qhvz7Idadz5V"
      },
      "source": [
        "import spacy\n",
        "nlp = spacy.load(\"en_core_web_sm\")"
      ],
      "execution_count": null,
      "outputs": []
    },
    {
      "cell_type": "code",
      "metadata": {
        "id": "BNbHWGOXxPl0",
        "colab": {
          "base_uri": "https://localhost:8080/",
          "height": 51
        },
        "outputId": "301c22e4-4312-4f1c-a608-00141e13dc7a"
      },
      "source": [
        "gpu_info = !nvidia-smi\n",
        "gpu_info = '\\n'.join(gpu_info)\n",
        "if gpu_info.find('failed') >= 0:\n",
        "  print('Select the Runtime > \"Change runtime type\" menu to enable a GPU accelerator, ')\n",
        "  print('and then re-execute this cell.')\n",
        "else:\n",
        "  print(gpu_info)"
      ],
      "execution_count": null,
      "outputs": [
        {
          "output_type": "stream",
          "text": [
            "Select the Runtime > \"Change runtime type\" menu to enable a GPU accelerator, \n",
            "and then re-execute this cell.\n"
          ],
          "name": "stdout"
        }
      ]
    },
    {
      "cell_type": "code",
      "metadata": {
        "id": "2JnhUxlZIY0i",
        "colab": {
          "base_uri": "https://localhost:8080/",
          "height": 122
        },
        "outputId": "52229a5c-5f12-4b78-b930-98d8c3aaaa95"
      },
      "source": [
        "from google.colab import drive\n",
        "drive.mount('/content/drive')"
      ],
      "execution_count": null,
      "outputs": [
        {
          "output_type": "stream",
          "text": [
            "Go to this URL in a browser: https://accounts.google.com/o/oauth2/auth?client_id=947318989803-6bn6qk8qdgf4n4g3pfee6491hc0brc4i.apps.googleusercontent.com&redirect_uri=urn%3aietf%3awg%3aoauth%3a2.0%3aoob&scope=email%20https%3a%2f%2fwww.googleapis.com%2fauth%2fdocs.test%20https%3a%2f%2fwww.googleapis.com%2fauth%2fdrive%20https%3a%2f%2fwww.googleapis.com%2fauth%2fdrive.photos.readonly%20https%3a%2f%2fwww.googleapis.com%2fauth%2fpeopleapi.readonly&response_type=code\n",
            "\n",
            "Enter your authorization code:\n",
            "··········\n",
            "Mounted at /content/drive\n"
          ],
          "name": "stdout"
        }
      ]
    },
    {
      "cell_type": "code",
      "metadata": {
        "id": "a_ZjK-jbs8ou"
      },
      "source": [
        "import pandas as pd\n",
        "#df = pd.read_csv('complaint.csv')\n",
        "df = pd.read_csv('/content/drive/My Drive/complaint.csv')\n",
        "#df = pd.read_csv('complaint.csv',engine='python', error_bad_lines=False)"
      ],
      "execution_count": null,
      "outputs": []
    },
    {
      "cell_type": "code",
      "metadata": {
        "id": "bC-8GOhBV_Fd"
      },
      "source": [
        "df = df.sample(frac=0.2, random_state=1)"
      ],
      "execution_count": null,
      "outputs": []
    },
    {
      "cell_type": "code",
      "metadata": {
        "id": "6yzEz2pCt13v",
        "colab": {
          "base_uri": "https://localhost:8080/",
          "height": 1000
        },
        "outputId": "d5e526c5-bbe2-4ac3-f2ac-e1f96c4205a1"
      },
      "source": [
        "df"
      ],
      "execution_count": null,
      "outputs": [
        {
          "output_type": "execute_result",
          "data": {
            "text/html": [
              "<div>\n",
              "<style scoped>\n",
              "    .dataframe tbody tr th:only-of-type {\n",
              "        vertical-align: middle;\n",
              "    }\n",
              "\n",
              "    .dataframe tbody tr th {\n",
              "        vertical-align: top;\n",
              "    }\n",
              "\n",
              "    .dataframe thead th {\n",
              "        text-align: right;\n",
              "    }\n",
              "</style>\n",
              "<table border=\"1\" class=\"dataframe\">\n",
              "  <thead>\n",
              "    <tr style=\"text-align: right;\">\n",
              "      <th></th>\n",
              "      <th>Date received</th>\n",
              "      <th>Product</th>\n",
              "      <th>Sub-product</th>\n",
              "      <th>Issue</th>\n",
              "      <th>Sub-issue</th>\n",
              "      <th>Consumer complaint narrative</th>\n",
              "      <th>Company public response</th>\n",
              "      <th>Company</th>\n",
              "      <th>State</th>\n",
              "      <th>ZIP code</th>\n",
              "      <th>Tags</th>\n",
              "      <th>Consumer consent provided?</th>\n",
              "      <th>Submitted via</th>\n",
              "      <th>Date sent to company</th>\n",
              "      <th>Company response to consumer</th>\n",
              "      <th>Timely response?</th>\n",
              "      <th>Consumer disputed?</th>\n",
              "      <th>Complaint ID</th>\n",
              "    </tr>\n",
              "  </thead>\n",
              "  <tbody>\n",
              "    <tr>\n",
              "      <th>6788</th>\n",
              "      <td>07/08/20</td>\n",
              "      <td>Credit reporting, credit repair services, or o...</td>\n",
              "      <td>Credit reporting</td>\n",
              "      <td>Incorrect information on your report</td>\n",
              "      <td>Account information incorrect</td>\n",
              "      <td>XXXX  ; XXXX  and Transunion should not be rep...</td>\n",
              "      <td>Company has responded to the consumer and the ...</td>\n",
              "      <td>TRANSUNION INTERMEDIATE HOLDINGS, INC.</td>\n",
              "      <td>WA</td>\n",
              "      <td>982XX</td>\n",
              "      <td>None</td>\n",
              "      <td>Consent provided</td>\n",
              "      <td>Web</td>\n",
              "      <td>07/08/20</td>\n",
              "      <td>Closed with explanation</td>\n",
              "      <td>Yes</td>\n",
              "      <td>NaN</td>\n",
              "      <td>3734758</td>\n",
              "    </tr>\n",
              "    <tr>\n",
              "      <th>4029</th>\n",
              "      <td>07/06/20</td>\n",
              "      <td>Credit reporting, credit repair services, or o...</td>\n",
              "      <td>Credit reporting</td>\n",
              "      <td>Problem with a credit reporting company's inve...</td>\n",
              "      <td>Their investigation did not fix an error on yo...</td>\n",
              "      <td>I sent multiple credit disputes with these com...</td>\n",
              "      <td>Company has responded to the consumer and the ...</td>\n",
              "      <td>Experian Information Solutions Inc.</td>\n",
              "      <td>AR</td>\n",
              "      <td>720XX</td>\n",
              "      <td>None</td>\n",
              "      <td>Consent provided</td>\n",
              "      <td>Web</td>\n",
              "      <td>07/06/20</td>\n",
              "      <td>Closed with explanation</td>\n",
              "      <td>Yes</td>\n",
              "      <td>NaN</td>\n",
              "      <td>3731381</td>\n",
              "    </tr>\n",
              "    <tr>\n",
              "      <th>2411</th>\n",
              "      <td>06/22/20</td>\n",
              "      <td>Credit card or prepaid card</td>\n",
              "      <td>General-purpose credit card or charge card</td>\n",
              "      <td>Problem with a purchase shown on your statement</td>\n",
              "      <td>Credit card company isn't resolving a dispute ...</td>\n",
              "      <td>My credit card was charged to an ATM withdrawa...</td>\n",
              "      <td>Company has responded to the consumer and the ...</td>\n",
              "      <td>CITIBANK, N.A.</td>\n",
              "      <td>TX</td>\n",
              "      <td>754XX</td>\n",
              "      <td>Older American, Servicemember</td>\n",
              "      <td>Consent provided</td>\n",
              "      <td>Web</td>\n",
              "      <td>06/22/20</td>\n",
              "      <td>Closed with monetary relief</td>\n",
              "      <td>Yes</td>\n",
              "      <td>NaN</td>\n",
              "      <td>3710405</td>\n",
              "    </tr>\n",
              "    <tr>\n",
              "      <th>12130</th>\n",
              "      <td>07/28/20</td>\n",
              "      <td>Credit reporting, credit repair services, or o...</td>\n",
              "      <td>Credit reporting</td>\n",
              "      <td>Incorrect information on your report</td>\n",
              "      <td>Information belongs to someone else</td>\n",
              "      <td>THERE ARE SEVERAL ALLEGED COLLECTION, CHARGE A...</td>\n",
              "      <td>Company has responded to the consumer and the ...</td>\n",
              "      <td>TRANSUNION INTERMEDIATE HOLDINGS, INC.</td>\n",
              "      <td>KY</td>\n",
              "      <td>410XX</td>\n",
              "      <td>None</td>\n",
              "      <td>Consent provided</td>\n",
              "      <td>Web</td>\n",
              "      <td>07/28/20</td>\n",
              "      <td>Closed with explanation</td>\n",
              "      <td>Yes</td>\n",
              "      <td>NaN</td>\n",
              "      <td>3767349</td>\n",
              "    </tr>\n",
              "    <tr>\n",
              "      <th>14130</th>\n",
              "      <td>07/20/20</td>\n",
              "      <td>Credit reporting, credit repair services, or o...</td>\n",
              "      <td>Credit reporting</td>\n",
              "      <td>Incorrect information on your report</td>\n",
              "      <td>Information belongs to someone else</td>\n",
              "      <td>I went to file my taxes and I was told by my c...</td>\n",
              "      <td>Company has responded to the consumer and the ...</td>\n",
              "      <td>TRANSUNION INTERMEDIATE HOLDINGS, INC.</td>\n",
              "      <td>AR</td>\n",
              "      <td>None</td>\n",
              "      <td>None</td>\n",
              "      <td>Consent provided</td>\n",
              "      <td>Web</td>\n",
              "      <td>07/20/20</td>\n",
              "      <td>Closed with explanation</td>\n",
              "      <td>Yes</td>\n",
              "      <td>NaN</td>\n",
              "      <td>3753840</td>\n",
              "    </tr>\n",
              "    <tr>\n",
              "      <th>...</th>\n",
              "      <td>...</td>\n",
              "      <td>...</td>\n",
              "      <td>...</td>\n",
              "      <td>...</td>\n",
              "      <td>...</td>\n",
              "      <td>...</td>\n",
              "      <td>...</td>\n",
              "      <td>...</td>\n",
              "      <td>...</td>\n",
              "      <td>...</td>\n",
              "      <td>...</td>\n",
              "      <td>...</td>\n",
              "      <td>...</td>\n",
              "      <td>...</td>\n",
              "      <td>...</td>\n",
              "      <td>...</td>\n",
              "      <td>...</td>\n",
              "      <td>...</td>\n",
              "    </tr>\n",
              "    <tr>\n",
              "      <th>594</th>\n",
              "      <td>07/26/20</td>\n",
              "      <td>Debt collection</td>\n",
              "      <td>Other debt</td>\n",
              "      <td>Communication tactics</td>\n",
              "      <td>Frequent or repeated calls</td>\n",
              "      <td>Repeated calls. Ive attempted to settle with n...</td>\n",
              "      <td>Company has responded to the consumer and the ...</td>\n",
              "      <td>Convergent Resources, Inc.</td>\n",
              "      <td>IL</td>\n",
              "      <td>616XX</td>\n",
              "      <td>None</td>\n",
              "      <td>Consent provided</td>\n",
              "      <td>Web</td>\n",
              "      <td>07/26/20</td>\n",
              "      <td>Closed with explanation</td>\n",
              "      <td>Yes</td>\n",
              "      <td>NaN</td>\n",
              "      <td>3764931</td>\n",
              "    </tr>\n",
              "    <tr>\n",
              "      <th>3774</th>\n",
              "      <td>07/25/20</td>\n",
              "      <td>Credit reporting, credit repair services, or o...</td>\n",
              "      <td>Credit reporting</td>\n",
              "      <td>Incorrect information on your report</td>\n",
              "      <td>Information belongs to someone else</td>\n",
              "      <td>AFTER A CAREFUL REVIEW OF MY CREDIT REPORT, I ...</td>\n",
              "      <td>Company has responded to the consumer and the ...</td>\n",
              "      <td>Experian Information Solutions Inc.</td>\n",
              "      <td>FL</td>\n",
              "      <td>331XX</td>\n",
              "      <td>None</td>\n",
              "      <td>Consent provided</td>\n",
              "      <td>Web</td>\n",
              "      <td>07/25/20</td>\n",
              "      <td>Closed with explanation</td>\n",
              "      <td>Yes</td>\n",
              "      <td>NaN</td>\n",
              "      <td>3764115</td>\n",
              "    </tr>\n",
              "    <tr>\n",
              "      <th>3216</th>\n",
              "      <td>08/11/20</td>\n",
              "      <td>Credit reporting, credit repair services, or o...</td>\n",
              "      <td>Credit reporting</td>\n",
              "      <td>Problem with a credit reporting company's inve...</td>\n",
              "      <td>Investigation took more than 30 days</td>\n",
              "      <td>I FILED A DISPUTE WITH THE CREDIT REPORTING AG...</td>\n",
              "      <td>Company has responded to the consumer and the ...</td>\n",
              "      <td>TRANSUNION INTERMEDIATE HOLDINGS, INC.</td>\n",
              "      <td>IL</td>\n",
              "      <td>606XX</td>\n",
              "      <td>None</td>\n",
              "      <td>Consent provided</td>\n",
              "      <td>Web</td>\n",
              "      <td>08/11/20</td>\n",
              "      <td>Closed with explanation</td>\n",
              "      <td>Yes</td>\n",
              "      <td>NaN</td>\n",
              "      <td>3790529</td>\n",
              "    </tr>\n",
              "    <tr>\n",
              "      <th>8077</th>\n",
              "      <td>06/24/20</td>\n",
              "      <td>Credit reporting, credit repair services, or o...</td>\n",
              "      <td>Credit reporting</td>\n",
              "      <td>Problem with a credit reporting company's inve...</td>\n",
              "      <td>Their investigation did not fix an error on yo...</td>\n",
              "      <td>I was shocked when I reviewed my credit report...</td>\n",
              "      <td>Company has responded to the consumer and the ...</td>\n",
              "      <td>U.S. BANCORP</td>\n",
              "      <td>MA</td>\n",
              "      <td>023XX</td>\n",
              "      <td>None</td>\n",
              "      <td>Consent provided</td>\n",
              "      <td>Web</td>\n",
              "      <td>06/24/20</td>\n",
              "      <td>Closed with explanation</td>\n",
              "      <td>Yes</td>\n",
              "      <td>NaN</td>\n",
              "      <td>3715065</td>\n",
              "    </tr>\n",
              "    <tr>\n",
              "      <th>8670</th>\n",
              "      <td>06/25/20</td>\n",
              "      <td>Mortgage</td>\n",
              "      <td>FHA mortgage</td>\n",
              "      <td>Trouble during payment process</td>\n",
              "      <td>None</td>\n",
              "      <td>I applied and was approved for COVID-19 relief...</td>\n",
              "      <td>Company has responded to the consumer and the ...</td>\n",
              "      <td>WELLS FARGO &amp; COMPANY</td>\n",
              "      <td>NY</td>\n",
              "      <td>117XX</td>\n",
              "      <td>None</td>\n",
              "      <td>Consent provided</td>\n",
              "      <td>Web</td>\n",
              "      <td>06/25/20</td>\n",
              "      <td>Closed with explanation</td>\n",
              "      <td>Yes</td>\n",
              "      <td>NaN</td>\n",
              "      <td>3715824</td>\n",
              "    </tr>\n",
              "  </tbody>\n",
              "</table>\n",
              "<p>2847 rows × 18 columns</p>\n",
              "</div>"
            ],
            "text/plain": [
              "      Date received  ... Complaint ID\n",
              "6788       07/08/20  ...      3734758\n",
              "4029       07/06/20  ...      3731381\n",
              "2411       06/22/20  ...      3710405\n",
              "12130      07/28/20  ...      3767349\n",
              "14130      07/20/20  ...      3753840\n",
              "...             ...  ...          ...\n",
              "594        07/26/20  ...      3764931\n",
              "3774       07/25/20  ...      3764115\n",
              "3216       08/11/20  ...      3790529\n",
              "8077       06/24/20  ...      3715065\n",
              "8670       06/25/20  ...      3715824\n",
              "\n",
              "[2847 rows x 18 columns]"
            ]
          },
          "metadata": {
            "tags": []
          },
          "execution_count": 9
        }
      ]
    },
    {
      "cell_type": "code",
      "metadata": {
        "id": "lXmOZEgPs8ox",
        "colab": {
          "base_uri": "https://localhost:8080/",
          "height": 187
        },
        "outputId": "e6206829-6fdf-4140-fbf3-f4a6743a323c"
      },
      "source": [
        "df['Product'].value_counts()"
      ],
      "execution_count": null,
      "outputs": [
        {
          "output_type": "execute_result",
          "data": {
            "text/plain": [
              "Credit reporting, credit repair services, or other personal consumer reports    2013\n",
              "Debt collection                                                                  280\n",
              "Credit card or prepaid card                                                      190\n",
              "Mortgage                                                                         162\n",
              "Checking or savings account                                                      115\n",
              "Vehicle loan or lease                                                             29\n",
              "Money transfer, virtual currency, or money service                                28\n",
              "Payday loan, title loan, or personal loan                                         20\n",
              "Student loan                                                                      10\n",
              "Name: Product, dtype: int64"
            ]
          },
          "metadata": {
            "tags": []
          },
          "execution_count": 10
        }
      ]
    },
    {
      "cell_type": "code",
      "metadata": {
        "id": "esUgP1Nos8o0"
      },
      "source": [
        "df = df[['Product','Consumer complaint narrative']]"
      ],
      "execution_count": null,
      "outputs": []
    },
    {
      "cell_type": "code",
      "metadata": {
        "id": "kZ2VAatps8o3",
        "colab": {
          "base_uri": "https://localhost:8080/",
          "height": 419
        },
        "outputId": "cd494f4c-2dfd-406e-e3c5-a80175502d0c"
      },
      "source": [
        "df"
      ],
      "execution_count": null,
      "outputs": [
        {
          "output_type": "execute_result",
          "data": {
            "text/html": [
              "<div>\n",
              "<style scoped>\n",
              "    .dataframe tbody tr th:only-of-type {\n",
              "        vertical-align: middle;\n",
              "    }\n",
              "\n",
              "    .dataframe tbody tr th {\n",
              "        vertical-align: top;\n",
              "    }\n",
              "\n",
              "    .dataframe thead th {\n",
              "        text-align: right;\n",
              "    }\n",
              "</style>\n",
              "<table border=\"1\" class=\"dataframe\">\n",
              "  <thead>\n",
              "    <tr style=\"text-align: right;\">\n",
              "      <th></th>\n",
              "      <th>Product</th>\n",
              "      <th>Consumer complaint narrative</th>\n",
              "    </tr>\n",
              "  </thead>\n",
              "  <tbody>\n",
              "    <tr>\n",
              "      <th>6788</th>\n",
              "      <td>Credit reporting, credit repair services, or o...</td>\n",
              "      <td>XXXX  ; XXXX  and Transunion should not be rep...</td>\n",
              "    </tr>\n",
              "    <tr>\n",
              "      <th>4029</th>\n",
              "      <td>Credit reporting, credit repair services, or o...</td>\n",
              "      <td>I sent multiple credit disputes with these com...</td>\n",
              "    </tr>\n",
              "    <tr>\n",
              "      <th>2411</th>\n",
              "      <td>Credit card or prepaid card</td>\n",
              "      <td>My credit card was charged to an ATM withdrawa...</td>\n",
              "    </tr>\n",
              "    <tr>\n",
              "      <th>12130</th>\n",
              "      <td>Credit reporting, credit repair services, or o...</td>\n",
              "      <td>THERE ARE SEVERAL ALLEGED COLLECTION, CHARGE A...</td>\n",
              "    </tr>\n",
              "    <tr>\n",
              "      <th>14130</th>\n",
              "      <td>Credit reporting, credit repair services, or o...</td>\n",
              "      <td>I went to file my taxes and I was told by my c...</td>\n",
              "    </tr>\n",
              "    <tr>\n",
              "      <th>...</th>\n",
              "      <td>...</td>\n",
              "      <td>...</td>\n",
              "    </tr>\n",
              "    <tr>\n",
              "      <th>594</th>\n",
              "      <td>Debt collection</td>\n",
              "      <td>Repeated calls. Ive attempted to settle with n...</td>\n",
              "    </tr>\n",
              "    <tr>\n",
              "      <th>3774</th>\n",
              "      <td>Credit reporting, credit repair services, or o...</td>\n",
              "      <td>AFTER A CAREFUL REVIEW OF MY CREDIT REPORT, I ...</td>\n",
              "    </tr>\n",
              "    <tr>\n",
              "      <th>3216</th>\n",
              "      <td>Credit reporting, credit repair services, or o...</td>\n",
              "      <td>I FILED A DISPUTE WITH THE CREDIT REPORTING AG...</td>\n",
              "    </tr>\n",
              "    <tr>\n",
              "      <th>8077</th>\n",
              "      <td>Credit reporting, credit repair services, or o...</td>\n",
              "      <td>I was shocked when I reviewed my credit report...</td>\n",
              "    </tr>\n",
              "    <tr>\n",
              "      <th>8670</th>\n",
              "      <td>Mortgage</td>\n",
              "      <td>I applied and was approved for COVID-19 relief...</td>\n",
              "    </tr>\n",
              "  </tbody>\n",
              "</table>\n",
              "<p>2847 rows × 2 columns</p>\n",
              "</div>"
            ],
            "text/plain": [
              "                                                 Product                       Consumer complaint narrative\n",
              "6788   Credit reporting, credit repair services, or o...  XXXX  ; XXXX  and Transunion should not be rep...\n",
              "4029   Credit reporting, credit repair services, or o...  I sent multiple credit disputes with these com...\n",
              "2411                         Credit card or prepaid card  My credit card was charged to an ATM withdrawa...\n",
              "12130  Credit reporting, credit repair services, or o...  THERE ARE SEVERAL ALLEGED COLLECTION, CHARGE A...\n",
              "14130  Credit reporting, credit repair services, or o...  I went to file my taxes and I was told by my c...\n",
              "...                                                  ...                                                ...\n",
              "594                                      Debt collection  Repeated calls. Ive attempted to settle with n...\n",
              "3774   Credit reporting, credit repair services, or o...  AFTER A CAREFUL REVIEW OF MY CREDIT REPORT, I ...\n",
              "3216   Credit reporting, credit repair services, or o...  I FILED A DISPUTE WITH THE CREDIT REPORTING AG...\n",
              "8077   Credit reporting, credit repair services, or o...  I was shocked when I reviewed my credit report...\n",
              "8670                                            Mortgage  I applied and was approved for COVID-19 relief...\n",
              "\n",
              "[2847 rows x 2 columns]"
            ]
          },
          "metadata": {
            "tags": []
          },
          "execution_count": 12
        }
      ]
    },
    {
      "cell_type": "code",
      "metadata": {
        "id": "ITYWU3xes8o5"
      },
      "source": [
        "df = df.dropna()\n"
      ],
      "execution_count": null,
      "outputs": []
    },
    {
      "cell_type": "code",
      "metadata": {
        "id": "eYE97pzbs8o-",
        "colab": {
          "base_uri": "https://localhost:8080/",
          "height": 68
        },
        "outputId": "e179f683-d922-43b6-ecde-b59558490d45"
      },
      "source": [
        "import nltk\n",
        "nltk.download('stopwords')"
      ],
      "execution_count": null,
      "outputs": [
        {
          "output_type": "stream",
          "text": [
            "[nltk_data] Downloading package stopwords to /root/nltk_data...\n",
            "[nltk_data]   Unzipping corpora/stopwords.zip.\n"
          ],
          "name": "stdout"
        },
        {
          "output_type": "execute_result",
          "data": {
            "text/plain": [
              "True"
            ]
          },
          "metadata": {
            "tags": []
          },
          "execution_count": 14
        }
      ]
    },
    {
      "cell_type": "code",
      "metadata": {
        "id": "9zGzqS4ps8pB"
      },
      "source": [
        "import re"
      ],
      "execution_count": null,
      "outputs": []
    },
    {
      "cell_type": "code",
      "metadata": {
        "id": "ukXT_iV7xLxL",
        "colab": {
          "base_uri": "https://localhost:8080/",
          "height": 1000
        },
        "outputId": "88d4a7cd-dc72-4edb-987c-aa762c284a4e"
      },
      "source": [
        "!pip install swifter"
      ],
      "execution_count": null,
      "outputs": [
        {
          "output_type": "stream",
          "text": [
            "Collecting swifter\n",
            "  Downloading https://files.pythonhosted.org/packages/7c/07/ad5bda46a33f1d869eaf71f431615111f251adfbceb4e3a02d66ad402582/swifter-1.0.3-py3-none-any.whl\n",
            "Requirement already satisfied: ipywidgets>=7.0.0 in /usr/local/lib/python3.6/dist-packages (from swifter) (7.5.1)\n",
            "Requirement already satisfied: bleach>=3.1.1 in /usr/local/lib/python3.6/dist-packages (from swifter) (3.1.5)\n",
            "Requirement already satisfied: tqdm>=4.33.0 in /usr/local/lib/python3.6/dist-packages (from swifter) (4.41.1)\n",
            "Collecting psutil>=5.6.6\n",
            "\u001b[?25l  Downloading https://files.pythonhosted.org/packages/aa/3e/d18f2c04cf2b528e18515999b0c8e698c136db78f62df34eee89cee205f1/psutil-5.7.2.tar.gz (460kB)\n",
            "\u001b[K     |████████████████████████████████| 460kB 4.8MB/s \n",
            "\u001b[?25hCollecting modin[ray]>=0.7.4\n",
            "\u001b[?25l  Downloading https://files.pythonhosted.org/packages/e9/7c/7ff264198ce393153f75ad6fce9fef9eb7624602776ea9854e4f067712d8/modin-0.8.0-py3-none-manylinux1_x86_64.whl (387kB)\n",
            "\u001b[K     |████████████████████████████████| 389kB 10.9MB/s \n",
            "\u001b[?25hRequirement already satisfied: parso>0.4.0 in /usr/local/lib/python3.6/dist-packages (from swifter) (0.7.1)\n",
            "Requirement already satisfied: pandas>=0.23.0 in /usr/local/lib/python3.6/dist-packages (from swifter) (1.0.5)\n",
            "Requirement already satisfied: dask[complete]>=0.19.0 in /usr/local/lib/python3.6/dist-packages (from swifter) (2.12.0)\n",
            "Requirement already satisfied: nbformat>=4.2.0 in /usr/local/lib/python3.6/dist-packages (from ipywidgets>=7.0.0->swifter) (5.0.7)\n",
            "Requirement already satisfied: ipykernel>=4.5.1 in /usr/local/lib/python3.6/dist-packages (from ipywidgets>=7.0.0->swifter) (4.10.1)\n",
            "Requirement already satisfied: widgetsnbextension~=3.5.0 in /usr/local/lib/python3.6/dist-packages (from ipywidgets>=7.0.0->swifter) (3.5.1)\n",
            "Requirement already satisfied: traitlets>=4.3.1 in /usr/local/lib/python3.6/dist-packages (from ipywidgets>=7.0.0->swifter) (4.3.3)\n",
            "Requirement already satisfied: ipython>=4.0.0; python_version >= \"3.3\" in /usr/local/lib/python3.6/dist-packages (from ipywidgets>=7.0.0->swifter) (5.5.0)\n",
            "Requirement already satisfied: six>=1.9.0 in /usr/local/lib/python3.6/dist-packages (from bleach>=3.1.1->swifter) (1.15.0)\n",
            "Requirement already satisfied: packaging in /usr/local/lib/python3.6/dist-packages (from bleach>=3.1.1->swifter) (20.4)\n",
            "Requirement already satisfied: webencodings in /usr/local/lib/python3.6/dist-packages (from bleach>=3.1.1->swifter) (0.5.1)\n",
            "Requirement already satisfied: pyarrow<0.17; extra == \"ray\" in /usr/local/lib/python3.6/dist-packages (from modin[ray]>=0.7.4->swifter) (0.14.1)\n",
            "Collecting ray==0.8.6; extra == \"ray\"\n",
            "\u001b[?25l  Downloading https://files.pythonhosted.org/packages/ea/0b/f253e92aee1225d9d0ef21dd15514352ce87f6dbc55de70707bc9d52477f/ray-0.8.6-cp36-cp36m-manylinux1_x86_64.whl (21.9MB)\n",
            "\u001b[K     |████████████████████████████████| 21.9MB 194kB/s \n",
            "\u001b[?25hRequirement already satisfied: python-dateutil>=2.6.1 in /usr/local/lib/python3.6/dist-packages (from pandas>=0.23.0->swifter) (2.8.1)\n",
            "Requirement already satisfied: pytz>=2017.2 in /usr/local/lib/python3.6/dist-packages (from pandas>=0.23.0->swifter) (2018.9)\n",
            "Requirement already satisfied: numpy>=1.13.3 in /usr/local/lib/python3.6/dist-packages (from pandas>=0.23.0->swifter) (1.18.5)\n",
            "Requirement already satisfied: cloudpickle>=0.2.1; extra == \"complete\" in /usr/local/lib/python3.6/dist-packages (from dask[complete]>=0.19.0->swifter) (1.3.0)\n",
            "Requirement already satisfied: bokeh>=1.0.0; extra == \"complete\" in /usr/local/lib/python3.6/dist-packages (from dask[complete]>=0.19.0->swifter) (2.1.1)\n",
            "Requirement already satisfied: toolz>=0.7.3; extra == \"complete\" in /usr/local/lib/python3.6/dist-packages (from dask[complete]>=0.19.0->swifter) (0.10.0)\n",
            "Collecting distributed>=2.0; extra == \"complete\"\n",
            "\u001b[?25l  Downloading https://files.pythonhosted.org/packages/1c/ce/81c45382fae736dc2b0a56358b117800939f3dab51933782c4c340a772de/distributed-2.25.0-py3-none-any.whl (652kB)\n",
            "\u001b[K     |████████████████████████████████| 655kB 60.6MB/s \n",
            "\u001b[?25hCollecting partd>=0.3.10; extra == \"complete\"\n",
            "  Downloading https://files.pythonhosted.org/packages/44/e1/68dbe731c9c067655bff1eca5b7d40c20ca4b23fd5ec9f3d17e201a6f36b/partd-1.1.0-py3-none-any.whl\n",
            "Collecting fsspec>=0.6.0; extra == \"complete\"\n",
            "\u001b[?25l  Downloading https://files.pythonhosted.org/packages/d3/66/974e01194980d9780cc09724315111f9cccba26b4351552fdb4d97eb842e/fsspec-0.8.0-py3-none-any.whl (85kB)\n",
            "\u001b[K     |████████████████████████████████| 92kB 11.3MB/s \n",
            "\u001b[?25hRequirement already satisfied: PyYaml; extra == \"complete\" in /usr/local/lib/python3.6/dist-packages (from dask[complete]>=0.19.0->swifter) (3.13)\n",
            "Requirement already satisfied: jupyter-core in /usr/local/lib/python3.6/dist-packages (from nbformat>=4.2.0->ipywidgets>=7.0.0->swifter) (4.6.3)\n",
            "Requirement already satisfied: ipython-genutils in /usr/local/lib/python3.6/dist-packages (from nbformat>=4.2.0->ipywidgets>=7.0.0->swifter) (0.2.0)\n",
            "Requirement already satisfied: jsonschema!=2.5.0,>=2.4 in /usr/local/lib/python3.6/dist-packages (from nbformat>=4.2.0->ipywidgets>=7.0.0->swifter) (2.6.0)\n",
            "Requirement already satisfied: jupyter-client in /usr/local/lib/python3.6/dist-packages (from ipykernel>=4.5.1->ipywidgets>=7.0.0->swifter) (5.3.5)\n",
            "Requirement already satisfied: tornado>=4.0 in /usr/local/lib/python3.6/dist-packages (from ipykernel>=4.5.1->ipywidgets>=7.0.0->swifter) (5.1.1)\n",
            "Requirement already satisfied: notebook>=4.4.1 in /usr/local/lib/python3.6/dist-packages (from widgetsnbextension~=3.5.0->ipywidgets>=7.0.0->swifter) (5.3.1)\n",
            "Requirement already satisfied: decorator in /usr/local/lib/python3.6/dist-packages (from traitlets>=4.3.1->ipywidgets>=7.0.0->swifter) (4.4.2)\n",
            "Requirement already satisfied: setuptools>=18.5 in /usr/local/lib/python3.6/dist-packages (from ipython>=4.0.0; python_version >= \"3.3\"->ipywidgets>=7.0.0->swifter) (49.6.0)\n",
            "Requirement already satisfied: simplegeneric>0.8 in /usr/local/lib/python3.6/dist-packages (from ipython>=4.0.0; python_version >= \"3.3\"->ipywidgets>=7.0.0->swifter) (0.8.1)\n",
            "Requirement already satisfied: pexpect; sys_platform != \"win32\" in /usr/local/lib/python3.6/dist-packages (from ipython>=4.0.0; python_version >= \"3.3\"->ipywidgets>=7.0.0->swifter) (4.8.0)\n",
            "Requirement already satisfied: pygments in /usr/local/lib/python3.6/dist-packages (from ipython>=4.0.0; python_version >= \"3.3\"->ipywidgets>=7.0.0->swifter) (2.1.3)\n",
            "Requirement already satisfied: pickleshare in /usr/local/lib/python3.6/dist-packages (from ipython>=4.0.0; python_version >= \"3.3\"->ipywidgets>=7.0.0->swifter) (0.7.5)\n",
            "Requirement already satisfied: prompt-toolkit<2.0.0,>=1.0.4 in /usr/local/lib/python3.6/dist-packages (from ipython>=4.0.0; python_version >= \"3.3\"->ipywidgets>=7.0.0->swifter) (1.0.18)\n",
            "Requirement already satisfied: pyparsing>=2.0.2 in /usr/local/lib/python3.6/dist-packages (from packaging->bleach>=3.1.1->swifter) (2.4.7)\n",
            "Collecting py-spy>=0.2.0\n",
            "\u001b[?25l  Downloading https://files.pythonhosted.org/packages/8e/a7/ab45c9ee3c4654edda3efbd6b8e2fa4962226718a7e3e3be6e3926bf3617/py_spy-0.3.3-py2.py3-none-manylinux1_x86_64.whl (2.9MB)\n",
            "\u001b[K     |████████████████████████████████| 2.9MB 63.0MB/s \n",
            "\u001b[?25hCollecting redis<3.5.0,>=3.3.2\n",
            "\u001b[?25l  Downloading https://files.pythonhosted.org/packages/f0/05/1fc7feedc19c123e7a95cfc9e7892eb6cdd2e5df4e9e8af6384349c1cc3d/redis-3.4.1-py2.py3-none-any.whl (71kB)\n",
            "\u001b[K     |████████████████████████████████| 71kB 8.7MB/s \n",
            "\u001b[?25hCollecting colorama\n",
            "  Downloading https://files.pythonhosted.org/packages/c9/dc/45cdef1b4d119eb96316b3117e6d5708a08029992b2fee2c143c7a0a5cc5/colorama-0.4.3-py2.py3-none-any.whl\n",
            "Requirement already satisfied: grpcio in /usr/local/lib/python3.6/dist-packages (from ray==0.8.6; extra == \"ray\"->modin[ray]>=0.7.4->swifter) (1.31.0)\n",
            "Requirement already satisfied: protobuf>=3.8.0 in /usr/local/lib/python3.6/dist-packages (from ray==0.8.6; extra == \"ray\"->modin[ray]>=0.7.4->swifter) (3.12.4)\n",
            "Requirement already satisfied: msgpack<2.0.0,>=0.6.0 in /usr/local/lib/python3.6/dist-packages (from ray==0.8.6; extra == \"ray\"->modin[ray]>=0.7.4->swifter) (1.0.0)\n",
            "Collecting aiohttp\n",
            "\u001b[?25l  Downloading https://files.pythonhosted.org/packages/7c/39/7eb5f98d24904e0f6d3edb505d4aa60e3ef83c0a58d6fe18244a51757247/aiohttp-3.6.2-cp36-cp36m-manylinux1_x86_64.whl (1.2MB)\n",
            "\u001b[K     |████████████████████████████████| 1.2MB 59.3MB/s \n",
            "\u001b[?25hRequirement already satisfied: google in /usr/local/lib/python3.6/dist-packages (from ray==0.8.6; extra == \"ray\"->modin[ray]>=0.7.4->swifter) (2.0.3)\n",
            "Requirement already satisfied: click>=7.0 in /usr/local/lib/python3.6/dist-packages (from ray==0.8.6; extra == \"ray\"->modin[ray]>=0.7.4->swifter) (7.1.2)\n",
            "Requirement already satisfied: filelock in /usr/local/lib/python3.6/dist-packages (from ray==0.8.6; extra == \"ray\"->modin[ray]>=0.7.4->swifter) (3.0.12)\n",
            "Requirement already satisfied: pillow>=4.0 in /usr/local/lib/python3.6/dist-packages (from bokeh>=1.0.0; extra == \"complete\"->dask[complete]>=0.19.0->swifter) (7.0.0)\n",
            "Requirement already satisfied: Jinja2>=2.7 in /usr/local/lib/python3.6/dist-packages (from bokeh>=1.0.0; extra == \"complete\"->dask[complete]>=0.19.0->swifter) (2.11.2)\n",
            "Requirement already satisfied: typing-extensions>=3.7.4 in /usr/local/lib/python3.6/dist-packages (from bokeh>=1.0.0; extra == \"complete\"->dask[complete]>=0.19.0->swifter) (3.7.4.3)\n",
            "Requirement already satisfied: tblib>=1.6.0 in /usr/local/lib/python3.6/dist-packages (from distributed>=2.0; extra == \"complete\"->dask[complete]>=0.19.0->swifter) (1.7.0)\n",
            "Collecting contextvars; python_version < \"3.7\"\n",
            "  Downloading https://files.pythonhosted.org/packages/83/96/55b82d9f13763be9d672622e1b8106c85acb83edd7cc2fa5bc67cd9877e9/contextvars-2.4.tar.gz\n",
            "Requirement already satisfied: zict>=0.1.3 in /usr/local/lib/python3.6/dist-packages (from distributed>=2.0; extra == \"complete\"->dask[complete]>=0.19.0->swifter) (2.0.0)\n",
            "Requirement already satisfied: sortedcontainers!=2.0.0,!=2.0.1 in /usr/local/lib/python3.6/dist-packages (from distributed>=2.0; extra == \"complete\"->dask[complete]>=0.19.0->swifter) (2.2.2)\n",
            "Collecting locket\n",
            "  Downloading https://files.pythonhosted.org/packages/d0/22/3c0f97614e0be8386542facb3a7dcfc2584f7b83608c02333bced641281c/locket-0.2.0.tar.gz\n",
            "Requirement already satisfied: pyzmq>=13 in /usr/local/lib/python3.6/dist-packages (from jupyter-client->ipykernel>=4.5.1->ipywidgets>=7.0.0->swifter) (19.0.2)\n",
            "Requirement already satisfied: terminado>=0.8.1 in /usr/local/lib/python3.6/dist-packages (from notebook>=4.4.1->widgetsnbextension~=3.5.0->ipywidgets>=7.0.0->swifter) (0.8.3)\n",
            "Requirement already satisfied: Send2Trash in /usr/local/lib/python3.6/dist-packages (from notebook>=4.4.1->widgetsnbextension~=3.5.0->ipywidgets>=7.0.0->swifter) (1.5.0)\n",
            "Requirement already satisfied: nbconvert in /usr/local/lib/python3.6/dist-packages (from notebook>=4.4.1->widgetsnbextension~=3.5.0->ipywidgets>=7.0.0->swifter) (5.6.1)\n",
            "Requirement already satisfied: ptyprocess>=0.5 in /usr/local/lib/python3.6/dist-packages (from pexpect; sys_platform != \"win32\"->ipython>=4.0.0; python_version >= \"3.3\"->ipywidgets>=7.0.0->swifter) (0.6.0)\n",
            "Requirement already satisfied: wcwidth in /usr/local/lib/python3.6/dist-packages (from prompt-toolkit<2.0.0,>=1.0.4->ipython>=4.0.0; python_version >= \"3.3\"->ipywidgets>=7.0.0->swifter) (0.2.5)\n",
            "Requirement already satisfied: attrs>=17.3.0 in /usr/local/lib/python3.6/dist-packages (from aiohttp->ray==0.8.6; extra == \"ray\"->modin[ray]>=0.7.4->swifter) (20.1.0)\n",
            "Requirement already satisfied: chardet<4.0,>=2.0 in /usr/local/lib/python3.6/dist-packages (from aiohttp->ray==0.8.6; extra == \"ray\"->modin[ray]>=0.7.4->swifter) (3.0.4)\n",
            "Collecting idna-ssl>=1.0; python_version < \"3.7\"\n",
            "  Downloading https://files.pythonhosted.org/packages/46/03/07c4894aae38b0de52b52586b24bf189bb83e4ddabfe2e2c8f2419eec6f4/idna-ssl-1.1.0.tar.gz\n",
            "Collecting yarl<2.0,>=1.0\n",
            "\u001b[?25l  Downloading https://files.pythonhosted.org/packages/a0/b4/2cbeaf2c3ea53865d9613b315fe24e78c66acedb1df7e4be4e064c87203b/yarl-1.5.1-cp36-cp36m-manylinux1_x86_64.whl (257kB)\n",
            "\u001b[K     |████████████████████████████████| 266kB 62.2MB/s \n",
            "\u001b[?25hCollecting async-timeout<4.0,>=3.0\n",
            "  Downloading https://files.pythonhosted.org/packages/e1/1e/5a4441be21b0726c4464f3f23c8b19628372f606755a9d2e46c187e65ec4/async_timeout-3.0.1-py3-none-any.whl\n",
            "Collecting multidict<5.0,>=4.5\n",
            "\u001b[?25l  Downloading https://files.pythonhosted.org/packages/1a/95/f50352b5366e7d579e8b99631680a9e32e1b22adfa1629a8f23b1d22d5e2/multidict-4.7.6-cp36-cp36m-manylinux1_x86_64.whl (148kB)\n",
            "\u001b[K     |████████████████████████████████| 153kB 60.5MB/s \n",
            "\u001b[?25hRequirement already satisfied: beautifulsoup4 in /usr/local/lib/python3.6/dist-packages (from google->ray==0.8.6; extra == \"ray\"->modin[ray]>=0.7.4->swifter) (4.6.3)\n",
            "Requirement already satisfied: MarkupSafe>=0.23 in /usr/local/lib/python3.6/dist-packages (from Jinja2>=2.7->bokeh>=1.0.0; extra == \"complete\"->dask[complete]>=0.19.0->swifter) (1.1.1)\n",
            "Collecting immutables>=0.9\n",
            "\u001b[?25l  Downloading https://files.pythonhosted.org/packages/99/e0/ea6fd4697120327d26773b5a84853f897a68e33d3f9376b00a8ff96e4f63/immutables-0.14-cp36-cp36m-manylinux1_x86_64.whl (98kB)\n",
            "\u001b[K     |████████████████████████████████| 102kB 12.3MB/s \n",
            "\u001b[?25hRequirement already satisfied: heapdict in /usr/local/lib/python3.6/dist-packages (from zict>=0.1.3->distributed>=2.0; extra == \"complete\"->dask[complete]>=0.19.0->swifter) (1.0.1)\n",
            "Requirement already satisfied: mistune<2,>=0.8.1 in /usr/local/lib/python3.6/dist-packages (from nbconvert->notebook>=4.4.1->widgetsnbextension~=3.5.0->ipywidgets>=7.0.0->swifter) (0.8.4)\n",
            "Requirement already satisfied: entrypoints>=0.2.2 in /usr/local/lib/python3.6/dist-packages (from nbconvert->notebook>=4.4.1->widgetsnbextension~=3.5.0->ipywidgets>=7.0.0->swifter) (0.3)\n",
            "Requirement already satisfied: pandocfilters>=1.4.1 in /usr/local/lib/python3.6/dist-packages (from nbconvert->notebook>=4.4.1->widgetsnbextension~=3.5.0->ipywidgets>=7.0.0->swifter) (1.4.2)\n",
            "Requirement already satisfied: defusedxml in /usr/local/lib/python3.6/dist-packages (from nbconvert->notebook>=4.4.1->widgetsnbextension~=3.5.0->ipywidgets>=7.0.0->swifter) (0.6.0)\n",
            "Requirement already satisfied: testpath in /usr/local/lib/python3.6/dist-packages (from nbconvert->notebook>=4.4.1->widgetsnbextension~=3.5.0->ipywidgets>=7.0.0->swifter) (0.4.4)\n",
            "Requirement already satisfied: idna>=2.0 in /usr/local/lib/python3.6/dist-packages (from idna-ssl>=1.0; python_version < \"3.7\"->aiohttp->ray==0.8.6; extra == \"ray\"->modin[ray]>=0.7.4->swifter) (2.10)\n",
            "Building wheels for collected packages: psutil, contextvars, locket, idna-ssl\n",
            "  Building wheel for psutil (setup.py) ... \u001b[?25l\u001b[?25hdone\n",
            "  Created wheel for psutil: filename=psutil-5.7.2-cp36-cp36m-linux_x86_64.whl size=279887 sha256=b2fbad3cd919df2bdf88d00ec381a20fc74c3259f2b4b63e8c3e085d3b5dd0c0\n",
            "  Stored in directory: /root/.cache/pip/wheels/39/a0/f5/c4fa280463e29aea07797acb5312358fefb067c1f4f98e11b1\n",
            "  Building wheel for contextvars (setup.py) ... \u001b[?25l\u001b[?25hdone\n",
            "  Created wheel for contextvars: filename=contextvars-2.4-cp36-none-any.whl size=7666 sha256=6c50f23ba570adea8f7431c0a78842f3a88e38e2d7a55859542bab9d9be2cdb1\n",
            "  Stored in directory: /root/.cache/pip/wheels/a5/7d/68/1ebae2668bda2228686e3c1cf16f2c2384cea6e9334ad5f6de\n",
            "  Building wheel for locket (setup.py) ... \u001b[?25l\u001b[?25hdone\n",
            "  Created wheel for locket: filename=locket-0.2.0-cp36-none-any.whl size=4040 sha256=c4d520c795f5da30eb447b4f79bb281b7b2a6a9fe669aa7127d2fdbb5ae73cc2\n",
            "  Stored in directory: /root/.cache/pip/wheels/26/1e/e8/4fa236ec931b1a0cdd61578e20d4934d7bf188858723b84698\n",
            "  Building wheel for idna-ssl (setup.py) ... \u001b[?25l\u001b[?25hdone\n",
            "  Created wheel for idna-ssl: filename=idna_ssl-1.1.0-cp36-none-any.whl size=3161 sha256=0d18691d73c80d5ba08a170829453d48c499b903a404a2df861be648605a18da\n",
            "  Stored in directory: /root/.cache/pip/wheels/d3/00/b3/32d613e19e08a739751dd6bf998cfed277728f8b2127ad4eb7\n",
            "Successfully built psutil contextvars locket idna-ssl\n",
            "\u001b[31mERROR: distributed 2.25.0 has requirement cloudpickle>=1.5.0, but you'll have cloudpickle 1.3.0 which is incompatible.\u001b[0m\n",
            "Installing collected packages: psutil, py-spy, redis, colorama, idna-ssl, multidict, yarl, async-timeout, aiohttp, ray, modin, swifter, immutables, contextvars, distributed, locket, partd, fsspec\n",
            "  Found existing installation: psutil 5.4.8\n",
            "    Uninstalling psutil-5.4.8:\n",
            "      Successfully uninstalled psutil-5.4.8\n",
            "  Found existing installation: distributed 1.25.3\n",
            "    Uninstalling distributed-1.25.3:\n",
            "      Successfully uninstalled distributed-1.25.3\n",
            "Successfully installed aiohttp-3.6.2 async-timeout-3.0.1 colorama-0.4.3 contextvars-2.4 distributed-2.25.0 fsspec-0.8.0 idna-ssl-1.1.0 immutables-0.14 locket-0.2.0 modin-0.8.0 multidict-4.7.6 partd-1.1.0 psutil-5.7.2 py-spy-0.3.3 ray-0.8.6 redis-3.4.1 swifter-1.0.3 yarl-1.5.1\n"
          ],
          "name": "stdout"
        },
        {
          "output_type": "display_data",
          "data": {
            "application/vnd.colab-display-data+json": {
              "pip_warning": {
                "packages": [
                  "psutil"
                ]
              }
            }
          },
          "metadata": {
            "tags": []
          }
        }
      ]
    },
    {
      "cell_type": "markdown",
      "metadata": {
        "id": "n5LLM8ROejdd"
      },
      "source": [
        "# 2. Clean the Text"
      ]
    },
    {
      "cell_type": "code",
      "metadata": {
        "id": "D8J-aHEas8pE"
      },
      "source": [
        "#Change text to lower case, remove punctuation, remove bad characters\n",
        "\n",
        "from nltk.corpus import stopwords\n",
        "import swifter\n",
        "#swifter ensures the fastest processing by utilizing all of the cores of our Vcpu\n",
        "df = df.reset_index(drop=True)\n",
        "REPLACE_BY_SPACE_RE = re.compile('[/(){}\\[\\]\\|@,;]')\n",
        "BAD_SYMBOLS_RE = re.compile('[^0-9a-z #+_]')\n",
        "\n",
        "\n",
        "def clean_text(text):\n",
        "    \"\"\"\n",
        "        text: a string\n",
        "        \n",
        "        return: modified initial string\n",
        "    \"\"\"\n",
        "    text = text.lower() # lowercase text\n",
        "    text = REPLACE_BY_SPACE_RE.sub(' ', text) # replace REPLACE_BY_SPACE_RE symbols by space in text. substitute the matched string in REPLACE_BY_SPACE_RE with space.\n",
        "    text = BAD_SYMBOLS_RE.sub('', text) # remove symbols which are in BAD_SYMBOLS_RE from text. substitute the matched string in BAD_SYMBOLS_RE with nothing. \n",
        "    text = text.replace('x', '')\n",
        "    return text\n"
      ],
      "execution_count": null,
      "outputs": []
    },
    {
      "cell_type": "code",
      "metadata": {
        "id": "cgUjzygms8pG",
        "colab": {
          "base_uri": "https://localhost:8080/",
          "height": 66,
          "referenced_widgets": [
            "570d8898070d493e85667ae3c736e51d",
            "859493d2b0e8498c900a6e3a12da1812",
            "246e96b44960441ea7b7b8c2489e876e",
            "26872879c6994734b3d43bb4412bf01c",
            "086f034553bf4a328502d4bd2f126204",
            "2048be509901458498fbbf77a5e7874c",
            "65c41a1bcfdb4cdd9d3d0260d196417c",
            "4b40109ef58f4fe6b82cb627af804d15"
          ]
        },
        "outputId": "08e64014-efba-44a1-f035-d0e1a10abb39"
      },
      "source": [
        "df['clean'] = df['Consumer complaint narrative'].swifter.apply(clean_text)"
      ],
      "execution_count": null,
      "outputs": [
        {
          "output_type": "display_data",
          "data": {
            "application/vnd.jupyter.widget-view+json": {
              "model_id": "570d8898070d493e85667ae3c736e51d",
              "version_minor": 0,
              "version_major": 2
            },
            "text/plain": [
              "HBox(children=(FloatProgress(value=0.0, description='Pandas Apply', max=2847.0, style=ProgressStyle(descriptio…"
            ]
          },
          "metadata": {
            "tags": []
          }
        },
        {
          "output_type": "stream",
          "text": [
            "\n"
          ],
          "name": "stdout"
        }
      ]
    },
    {
      "cell_type": "code",
      "metadata": {
        "id": "MCOkedqPJIhT"
      },
      "source": [
        "nlp.add_pipe(nlp.create_pipe('sentencizer'))"
      ],
      "execution_count": null,
      "outputs": []
    },
    {
      "cell_type": "code",
      "metadata": {
        "id": "EK2bfm-MJaUe"
      },
      "source": [
        "STOPWORDS = set(stopwords.words('english'))\n",
        "def lemmatize(text):\n",
        "  \"\"\"Perform lemmatization and stopword removal in clean text\"\"\"\n",
        "  doc = nlp(text)\n",
        "  lemma_list = [str(tok.lemma_).lower() for tok in doc\n",
        "                if tok.is_alpha and tok.text.lower() not in STOPWORDS]\n",
        "  return lemma_list"
      ],
      "execution_count": null,
      "outputs": []
    },
    {
      "cell_type": "code",
      "metadata": {
        "id": "ScmCCdZQJqFN",
        "colab": {
          "base_uri": "https://localhost:8080/",
          "height": 100,
          "referenced_widgets": [
            "90d5df8c21b54a44b96ec29d28eceb62",
            "97d5a3d668ef465fa84b52b753a94d8c",
            "239605a318df4cd0b8702ecbaa6e8986",
            "3fe531a0b9d248e9b5571843bdb47811",
            "cedd24e0df0c4209bb18754162f748f8",
            "a03fdb82ee834712ab096f88b70f338c",
            "66098a1046b54ef1bb2d0cd87685f5f0",
            "0bdf1630ad9641478120d7b3a2c5500b"
          ]
        },
        "outputId": "2ba7e13f-a6f1-44f9-bcc1-12ba3e8d6863"
      },
      "source": [
        "%%time\n",
        "df['lemmatize'] = df['clean'].swifter.apply(lemmatize)"
      ],
      "execution_count": null,
      "outputs": [
        {
          "output_type": "display_data",
          "data": {
            "application/vnd.jupyter.widget-view+json": {
              "model_id": "90d5df8c21b54a44b96ec29d28eceb62",
              "version_minor": 0,
              "version_major": 2
            },
            "text/plain": [
              "HBox(children=(FloatProgress(value=0.0, description='Pandas Apply', max=2847.0, style=ProgressStyle(descriptio…"
            ]
          },
          "metadata": {
            "tags": []
          }
        },
        {
          "output_type": "stream",
          "text": [
            "\n",
            "CPU times: user 1min 32s, sys: 670 ms, total: 1min 33s\n",
            "Wall time: 1min 33s\n"
          ],
          "name": "stdout"
        }
      ]
    },
    {
      "cell_type": "code",
      "metadata": {
        "id": "TE2Nm680X_R-"
      },
      "source": [
        "#return back to string without brackets\n",
        "df['clean_text'] = [' '.join(map(str,l)) for l in df['lemmatize']] "
      ],
      "execution_count": null,
      "outputs": []
    },
    {
      "cell_type": "code",
      "metadata": {
        "id": "tsEpdLj7s8pI",
        "colab": {
          "base_uri": "https://localhost:8080/",
          "height": 589
        },
        "outputId": "be8c2cc7-945f-4fc1-c3a4-e76bfa8ec4ea"
      },
      "source": [
        "df"
      ],
      "execution_count": null,
      "outputs": [
        {
          "output_type": "execute_result",
          "data": {
            "text/html": [
              "<div>\n",
              "<style scoped>\n",
              "    .dataframe tbody tr th:only-of-type {\n",
              "        vertical-align: middle;\n",
              "    }\n",
              "\n",
              "    .dataframe tbody tr th {\n",
              "        vertical-align: top;\n",
              "    }\n",
              "\n",
              "    .dataframe thead th {\n",
              "        text-align: right;\n",
              "    }\n",
              "</style>\n",
              "<table border=\"1\" class=\"dataframe\">\n",
              "  <thead>\n",
              "    <tr style=\"text-align: right;\">\n",
              "      <th></th>\n",
              "      <th>Product</th>\n",
              "      <th>Consumer complaint narrative</th>\n",
              "      <th>clean</th>\n",
              "      <th>lemmatize</th>\n",
              "      <th>clean_text</th>\n",
              "    </tr>\n",
              "  </thead>\n",
              "  <tbody>\n",
              "    <tr>\n",
              "      <th>0</th>\n",
              "      <td>Credit reporting, credit repair services, or o...</td>\n",
              "      <td>XXXX  ; XXXX  and Transunion should not be rep...</td>\n",
              "      <td>and transunion should not be reporting a...</td>\n",
              "      <td>[transunion, report, collection, amount, accou...</td>\n",
              "      <td>transunion report collection amount account or...</td>\n",
              "    </tr>\n",
              "    <tr>\n",
              "      <th>1</th>\n",
              "      <td>Credit reporting, credit repair services, or o...</td>\n",
              "      <td>I sent multiple credit disputes with these com...</td>\n",
              "      <td>i sent multiple credit disputes with these com...</td>\n",
              "      <td>[send, multiple, credit, dispute, company, ask...</td>\n",
              "      <td>send multiple credit dispute company ask inves...</td>\n",
              "    </tr>\n",
              "    <tr>\n",
              "      <th>2</th>\n",
              "      <td>Credit card or prepaid card</td>\n",
              "      <td>My credit card was charged to an ATM withdrawa...</td>\n",
              "      <td>my credit card was charged to an atm withdrawa...</td>\n",
              "      <td>[credit, card, charge, atm, withdrawal, make, ...</td>\n",
              "      <td>credit card charge atm withdrawal make authori...</td>\n",
              "    </tr>\n",
              "    <tr>\n",
              "      <th>3</th>\n",
              "      <td>Credit reporting, credit repair services, or o...</td>\n",
              "      <td>THERE ARE SEVERAL ALLEGED COLLECTION, CHARGE A...</td>\n",
              "      <td>there are several alleged collection  charge a...</td>\n",
              "      <td>[several, alleged, collection, charge, unknown...</td>\n",
              "      <td>several alleged collection charge unknown inqu...</td>\n",
              "    </tr>\n",
              "    <tr>\n",
              "      <th>4</th>\n",
              "      <td>Credit reporting, credit repair services, or o...</td>\n",
              "      <td>I went to file my taxes and I was told by my c...</td>\n",
              "      <td>i went to file my taes and i was told by my co...</td>\n",
              "      <td>[go, file, tae, tell, consultant, social, secu...</td>\n",
              "      <td>go file tae tell consultant social security us...</td>\n",
              "    </tr>\n",
              "    <tr>\n",
              "      <th>...</th>\n",
              "      <td>...</td>\n",
              "      <td>...</td>\n",
              "      <td>...</td>\n",
              "      <td>...</td>\n",
              "      <td>...</td>\n",
              "    </tr>\n",
              "    <tr>\n",
              "      <th>2842</th>\n",
              "      <td>Debt collection</td>\n",
              "      <td>Repeated calls. Ive attempted to settle with n...</td>\n",
              "      <td>repeated calls ive attempted to settle with no...</td>\n",
              "      <td>[repeat, call, attempt, settle, resolution, re...</td>\n",
              "      <td>repeat call attempt settle resolution remove a...</td>\n",
              "    </tr>\n",
              "    <tr>\n",
              "      <th>2843</th>\n",
              "      <td>Credit reporting, credit repair services, or o...</td>\n",
              "      <td>AFTER A CAREFUL REVIEW OF MY CREDIT REPORT, I ...</td>\n",
              "      <td>after a careful review of my credit report  i ...</td>\n",
              "      <td>[careful, review, credit, report, identify, in...</td>\n",
              "      <td>careful review credit report identify inaccura...</td>\n",
              "    </tr>\n",
              "    <tr>\n",
              "      <th>2844</th>\n",
              "      <td>Credit reporting, credit repair services, or o...</td>\n",
              "      <td>I FILED A DISPUTE WITH THE CREDIT REPORTING AG...</td>\n",
              "      <td>i filed a dispute with the credit reporting ag...</td>\n",
              "      <td>[file, dispute, credit, reporting, agency, reg...</td>\n",
              "      <td>file dispute credit reporting agency regard in...</td>\n",
              "    </tr>\n",
              "    <tr>\n",
              "      <th>2845</th>\n",
              "      <td>Credit reporting, credit repair services, or o...</td>\n",
              "      <td>I was shocked when I reviewed my credit report...</td>\n",
              "      <td>i was shocked when i reviewed my credit report...</td>\n",
              "      <td>[shocked, review, credit, report, find, late, ...</td>\n",
              "      <td>shocked review credit report find late payment...</td>\n",
              "    </tr>\n",
              "    <tr>\n",
              "      <th>2846</th>\n",
              "      <td>Mortgage</td>\n",
              "      <td>I applied and was approved for COVID-19 relief...</td>\n",
              "      <td>i applied and was approved for covid19 relief ...</td>\n",
              "      <td>[apply, approve, relief, forbearance, end, tel...</td>\n",
              "      <td>apply approve relief forbearance end tell well...</td>\n",
              "    </tr>\n",
              "  </tbody>\n",
              "</table>\n",
              "<p>2847 rows × 5 columns</p>\n",
              "</div>"
            ],
            "text/plain": [
              "                                                Product  ...                                         clean_text\n",
              "0     Credit reporting, credit repair services, or o...  ...  transunion report collection amount account or...\n",
              "1     Credit reporting, credit repair services, or o...  ...  send multiple credit dispute company ask inves...\n",
              "2                           Credit card or prepaid card  ...  credit card charge atm withdrawal make authori...\n",
              "3     Credit reporting, credit repair services, or o...  ...  several alleged collection charge unknown inqu...\n",
              "4     Credit reporting, credit repair services, or o...  ...  go file tae tell consultant social security us...\n",
              "...                                                 ...  ...                                                ...\n",
              "2842                                    Debt collection  ...  repeat call attempt settle resolution remove a...\n",
              "2843  Credit reporting, credit repair services, or o...  ...  careful review credit report identify inaccura...\n",
              "2844  Credit reporting, credit repair services, or o...  ...  file dispute credit reporting agency regard in...\n",
              "2845  Credit reporting, credit repair services, or o...  ...  shocked review credit report find late payment...\n",
              "2846                                           Mortgage  ...  apply approve relief forbearance end tell well...\n",
              "\n",
              "[2847 rows x 5 columns]"
            ]
          },
          "metadata": {
            "tags": []
          },
          "execution_count": 23
        }
      ]
    },
    {
      "cell_type": "code",
      "metadata": {
        "id": "nOytozL5Z4In",
        "colab": {
          "base_uri": "https://localhost:8080/",
          "height": 103
        },
        "outputId": "2ffe7359-2335-44e6-ec2a-49833c7c5a90"
      },
      "source": [
        "#original text\n",
        "df['Consumer complaint narrative'][0]"
      ],
      "execution_count": null,
      "outputs": [
        {
          "output_type": "execute_result",
          "data": {
            "application/vnd.google.colaboratory.intrinsic+json": {
              "type": "string"
            },
            "text/plain": [
              "'XXXX  ; XXXX  and Transunion should not be reporting a collection in the amount of {$740.00} on the XXXX XXXX XXXX XXXX account, original account holder XXXX XXXX XXXX XXXX partial account number XXXX. ( Please see page attached from my credit report, along with a copy of my Drivers License for identification purposes. ) This is military housing and our housing is paid for by allotment. When we vacated the premises there was no outstanding balance due and therefore nothing to collect. This account needs to report a {$0.00} balance due. It is a violation of the Fair Credit Reporting Act to no report accurate information on a credit report. This false reporting of a collection is seriously harming my credit score and this line item needs to be removed from my credit report. I have contacted the bureaus to remove this however, I have not been successful.'"
            ]
          },
          "metadata": {
            "tags": []
          },
          "execution_count": 24
        }
      ]
    },
    {
      "cell_type": "code",
      "metadata": {
        "id": "bsg4KaCYaAAu",
        "colab": {
          "base_uri": "https://localhost:8080/",
          "height": 69
        },
        "outputId": "bdaf4542-1931-4c13-aa69-e884670f53dc"
      },
      "source": [
        "#processed text\n",
        "df['clean_text'][0]"
      ],
      "execution_count": null,
      "outputs": [
        {
          "output_type": "execute_result",
          "data": {
            "application/vnd.google.colaboratory.intrinsic+json": {
              "type": "string"
            },
            "text/plain": [
              "'transunion report collection amount account original account holder partial account number please see page attach credit report along copy driver license identification purpose military housing housing pay allotment vacate premise outstanding balance due therefore nothing collect account need report balance due violation fair credit reporting act report accurate information credit report false reporting collection seriously harm credit score line item need remove credit report contact bureaus remove however successful'"
            ]
          },
          "metadata": {
            "tags": []
          },
          "execution_count": 25
        }
      ]
    },
    {
      "cell_type": "code",
      "metadata": {
        "id": "_-2CZvMabYqb",
        "colab": {
          "base_uri": "https://localhost:8080/",
          "height": 589
        },
        "outputId": "81cc02cb-10f2-425a-92eb-a33c796d6976"
      },
      "source": [
        "df"
      ],
      "execution_count": null,
      "outputs": [
        {
          "output_type": "execute_result",
          "data": {
            "text/html": [
              "<div>\n",
              "<style scoped>\n",
              "    .dataframe tbody tr th:only-of-type {\n",
              "        vertical-align: middle;\n",
              "    }\n",
              "\n",
              "    .dataframe tbody tr th {\n",
              "        vertical-align: top;\n",
              "    }\n",
              "\n",
              "    .dataframe thead th {\n",
              "        text-align: right;\n",
              "    }\n",
              "</style>\n",
              "<table border=\"1\" class=\"dataframe\">\n",
              "  <thead>\n",
              "    <tr style=\"text-align: right;\">\n",
              "      <th></th>\n",
              "      <th>Product</th>\n",
              "      <th>Consumer complaint narrative</th>\n",
              "      <th>clean</th>\n",
              "      <th>lemmatize</th>\n",
              "      <th>clean_text</th>\n",
              "    </tr>\n",
              "  </thead>\n",
              "  <tbody>\n",
              "    <tr>\n",
              "      <th>0</th>\n",
              "      <td>Credit reporting, credit repair services, or o...</td>\n",
              "      <td>XXXX  ; XXXX  and Transunion should not be rep...</td>\n",
              "      <td>and transunion should not be reporting a...</td>\n",
              "      <td>[transunion, report, collection, amount, accou...</td>\n",
              "      <td>transunion report collection amount account or...</td>\n",
              "    </tr>\n",
              "    <tr>\n",
              "      <th>1</th>\n",
              "      <td>Credit reporting, credit repair services, or o...</td>\n",
              "      <td>I sent multiple credit disputes with these com...</td>\n",
              "      <td>i sent multiple credit disputes with these com...</td>\n",
              "      <td>[send, multiple, credit, dispute, company, ask...</td>\n",
              "      <td>send multiple credit dispute company ask inves...</td>\n",
              "    </tr>\n",
              "    <tr>\n",
              "      <th>2</th>\n",
              "      <td>Credit card or prepaid card</td>\n",
              "      <td>My credit card was charged to an ATM withdrawa...</td>\n",
              "      <td>my credit card was charged to an atm withdrawa...</td>\n",
              "      <td>[credit, card, charge, atm, withdrawal, make, ...</td>\n",
              "      <td>credit card charge atm withdrawal make authori...</td>\n",
              "    </tr>\n",
              "    <tr>\n",
              "      <th>3</th>\n",
              "      <td>Credit reporting, credit repair services, or o...</td>\n",
              "      <td>THERE ARE SEVERAL ALLEGED COLLECTION, CHARGE A...</td>\n",
              "      <td>there are several alleged collection  charge a...</td>\n",
              "      <td>[several, alleged, collection, charge, unknown...</td>\n",
              "      <td>several alleged collection charge unknown inqu...</td>\n",
              "    </tr>\n",
              "    <tr>\n",
              "      <th>4</th>\n",
              "      <td>Credit reporting, credit repair services, or o...</td>\n",
              "      <td>I went to file my taxes and I was told by my c...</td>\n",
              "      <td>i went to file my taes and i was told by my co...</td>\n",
              "      <td>[go, file, tae, tell, consultant, social, secu...</td>\n",
              "      <td>go file tae tell consultant social security us...</td>\n",
              "    </tr>\n",
              "    <tr>\n",
              "      <th>...</th>\n",
              "      <td>...</td>\n",
              "      <td>...</td>\n",
              "      <td>...</td>\n",
              "      <td>...</td>\n",
              "      <td>...</td>\n",
              "    </tr>\n",
              "    <tr>\n",
              "      <th>2842</th>\n",
              "      <td>Debt collection</td>\n",
              "      <td>Repeated calls. Ive attempted to settle with n...</td>\n",
              "      <td>repeated calls ive attempted to settle with no...</td>\n",
              "      <td>[repeat, call, attempt, settle, resolution, re...</td>\n",
              "      <td>repeat call attempt settle resolution remove a...</td>\n",
              "    </tr>\n",
              "    <tr>\n",
              "      <th>2843</th>\n",
              "      <td>Credit reporting, credit repair services, or o...</td>\n",
              "      <td>AFTER A CAREFUL REVIEW OF MY CREDIT REPORT, I ...</td>\n",
              "      <td>after a careful review of my credit report  i ...</td>\n",
              "      <td>[careful, review, credit, report, identify, in...</td>\n",
              "      <td>careful review credit report identify inaccura...</td>\n",
              "    </tr>\n",
              "    <tr>\n",
              "      <th>2844</th>\n",
              "      <td>Credit reporting, credit repair services, or o...</td>\n",
              "      <td>I FILED A DISPUTE WITH THE CREDIT REPORTING AG...</td>\n",
              "      <td>i filed a dispute with the credit reporting ag...</td>\n",
              "      <td>[file, dispute, credit, reporting, agency, reg...</td>\n",
              "      <td>file dispute credit reporting agency regard in...</td>\n",
              "    </tr>\n",
              "    <tr>\n",
              "      <th>2845</th>\n",
              "      <td>Credit reporting, credit repair services, or o...</td>\n",
              "      <td>I was shocked when I reviewed my credit report...</td>\n",
              "      <td>i was shocked when i reviewed my credit report...</td>\n",
              "      <td>[shocked, review, credit, report, find, late, ...</td>\n",
              "      <td>shocked review credit report find late payment...</td>\n",
              "    </tr>\n",
              "    <tr>\n",
              "      <th>2846</th>\n",
              "      <td>Mortgage</td>\n",
              "      <td>I applied and was approved for COVID-19 relief...</td>\n",
              "      <td>i applied and was approved for covid19 relief ...</td>\n",
              "      <td>[apply, approve, relief, forbearance, end, tel...</td>\n",
              "      <td>apply approve relief forbearance end tell well...</td>\n",
              "    </tr>\n",
              "  </tbody>\n",
              "</table>\n",
              "<p>2847 rows × 5 columns</p>\n",
              "</div>"
            ],
            "text/plain": [
              "                                                Product  ...                                         clean_text\n",
              "0     Credit reporting, credit repair services, or o...  ...  transunion report collection amount account or...\n",
              "1     Credit reporting, credit repair services, or o...  ...  send multiple credit dispute company ask inves...\n",
              "2                           Credit card or prepaid card  ...  credit card charge atm withdrawal make authori...\n",
              "3     Credit reporting, credit repair services, or o...  ...  several alleged collection charge unknown inqu...\n",
              "4     Credit reporting, credit repair services, or o...  ...  go file tae tell consultant social security us...\n",
              "...                                                 ...  ...                                                ...\n",
              "2842                                    Debt collection  ...  repeat call attempt settle resolution remove a...\n",
              "2843  Credit reporting, credit repair services, or o...  ...  careful review credit report identify inaccura...\n",
              "2844  Credit reporting, credit repair services, or o...  ...  file dispute credit reporting agency regard in...\n",
              "2845  Credit reporting, credit repair services, or o...  ...  shocked review credit report find late payment...\n",
              "2846                                           Mortgage  ...  apply approve relief forbearance end tell well...\n",
              "\n",
              "[2847 rows x 5 columns]"
            ]
          },
          "metadata": {
            "tags": []
          },
          "execution_count": 26
        }
      ]
    },
    {
      "cell_type": "markdown",
      "metadata": {
        "id": "0dH5unfYeotq"
      },
      "source": [
        "# 3. Prepare text for Machine Learning"
      ]
    },
    {
      "cell_type": "code",
      "metadata": {
        "id": "Z0WO7o6Ns8pN"
      },
      "source": [
        "from sklearn.feature_extraction.text import TfidfVectorizer"
      ],
      "execution_count": null,
      "outputs": []
    },
    {
      "cell_type": "code",
      "metadata": {
        "id": "vExPIsqOl8SI"
      },
      "source": [
        "from sklearn.metrics import accuracy_score"
      ],
      "execution_count": null,
      "outputs": []
    },
    {
      "cell_type": "code",
      "metadata": {
        "id": "2abyC_znmHLE"
      },
      "source": [
        "from sklearn.metrics import balanced_accuracy_score"
      ],
      "execution_count": null,
      "outputs": []
    },
    {
      "cell_type": "code",
      "metadata": {
        "id": "cKkGkkKIs8pP"
      },
      "source": [
        "from sklearn.pipeline import Pipeline"
      ],
      "execution_count": null,
      "outputs": []
    },
    {
      "cell_type": "code",
      "metadata": {
        "id": "q81dZdShs8pR"
      },
      "source": [
        "from sklearn.metrics import classification_report, confusion_matrix"
      ],
      "execution_count": null,
      "outputs": []
    },
    {
      "cell_type": "code",
      "metadata": {
        "id": "7XBMB2QHs8pT"
      },
      "source": [
        "from sklearn.model_selection import train_test_split"
      ],
      "execution_count": null,
      "outputs": []
    },
    {
      "cell_type": "code",
      "metadata": {
        "id": "wfJsBmuZs8pV"
      },
      "source": [
        "from sklearn.feature_selection import SelectKBest, chi2"
      ],
      "execution_count": null,
      "outputs": []
    },
    {
      "cell_type": "code",
      "metadata": {
        "id": "Or7s4hV1s8pY"
      },
      "source": [
        "from sklearn.ensemble import RandomForestClassifier"
      ],
      "execution_count": null,
      "outputs": []
    },
    {
      "cell_type": "code",
      "metadata": {
        "id": "k9GKHzqos8pa"
      },
      "source": [
        "X = df['clean_text']"
      ],
      "execution_count": null,
      "outputs": []
    },
    {
      "cell_type": "code",
      "metadata": {
        "id": "7BxrAgrTs8pc"
      },
      "source": [
        "y = df['Product']"
      ],
      "execution_count": null,
      "outputs": []
    },
    {
      "cell_type": "code",
      "metadata": {
        "id": "vkHOOc0es8pe"
      },
      "source": [
        "X_train, X_test, y_train, y_test = train_test_split(X, y, test_size = 0.2)"
      ],
      "execution_count": null,
      "outputs": []
    },
    {
      "cell_type": "code",
      "metadata": {
        "id": "033ECHeUs8pg"
      },
      "source": [
        "vectorizer = TfidfVectorizer(stop_words = STOPWORDS)"
      ],
      "execution_count": null,
      "outputs": []
    },
    {
      "cell_type": "markdown",
      "metadata": {
        "id": "MVjGjUZUewmp"
      },
      "source": [
        "# 4. Create Machine Learning Pipeline"
      ]
    },
    {
      "cell_type": "code",
      "metadata": {
        "id": "zVWLoVeFs8pi"
      },
      "source": [
        "pipelinerfc = Pipeline([('vect', vectorizer),\n",
        "                    ('chi', SelectKBest(chi2)),\n",
        "                    ('clf', RandomForestClassifier(n_jobs = -1))])"
      ],
      "execution_count": null,
      "outputs": []
    },
    {
      "cell_type": "code",
      "metadata": {
        "id": "UNBHJswla0XZ"
      },
      "source": [
        "from xgboost import XGBClassifier\n",
        "\n",
        "pipelinexgb = Pipeline([('vect', vectorizer),\n",
        "                    ('chi', SelectKBest(chi2)),\n",
        "                    ('clf', XGBClassifier(n_jobs = -1))])"
      ],
      "execution_count": null,
      "outputs": []
    },
    {
      "cell_type": "code",
      "metadata": {
        "id": "HoH2G9yza0fG"
      },
      "source": [
        ""
      ],
      "execution_count": null,
      "outputs": []
    },
    {
      "cell_type": "markdown",
      "metadata": {
        "id": "VU1ChODKe6_A"
      },
      "source": [
        "# 5. Hyperparameter Optimization"
      ]
    },
    {
      "cell_type": "code",
      "metadata": {
        "id": "eO2yCqWas8pz"
      },
      "source": [
        "\n",
        "# A parameter grid for Random Forest\n",
        "parameters_pipeline_rfc = {'vect__max_df': (0.25, 0.5),\n",
        "                       'vect__max_features': (10000, None),\n",
        "                       'vect__sublinear_tf': (True, False),\n",
        "                       'vect__smooth_idf': (True, False),\n",
        "                       'chi__k':(1500, 2000),\n",
        "                       'clf__n_estimators':(100,250,500),\n",
        "                       'clf__max_depth':(5,15,None),\n",
        "                       'clf__min_samples_split':(2,3),\n",
        "                       'clf__min_samples_leaf':(1,2)  } \n",
        "\n",
        "\n",
        "# A parameter grid for XGBoost\n",
        "parameters_pipeline_xgb = {'vect__max_df': (0.25, 0.5),\n",
        "                       'vect__max_features': (10000, None),\n",
        "                       'vect__sublinear_tf': (True, False),\n",
        "                       'vect__smooth_idf': (True, False),\n",
        "                       'chi__k':(1500, 2000),\n",
        "                       'clf__min_child_weight': [1, 5],\n",
        "                       'clf__gamma': [0.5, 2, 3],\n",
        "                       'clf__subsample': [0.6, 0.8, 1.0],\n",
        "                       'clf__max_depth': [3, 4, 5] } \n",
        "\n",
        "\n",
        "\n",
        "\n",
        "\n",
        "                       \n",
        "                       "
      ],
      "execution_count": null,
      "outputs": []
    },
    {
      "cell_type": "code",
      "metadata": {
        "id": "zYMTN49lb7TD"
      },
      "source": [
        "from sklearn.model_selection import GridSearchCV"
      ],
      "execution_count": null,
      "outputs": []
    },
    {
      "cell_type": "code",
      "metadata": {
        "id": "gmZzYmIIs8p0"
      },
      "source": [
        "grid_search_rfc = GridSearchCV(pipelinerfc, parameters_pipeline_rfc, n_jobs=-1, cv=5, verbose = 10)"
      ],
      "execution_count": null,
      "outputs": []
    },
    {
      "cell_type": "code",
      "metadata": {
        "id": "XtgQRS5aXYjc"
      },
      "source": [
        "grid_search_xgb = GridSearchCV(pipelinexgb, parameters_pipeline_xgb, n_jobs=-1, cv=5, verbose = 10)"
      ],
      "execution_count": null,
      "outputs": []
    },
    {
      "cell_type": "code",
      "metadata": {
        "id": "R19xv9Pjs8p2"
      },
      "source": [
        "import timeit"
      ],
      "execution_count": null,
      "outputs": []
    },
    {
      "cell_type": "code",
      "metadata": {
        "id": "zuk127_Hs8p4"
      },
      "source": [
        "start_time = timeit.default_timer()"
      ],
      "execution_count": null,
      "outputs": []
    },
    {
      "cell_type": "code",
      "metadata": {
        "id": "7orVPy5Hs8p7",
        "colab": {
          "base_uri": "https://localhost:8080/",
          "height": 1000
        },
        "outputId": "15ba027b-6805-4531-ce95-d12e8172e9e1"
      },
      "source": [
        "grid_search_rfc.fit(X_train, y_train)"
      ],
      "execution_count": null,
      "outputs": [
        {
          "output_type": "stream",
          "text": [
            "Fitting 5 folds for each of 1152 candidates, totalling 5760 fits\n"
          ],
          "name": "stdout"
        },
        {
          "output_type": "stream",
          "text": [
            "[Parallel(n_jobs=-1)]: Using backend LokyBackend with 40 concurrent workers.\n",
            "[Parallel(n_jobs=-1)]: Done   5 tasks      | elapsed:    2.8s\n",
            "[Parallel(n_jobs=-1)]: Done  18 tasks      | elapsed:    3.0s\n",
            "[Parallel(n_jobs=-1)]: Done  33 tasks      | elapsed:    3.1s\n",
            "[Parallel(n_jobs=-1)]: Done  48 tasks      | elapsed:    4.0s\n",
            "[Parallel(n_jobs=-1)]: Done  65 tasks      | elapsed:    4.2s\n",
            "[Parallel(n_jobs=-1)]: Done  82 tasks      | elapsed:    5.4s\n",
            "[Parallel(n_jobs=-1)]: Done 101 tasks      | elapsed:    6.2s\n",
            "[Parallel(n_jobs=-1)]: Done 120 tasks      | elapsed:    6.4s\n",
            "[Parallel(n_jobs=-1)]: Done 141 tasks      | elapsed:    8.2s\n",
            "[Parallel(n_jobs=-1)]: Done 162 tasks      | elapsed:   10.1s\n",
            "[Parallel(n_jobs=-1)]: Done 185 tasks      | elapsed:   11.5s\n",
            "[Parallel(n_jobs=-1)]: Done 208 tasks      | elapsed:   14.5s\n",
            "[Parallel(n_jobs=-1)]: Done 233 tasks      | elapsed:   14.9s\n",
            "[Parallel(n_jobs=-1)]: Done 258 tasks      | elapsed:   16.0s\n",
            "[Parallel(n_jobs=-1)]: Done 285 tasks      | elapsed:   16.4s\n",
            "[Parallel(n_jobs=-1)]: Done 312 tasks      | elapsed:   17.2s\n",
            "[Parallel(n_jobs=-1)]: Done 341 tasks      | elapsed:   19.1s\n",
            "[Parallel(n_jobs=-1)]: Done 370 tasks      | elapsed:   20.9s\n",
            "[Parallel(n_jobs=-1)]: Done 401 tasks      | elapsed:   22.9s\n",
            "[Parallel(n_jobs=-1)]: Done 432 tasks      | elapsed:   24.5s\n",
            "[Parallel(n_jobs=-1)]: Done 465 tasks      | elapsed:   27.7s\n",
            "[Parallel(n_jobs=-1)]: Done 498 tasks      | elapsed:   28.8s\n",
            "[Parallel(n_jobs=-1)]: Done 533 tasks      | elapsed:   29.6s\n",
            "[Parallel(n_jobs=-1)]: Done 568 tasks      | elapsed:   31.0s\n",
            "[Parallel(n_jobs=-1)]: Done 605 tasks      | elapsed:   32.9s\n",
            "[Parallel(n_jobs=-1)]: Done 642 tasks      | elapsed:   36.2s\n",
            "[Parallel(n_jobs=-1)]: Done 681 tasks      | elapsed:   38.9s\n",
            "[Parallel(n_jobs=-1)]: Done 720 tasks      | elapsed:   40.8s\n",
            "[Parallel(n_jobs=-1)]: Done 761 tasks      | elapsed:   42.0s\n",
            "[Parallel(n_jobs=-1)]: Done 802 tasks      | elapsed:   44.0s\n",
            "[Parallel(n_jobs=-1)]: Done 845 tasks      | elapsed:   45.8s\n",
            "[Parallel(n_jobs=-1)]: Done 888 tasks      | elapsed:   49.0s\n",
            "[Parallel(n_jobs=-1)]: Done 933 tasks      | elapsed:   53.3s\n",
            "[Parallel(n_jobs=-1)]: Done 978 tasks      | elapsed:   54.8s\n",
            "[Parallel(n_jobs=-1)]: Done 1025 tasks      | elapsed:   56.4s\n",
            "[Parallel(n_jobs=-1)]: Done 1072 tasks      | elapsed:   59.2s\n",
            "[Parallel(n_jobs=-1)]: Done 1121 tasks      | elapsed:  1.1min\n",
            "[Parallel(n_jobs=-1)]: Done 1170 tasks      | elapsed:  1.2min\n",
            "[Parallel(n_jobs=-1)]: Done 1221 tasks      | elapsed:  1.2min\n",
            "[Parallel(n_jobs=-1)]: Done 1272 tasks      | elapsed:  1.2min\n",
            "[Parallel(n_jobs=-1)]: Done 1325 tasks      | elapsed:  1.3min\n",
            "[Parallel(n_jobs=-1)]: Done 1378 tasks      | elapsed:  1.4min\n",
            "[Parallel(n_jobs=-1)]: Done 1433 tasks      | elapsed:  1.5min\n",
            "[Parallel(n_jobs=-1)]: Done 1488 tasks      | elapsed:  1.5min\n",
            "[Parallel(n_jobs=-1)]: Done 1545 tasks      | elapsed:  1.6min\n",
            "[Parallel(n_jobs=-1)]: Done 1602 tasks      | elapsed:  1.6min\n",
            "[Parallel(n_jobs=-1)]: Done 1661 tasks      | elapsed:  1.7min\n",
            "[Parallel(n_jobs=-1)]: Done 1720 tasks      | elapsed:  1.8min\n",
            "[Parallel(n_jobs=-1)]: Done 1781 tasks      | elapsed:  1.8min\n",
            "[Parallel(n_jobs=-1)]: Done 1842 tasks      | elapsed:  1.9min\n",
            "[Parallel(n_jobs=-1)]: Done 1905 tasks      | elapsed:  2.0min\n",
            "[Parallel(n_jobs=-1)]: Done 1968 tasks      | elapsed:  2.1min\n",
            "[Parallel(n_jobs=-1)]: Done 2033 tasks      | elapsed:  2.1min\n",
            "[Parallel(n_jobs=-1)]: Done 2098 tasks      | elapsed:  2.3min\n",
            "[Parallel(n_jobs=-1)]: Done 2165 tasks      | elapsed:  2.5min\n",
            "[Parallel(n_jobs=-1)]: Done 2232 tasks      | elapsed:  2.5min\n",
            "[Parallel(n_jobs=-1)]: Done 2301 tasks      | elapsed:  2.6min\n",
            "[Parallel(n_jobs=-1)]: Done 2370 tasks      | elapsed:  2.9min\n",
            "[Parallel(n_jobs=-1)]: Done 2441 tasks      | elapsed:  2.9min\n",
            "[Parallel(n_jobs=-1)]: Done 2512 tasks      | elapsed:  3.0min\n",
            "[Parallel(n_jobs=-1)]: Done 2585 tasks      | elapsed:  3.1min\n",
            "[Parallel(n_jobs=-1)]: Done 2658 tasks      | elapsed:  3.2min\n",
            "[Parallel(n_jobs=-1)]: Done 2733 tasks      | elapsed:  3.3min\n",
            "[Parallel(n_jobs=-1)]: Done 2808 tasks      | elapsed:  3.4min\n",
            "[Parallel(n_jobs=-1)]: Done 2885 tasks      | elapsed:  3.6min\n",
            "[Parallel(n_jobs=-1)]: Done 2962 tasks      | elapsed:  3.6min\n",
            "[Parallel(n_jobs=-1)]: Done 3041 tasks      | elapsed:  3.7min\n",
            "[Parallel(n_jobs=-1)]: Done 3120 tasks      | elapsed:  3.8min\n",
            "[Parallel(n_jobs=-1)]: Done 3201 tasks      | elapsed:  3.8min\n",
            "[Parallel(n_jobs=-1)]: Done 3282 tasks      | elapsed:  3.9min\n",
            "[Parallel(n_jobs=-1)]: Done 3365 tasks      | elapsed:  4.0min\n",
            "[Parallel(n_jobs=-1)]: Done 3448 tasks      | elapsed:  4.0min\n",
            "[Parallel(n_jobs=-1)]: Done 3533 tasks      | elapsed:  4.1min\n",
            "[Parallel(n_jobs=-1)]: Done 3618 tasks      | elapsed:  4.2min\n",
            "[Parallel(n_jobs=-1)]: Done 3705 tasks      | elapsed:  4.3min\n",
            "[Parallel(n_jobs=-1)]: Done 3792 tasks      | elapsed:  4.4min\n",
            "[Parallel(n_jobs=-1)]: Done 3881 tasks      | elapsed:  4.4min\n",
            "[Parallel(n_jobs=-1)]: Done 3970 tasks      | elapsed:  4.5min\n",
            "[Parallel(n_jobs=-1)]: Done 4061 tasks      | elapsed:  4.7min\n",
            "[Parallel(n_jobs=-1)]: Done 4152 tasks      | elapsed:  4.8min\n",
            "[Parallel(n_jobs=-1)]: Done 4245 tasks      | elapsed:  4.9min\n",
            "[Parallel(n_jobs=-1)]: Done 4338 tasks      | elapsed:  5.0min\n",
            "[Parallel(n_jobs=-1)]: Done 4433 tasks      | elapsed:  5.1min\n",
            "[Parallel(n_jobs=-1)]: Done 4528 tasks      | elapsed:  5.3min\n",
            "[Parallel(n_jobs=-1)]: Done 4625 tasks      | elapsed:  5.3min\n",
            "[Parallel(n_jobs=-1)]: Done 4722 tasks      | elapsed:  5.5min\n",
            "[Parallel(n_jobs=-1)]: Done 4821 tasks      | elapsed:  5.6min\n",
            "[Parallel(n_jobs=-1)]: Done 4920 tasks      | elapsed:  5.7min\n",
            "[Parallel(n_jobs=-1)]: Done 5021 tasks      | elapsed:  6.0min\n",
            "[Parallel(n_jobs=-1)]: Done 5122 tasks      | elapsed:  6.2min\n",
            "[Parallel(n_jobs=-1)]: Done 5225 tasks      | elapsed:  6.4min\n",
            "[Parallel(n_jobs=-1)]: Done 5328 tasks      | elapsed:  6.5min\n",
            "[Parallel(n_jobs=-1)]: Done 5433 tasks      | elapsed:  6.7min\n",
            "[Parallel(n_jobs=-1)]: Done 5538 tasks      | elapsed:  6.9min\n",
            "[Parallel(n_jobs=-1)]: Done 5645 tasks      | elapsed:  7.0min\n",
            "[Parallel(n_jobs=-1)]: Done 5760 out of 5760 | elapsed:  7.2min finished\n"
          ],
          "name": "stderr"
        },
        {
          "output_type": "execute_result",
          "data": {
            "text/plain": [
              "GridSearchCV(cv=5, error_score=nan,\n",
              "             estimator=Pipeline(memory=None,\n",
              "                                steps=[('vect',\n",
              "                                        TfidfVectorizer(analyzer='word',\n",
              "                                                        binary=False,\n",
              "                                                        decode_error='strict',\n",
              "                                                        dtype=<class 'numpy.float64'>,\n",
              "                                                        encoding='utf-8',\n",
              "                                                        input='content',\n",
              "                                                        lowercase=True,\n",
              "                                                        max_df=1.0,\n",
              "                                                        max_features=None,\n",
              "                                                        min_df=1,\n",
              "                                                        ngram_range=(1, 1),\n",
              "                                                        norm='l2',\n",
              "                                                        preprocessor=None,\n",
              "                                                        smooth_idf=True,\n",
              "                                                        stop_words={'a',\n",
              "                                                                    'about',\n",
              "                                                                    'a...\n",
              "             param_grid={'chi__k': (1500, 2000),\n",
              "                         'clf__max_depth': (5, 15, None),\n",
              "                         'clf__min_samples_leaf': (1, 2),\n",
              "                         'clf__min_samples_split': (2, 3),\n",
              "                         'clf__n_estimators': (100, 250, 500),\n",
              "                         'vect__max_df': (0.25, 0.5),\n",
              "                         'vect__max_features': (10000, None),\n",
              "                         'vect__smooth_idf': (True, False),\n",
              "                         'vect__sublinear_tf': (True, False)},\n",
              "             pre_dispatch='2*n_jobs', refit=True, return_train_score=False,\n",
              "             scoring=None, verbose=10)"
            ]
          },
          "metadata": {
            "tags": []
          },
          "execution_count": 377
        }
      ]
    },
    {
      "cell_type": "code",
      "metadata": {
        "id": "P6rDkRUTXfOv",
        "colab": {
          "base_uri": "https://localhost:8080/",
          "height": 1000
        },
        "outputId": "aa280f60-118c-4aae-8e3a-e262170dda72"
      },
      "source": [
        "grid_search_xgb.fit(X_train, y_train)"
      ],
      "execution_count": null,
      "outputs": [
        {
          "output_type": "stream",
          "text": [
            "Fitting 5 folds for each of 1728 candidates, totalling 8640 fits\n"
          ],
          "name": "stdout"
        },
        {
          "output_type": "stream",
          "text": [
            "[Parallel(n_jobs=-1)]: Using backend LokyBackend with 40 concurrent workers.\n",
            "[Parallel(n_jobs=-1)]: Done   5 tasks      | elapsed:    7.1s\n",
            "[Parallel(n_jobs=-1)]: Done  18 tasks      | elapsed:    7.4s\n",
            "[Parallel(n_jobs=-1)]: Done  33 tasks      | elapsed:    7.7s\n",
            "[Parallel(n_jobs=-1)]: Done  48 tasks      | elapsed:   14.6s\n",
            "[Parallel(n_jobs=-1)]: Done  65 tasks      | elapsed:   15.0s\n",
            "[Parallel(n_jobs=-1)]: Done  82 tasks      | elapsed:   21.9s\n",
            "[Parallel(n_jobs=-1)]: Done 101 tasks      | elapsed:   22.5s\n",
            "[Parallel(n_jobs=-1)]: Done 120 tasks      | elapsed:   23.2s\n",
            "[Parallel(n_jobs=-1)]: Done 141 tasks      | elapsed:   30.4s\n",
            "[Parallel(n_jobs=-1)]: Done 162 tasks      | elapsed:   37.5s\n",
            "[Parallel(n_jobs=-1)]: Done 185 tasks      | elapsed:   38.4s\n",
            "[Parallel(n_jobs=-1)]: Done 208 tasks      | elapsed:   46.1s\n",
            "[Parallel(n_jobs=-1)]: Done 233 tasks      | elapsed:   46.9s\n",
            "[Parallel(n_jobs=-1)]: Done 258 tasks      | elapsed:   52.6s\n",
            "[Parallel(n_jobs=-1)]: Done 285 tasks      | elapsed:   58.0s\n",
            "[Parallel(n_jobs=-1)]: Done 312 tasks      | elapsed:   59.4s\n",
            "[Parallel(n_jobs=-1)]: Done 341 tasks      | elapsed:  1.1min\n",
            "[Parallel(n_jobs=-1)]: Done 370 tasks      | elapsed:  1.2min\n",
            "[Parallel(n_jobs=-1)]: Done 401 tasks      | elapsed:  1.3min\n",
            "[Parallel(n_jobs=-1)]: Done 432 tasks      | elapsed:  1.3min\n",
            "[Parallel(n_jobs=-1)]: Done 465 tasks      | elapsed:  1.4min\n",
            "[Parallel(n_jobs=-1)]: Done 498 tasks      | elapsed:  1.6min\n",
            "[Parallel(n_jobs=-1)]: Done 533 tasks      | elapsed:  1.7min\n",
            "[Parallel(n_jobs=-1)]: Done 568 tasks      | elapsed:  1.9min\n",
            "[Parallel(n_jobs=-1)]: Done 605 tasks      | elapsed:  2.0min\n",
            "[Parallel(n_jobs=-1)]: Done 642 tasks      | elapsed:  2.2min\n",
            "[Parallel(n_jobs=-1)]: Done 681 tasks      | elapsed:  2.4min\n",
            "[Parallel(n_jobs=-1)]: Done 720 tasks      | elapsed:  2.5min\n",
            "[Parallel(n_jobs=-1)]: Done 761 tasks      | elapsed:  2.6min\n",
            "[Parallel(n_jobs=-1)]: Done 802 tasks      | elapsed:  2.8min\n",
            "[Parallel(n_jobs=-1)]: Done 845 tasks      | elapsed:  2.9min\n",
            "[Parallel(n_jobs=-1)]: Done 888 tasks      | elapsed:  3.1min\n",
            "[Parallel(n_jobs=-1)]: Done 933 tasks      | elapsed:  3.2min\n",
            "[Parallel(n_jobs=-1)]: Done 978 tasks      | elapsed:  3.4min\n",
            "[Parallel(n_jobs=-1)]: Done 1025 tasks      | elapsed:  3.6min\n",
            "[Parallel(n_jobs=-1)]: Done 1072 tasks      | elapsed:  3.8min\n",
            "[Parallel(n_jobs=-1)]: Done 1121 tasks      | elapsed:  4.1min\n",
            "[Parallel(n_jobs=-1)]: Done 1170 tasks      | elapsed:  4.4min\n",
            "[Parallel(n_jobs=-1)]: Done 1221 tasks      | elapsed:  4.6min\n",
            "[Parallel(n_jobs=-1)]: Done 1272 tasks      | elapsed:  4.7min\n",
            "[Parallel(n_jobs=-1)]: Done 1325 tasks      | elapsed:  5.0min\n",
            "[Parallel(n_jobs=-1)]: Done 1378 tasks      | elapsed:  5.2min\n",
            "[Parallel(n_jobs=-1)]: Done 1433 tasks      | elapsed:  5.4min\n",
            "[Parallel(n_jobs=-1)]: Done 1488 tasks      | elapsed:  5.6min\n",
            "[Parallel(n_jobs=-1)]: Done 1545 tasks      | elapsed:  5.7min\n",
            "[Parallel(n_jobs=-1)]: Done 1602 tasks      | elapsed:  6.0min\n",
            "[Parallel(n_jobs=-1)]: Done 1661 tasks      | elapsed:  6.1min\n",
            "[Parallel(n_jobs=-1)]: Done 1720 tasks      | elapsed:  6.3min\n",
            "[Parallel(n_jobs=-1)]: Done 1781 tasks      | elapsed:  6.5min\n",
            "[Parallel(n_jobs=-1)]: Done 1842 tasks      | elapsed:  6.6min\n",
            "[Parallel(n_jobs=-1)]: Done 1905 tasks      | elapsed:  6.8min\n",
            "[Parallel(n_jobs=-1)]: Done 1968 tasks      | elapsed:  7.1min\n",
            "[Parallel(n_jobs=-1)]: Done 2033 tasks      | elapsed:  7.3min\n",
            "[Parallel(n_jobs=-1)]: Done 2098 tasks      | elapsed:  7.6min\n",
            "[Parallel(n_jobs=-1)]: Done 2165 tasks      | elapsed:  7.9min\n",
            "[Parallel(n_jobs=-1)]: Done 2232 tasks      | elapsed:  8.1min\n",
            "[Parallel(n_jobs=-1)]: Done 2301 tasks      | elapsed:  8.3min\n",
            "[Parallel(n_jobs=-1)]: Done 2370 tasks      | elapsed:  8.6min\n",
            "[Parallel(n_jobs=-1)]: Done 2441 tasks      | elapsed:  8.9min\n",
            "[Parallel(n_jobs=-1)]: Done 2512 tasks      | elapsed:  9.2min\n",
            "[Parallel(n_jobs=-1)]: Done 2585 tasks      | elapsed:  9.6min\n",
            "[Parallel(n_jobs=-1)]: Done 2658 tasks      | elapsed: 10.0min\n",
            "[Parallel(n_jobs=-1)]: Done 2733 tasks      | elapsed: 10.3min\n",
            "[Parallel(n_jobs=-1)]: Done 2808 tasks      | elapsed: 10.6min\n",
            "[Parallel(n_jobs=-1)]: Done 2885 tasks      | elapsed: 10.9min\n",
            "[Parallel(n_jobs=-1)]: Done 2962 tasks      | elapsed: 11.1min\n",
            "[Parallel(n_jobs=-1)]: Done 3041 tasks      | elapsed: 11.4min\n",
            "[Parallel(n_jobs=-1)]: Done 3120 tasks      | elapsed: 11.6min\n",
            "[Parallel(n_jobs=-1)]: Done 3201 tasks      | elapsed: 11.9min\n",
            "[Parallel(n_jobs=-1)]: Done 3282 tasks      | elapsed: 12.1min\n",
            "[Parallel(n_jobs=-1)]: Done 3365 tasks      | elapsed: 12.3min\n",
            "[Parallel(n_jobs=-1)]: Done 3448 tasks      | elapsed: 12.7min\n",
            "[Parallel(n_jobs=-1)]: Done 3533 tasks      | elapsed: 13.0min\n",
            "[Parallel(n_jobs=-1)]: Done 3618 tasks      | elapsed: 13.3min\n",
            "[Parallel(n_jobs=-1)]: Done 3705 tasks      | elapsed: 13.6min\n",
            "[Parallel(n_jobs=-1)]: Done 3792 tasks      | elapsed: 13.9min\n",
            "[Parallel(n_jobs=-1)]: Done 3881 tasks      | elapsed: 14.4min\n",
            "[Parallel(n_jobs=-1)]: Done 3970 tasks      | elapsed: 14.8min\n",
            "[Parallel(n_jobs=-1)]: Done 4061 tasks      | elapsed: 15.3min\n",
            "[Parallel(n_jobs=-1)]: Done 4152 tasks      | elapsed: 15.6min\n",
            "[Parallel(n_jobs=-1)]: Done 4245 tasks      | elapsed: 16.0min\n",
            "[Parallel(n_jobs=-1)]: Done 4338 tasks      | elapsed: 16.4min\n",
            "[Parallel(n_jobs=-1)]: Done 4433 tasks      | elapsed: 16.7min\n",
            "[Parallel(n_jobs=-1)]: Done 4528 tasks      | elapsed: 17.2min\n",
            "[Parallel(n_jobs=-1)]: Done 4625 tasks      | elapsed: 17.4min\n",
            "[Parallel(n_jobs=-1)]: Done 4722 tasks      | elapsed: 17.8min\n",
            "[Parallel(n_jobs=-1)]: Done 4821 tasks      | elapsed: 18.2min\n",
            "[Parallel(n_jobs=-1)]: Done 4920 tasks      | elapsed: 18.7min\n",
            "[Parallel(n_jobs=-1)]: Done 5021 tasks      | elapsed: 19.2min\n",
            "[Parallel(n_jobs=-1)]: Done 5122 tasks      | elapsed: 19.7min\n",
            "[Parallel(n_jobs=-1)]: Done 5225 tasks      | elapsed: 20.1min\n",
            "[Parallel(n_jobs=-1)]: Done 5328 tasks      | elapsed: 20.7min\n",
            "[Parallel(n_jobs=-1)]: Done 5433 tasks      | elapsed: 21.2min\n",
            "[Parallel(n_jobs=-1)]: Done 5538 tasks      | elapsed: 21.9min\n",
            "[Parallel(n_jobs=-1)]: Done 5645 tasks      | elapsed: 22.4min\n",
            "[Parallel(n_jobs=-1)]: Done 5752 tasks      | elapsed: 22.9min\n",
            "[Parallel(n_jobs=-1)]: Done 5861 tasks      | elapsed: 23.4min\n",
            "[Parallel(n_jobs=-1)]: Done 5970 tasks      | elapsed: 23.9min\n",
            "[Parallel(n_jobs=-1)]: Done 6081 tasks      | elapsed: 24.2min\n",
            "[Parallel(n_jobs=-1)]: Done 6192 tasks      | elapsed: 24.6min\n",
            "[Parallel(n_jobs=-1)]: Done 6305 tasks      | elapsed: 25.1min\n",
            "[Parallel(n_jobs=-1)]: Done 6418 tasks      | elapsed: 25.7min\n",
            "[Parallel(n_jobs=-1)]: Done 6533 tasks      | elapsed: 26.3min\n",
            "[Parallel(n_jobs=-1)]: Done 6648 tasks      | elapsed: 26.8min\n",
            "[Parallel(n_jobs=-1)]: Done 6765 tasks      | elapsed: 27.4min\n",
            "[Parallel(n_jobs=-1)]: Done 6882 tasks      | elapsed: 28.1min\n",
            "[Parallel(n_jobs=-1)]: Done 7001 tasks      | elapsed: 28.8min\n",
            "[Parallel(n_jobs=-1)]: Done 7120 tasks      | elapsed: 29.3min\n",
            "[Parallel(n_jobs=-1)]: Done 7241 tasks      | elapsed: 29.9min\n",
            "[Parallel(n_jobs=-1)]: Done 7362 tasks      | elapsed: 30.4min\n",
            "[Parallel(n_jobs=-1)]: Done 7485 tasks      | elapsed: 30.9min\n",
            "[Parallel(n_jobs=-1)]: Done 7608 tasks      | elapsed: 31.3min\n",
            "[Parallel(n_jobs=-1)]: Done 7733 tasks      | elapsed: 31.8min\n",
            "[Parallel(n_jobs=-1)]: Done 7858 tasks      | elapsed: 32.5min\n",
            "[Parallel(n_jobs=-1)]: Done 7985 tasks      | elapsed: 33.0min\n",
            "[Parallel(n_jobs=-1)]: Done 8112 tasks      | elapsed: 33.6min\n",
            "[Parallel(n_jobs=-1)]: Done 8241 tasks      | elapsed: 34.4min\n",
            "[Parallel(n_jobs=-1)]: Done 8370 tasks      | elapsed: 35.2min\n",
            "[Parallel(n_jobs=-1)]: Done 8501 tasks      | elapsed: 35.8min\n",
            "[Parallel(n_jobs=-1)]: Done 8640 out of 8640 | elapsed: 36.5min finished\n"
          ],
          "name": "stderr"
        },
        {
          "output_type": "execute_result",
          "data": {
            "text/plain": [
              "GridSearchCV(cv=5, error_score=nan,\n",
              "             estimator=Pipeline(memory=None,\n",
              "                                steps=[('vect',\n",
              "                                        TfidfVectorizer(analyzer='word',\n",
              "                                                        binary=False,\n",
              "                                                        decode_error='strict',\n",
              "                                                        dtype=<class 'numpy.float64'>,\n",
              "                                                        encoding='utf-8',\n",
              "                                                        input='content',\n",
              "                                                        lowercase=True,\n",
              "                                                        max_df=1.0,\n",
              "                                                        max_features=None,\n",
              "                                                        min_df=1,\n",
              "                                                        ngram_range=(1, 1),\n",
              "                                                        norm='l2',\n",
              "                                                        preprocessor=None,\n",
              "                                                        smooth_idf=True,\n",
              "                                                        stop_words={'a',\n",
              "                                                                    'about',\n",
              "                                                                    'a...\n",
              "             param_grid={'chi__k': (1500, 2000), 'clf__gamma': [0.5, 2, 3],\n",
              "                         'clf__max_depth': [3, 4, 5],\n",
              "                         'clf__min_child_weight': [1, 5],\n",
              "                         'clf__subsample': [0.6, 0.8, 1.0],\n",
              "                         'vect__max_df': (0.25, 0.5),\n",
              "                         'vect__max_features': (10000, None),\n",
              "                         'vect__smooth_idf': (True, False),\n",
              "                         'vect__sublinear_tf': (True, False)},\n",
              "             pre_dispatch='2*n_jobs', refit=True, return_train_score=False,\n",
              "             scoring=None, verbose=10)"
            ]
          },
          "metadata": {
            "tags": []
          },
          "execution_count": 378
        }
      ]
    },
    {
      "cell_type": "code",
      "metadata": {
        "id": "gPCHyogOs8p9"
      },
      "source": [
        "import timeit"
      ],
      "execution_count": null,
      "outputs": []
    },
    {
      "cell_type": "code",
      "metadata": {
        "id": "4n0qEltTs8p_",
        "colab": {
          "base_uri": "https://localhost:8080/",
          "height": 34
        },
        "outputId": "8f1dcf91-48aa-429f-d072-1f57ec3b40cd"
      },
      "source": [
        "print ('Best Training score: %0.3f' % grid_search_rfc.best_score_)"
      ],
      "execution_count": null,
      "outputs": [
        {
          "output_type": "stream",
          "text": [
            "Best Training score: 0.782\n"
          ],
          "name": "stdout"
        }
      ]
    },
    {
      "cell_type": "code",
      "metadata": {
        "id": "luFTXUfnXjso",
        "colab": {
          "base_uri": "https://localhost:8080/",
          "height": 34
        },
        "outputId": "20c39db5-2112-468d-a192-8a636fb38bc1"
      },
      "source": [
        "print ('Best Training score: %0.3f' % grid_search_xgb.best_score_)"
      ],
      "execution_count": null,
      "outputs": [
        {
          "output_type": "stream",
          "text": [
            "Best Training score: 0.845\n"
          ],
          "name": "stdout"
        }
      ]
    },
    {
      "cell_type": "code",
      "metadata": {
        "id": "RPBH3dogs8qD",
        "colab": {
          "base_uri": "https://localhost:8080/",
          "height": 170
        },
        "outputId": "bbf33c02-9908-4c0d-b86e-bf27f33bc674"
      },
      "source": [
        "grid_search_rfc.best_params_"
      ],
      "execution_count": null,
      "outputs": [
        {
          "output_type": "execute_result",
          "data": {
            "text/plain": [
              "{'chi__k': 1500,\n",
              " 'clf__max_depth': None,\n",
              " 'clf__min_samples_leaf': 1,\n",
              " 'clf__min_samples_split': 3,\n",
              " 'clf__n_estimators': 100,\n",
              " 'vect__max_df': 0.5,\n",
              " 'vect__max_features': None,\n",
              " 'vect__smooth_idf': False,\n",
              " 'vect__sublinear_tf': True}"
            ]
          },
          "metadata": {
            "tags": []
          },
          "execution_count": 382
        }
      ]
    },
    {
      "cell_type": "code",
      "metadata": {
        "id": "DvkrIV_8XiPx",
        "colab": {
          "base_uri": "https://localhost:8080/",
          "height": 170
        },
        "outputId": "1353f3a5-8d8c-4d4c-eb36-3f5585869627"
      },
      "source": [
        "grid_search_xgb.best_params_"
      ],
      "execution_count": null,
      "outputs": [
        {
          "output_type": "execute_result",
          "data": {
            "text/plain": [
              "{'chi__k': 1500,\n",
              " 'clf__gamma': 0.5,\n",
              " 'clf__max_depth': 5,\n",
              " 'clf__min_child_weight': 1,\n",
              " 'clf__subsample': 0.6,\n",
              " 'vect__max_df': 0.5,\n",
              " 'vect__max_features': 10000,\n",
              " 'vect__smooth_idf': True,\n",
              " 'vect__sublinear_tf': True}"
            ]
          },
          "metadata": {
            "tags": []
          },
          "execution_count": 383
        }
      ]
    },
    {
      "cell_type": "code",
      "metadata": {
        "id": "yDfSag-TeEXg"
      },
      "source": [
        "vectorizerrfc = TfidfVectorizer(stop_words = STOPWORDS, max_df = 0.5, max_features = None, smooth_idf = False, sublinear_tf = True)"
      ],
      "execution_count": null,
      "outputs": []
    },
    {
      "cell_type": "code",
      "metadata": {
        "id": "CCcQwWHWYBfU"
      },
      "source": [
        "vectorizerxgb = TfidfVectorizer(stop_words = STOPWORDS, max_df = 0.25, max_features = None, smooth_idf = True, sublinear_tf = True)"
      ],
      "execution_count": null,
      "outputs": []
    },
    {
      "cell_type": "code",
      "metadata": {
        "id": "_nF0jQIadq6Q"
      },
      "source": [
        "pipelinerfc = Pipeline([('vect', vectorizerrfc),\n",
        "                    ('chi', SelectKBest(chi2, k = 1500)),\n",
        "                    ('clf', RandomForestClassifier(min_samples_leaf = 1, min_samples_split = 3, n_estimators = 100,n_jobs = -1))])"
      ],
      "execution_count": null,
      "outputs": []
    },
    {
      "cell_type": "code",
      "metadata": {
        "id": "ze5HVoMrYFIL"
      },
      "source": [
        "pipelinexgb = Pipeline([('vect', vectorizerxgb),\n",
        "                    ('chi', SelectKBest(chi2, k = 1500)),\n",
        "                    ('clf', XGBClassifier(n_jobs = -1, gamma = 0.5, max_depth = 5, min_child_weight= 1, subsample= 0.6))])\n",
        "\n",
        "\n",
        " "
      ],
      "execution_count": null,
      "outputs": []
    },
    {
      "cell_type": "code",
      "metadata": {
        "id": "GFBVv18ms8pn"
      },
      "source": [
        "import pickle"
      ],
      "execution_count": null,
      "outputs": []
    },
    {
      "cell_type": "code",
      "metadata": {
        "id": "v9gf9KLds8pp"
      },
      "source": [
        "import numpy as np"
      ],
      "execution_count": null,
      "outputs": []
    },
    {
      "cell_type": "code",
      "metadata": {
        "id": "LX38spy5s8pr"
      },
      "source": [
        "rfc = pipelinerfc.fit(X_train, y_train)\n",
        "with open('rfc.pickle', 'wb') as f:\n",
        "    pickle.dump(rfc, f)\n",
        "    \n",
        "ytest = np.array(y_test)"
      ],
      "execution_count": null,
      "outputs": []
    },
    {
      "cell_type": "code",
      "metadata": {
        "id": "qXT3yaQHYrRO"
      },
      "source": [
        "xgb = pipelinexgb.fit(X_train, y_train)\n",
        "with open('xgb.pickle', 'wb') as f:\n",
        "    pickle.dump(xgb, f)\n",
        "    \n",
        "ytest = np.array(y_test)"
      ],
      "execution_count": null,
      "outputs": []
    },
    {
      "cell_type": "code",
      "metadata": {
        "id": "DsM1WcGps8pt"
      },
      "source": [
        "import os\n",
        "\n",
        "from sklearn import metrics"
      ],
      "execution_count": null,
      "outputs": []
    },
    {
      "cell_type": "markdown",
      "metadata": {
        "id": "bIKLiSHne2YD"
      },
      "source": [
        "# 6. Evaluate Model Results"
      ]
    },
    {
      "cell_type": "code",
      "metadata": {
        "id": "6cmrKMREs8pv",
        "colab": {
          "base_uri": "https://localhost:8080/",
          "height": 496
        },
        "outputId": "64229962-cdfa-4654-e33f-3ebb11013625"
      },
      "source": [
        "print(confusion_matrix(ytest, rfc.predict(X_test)))\n",
        "\n",
        "print(classification_report(ytest, rfc.predict(X_test)))"
      ],
      "execution_count": null,
      "outputs": [
        {
          "output_type": "stream",
          "text": [
            "[[  6   2  15   0   0   1   0   0   0]\n",
            " [  1  14  22   0   0   0   0   0   0]\n",
            " [  0   4 405   3   0   2   0   0   0]\n",
            " [  0   1  31  23   0   0   0   0   0]\n",
            " [  1   0   2   0   0   0   0   0   0]\n",
            " [  0   0  13   0   0  14   0   0   0]\n",
            " [  0   0   4   0   0   0   0   0   0]\n",
            " [  0   0   2   0   0   0   0   0   0]\n",
            " [  0   0   4   0   0   0   0   0   0]]\n",
            "                                                                              precision    recall  f1-score   support\n",
            "\n",
            "                                                 Checking or savings account       0.75      0.25      0.38        24\n",
            "                                                 Credit card or prepaid card       0.67      0.38      0.48        37\n",
            "Credit reporting, credit repair services, or other personal consumer reports       0.81      0.98      0.89       414\n",
            "                                                             Debt collection       0.88      0.42      0.57        55\n",
            "                          Money transfer, virtual currency, or money service       0.00      0.00      0.00         3\n",
            "                                                                    Mortgage       0.82      0.52      0.64        27\n",
            "                                   Payday loan, title loan, or personal loan       0.00      0.00      0.00         4\n",
            "                                                                Student loan       0.00      0.00      0.00         2\n",
            "                                                       Vehicle loan or lease       0.00      0.00      0.00         4\n",
            "\n",
            "                                                                    accuracy                           0.81       570\n",
            "                                                                   macro avg       0.44      0.28      0.33       570\n",
            "                                                                weighted avg       0.79      0.81      0.78       570\n",
            "\n"
          ],
          "name": "stdout"
        },
        {
          "output_type": "stream",
          "text": [
            "/usr/local/lib/python3.6/dist-packages/sklearn/metrics/_classification.py:1272: UndefinedMetricWarning: Precision and F-score are ill-defined and being set to 0.0 in labels with no predicted samples. Use `zero_division` parameter to control this behavior.\n",
            "  _warn_prf(average, modifier, msg_start, len(result))\n"
          ],
          "name": "stderr"
        }
      ]
    },
    {
      "cell_type": "code",
      "metadata": {
        "id": "nfr1bWDWlx4Q",
        "colab": {
          "base_uri": "https://localhost:8080/",
          "height": 34
        },
        "outputId": "2e596cec-8ffa-44eb-c793-6c1f330cb10f"
      },
      "source": [
        "\n",
        "rfc_acc = accuracy_score(y_test, rfc.predict(X_test))\n",
        "\n",
        "rfc_acc\n"
      ],
      "execution_count": null,
      "outputs": [
        {
          "output_type": "execute_result",
          "data": {
            "text/plain": [
              "0.8105263157894737"
            ]
          },
          "metadata": {
            "tags": []
          },
          "execution_count": 397
        }
      ]
    },
    {
      "cell_type": "code",
      "metadata": {
        "id": "VbiN6pCDmEk7",
        "colab": {
          "base_uri": "https://localhost:8080/",
          "height": 34
        },
        "outputId": "48b25d7a-bc47-4609-dad5-11858a457f44"
      },
      "source": [
        "rfc_bal_acc = balanced_accuracy_score(y_test, rfc.predict(X_test))\n",
        "\n",
        "rfc_bal_acc"
      ],
      "execution_count": null,
      "outputs": [
        {
          "output_type": "execute_result",
          "data": {
            "text/plain": [
              "0.28259328718265914"
            ]
          },
          "metadata": {
            "tags": []
          },
          "execution_count": 398
        }
      ]
    },
    {
      "cell_type": "code",
      "metadata": {
        "id": "jw5Ia7tyecMT",
        "colab": {
          "base_uri": "https://localhost:8080/",
          "height": 424
        },
        "outputId": "fd38724e-37d0-43fa-c75c-87d1f0b4bd9c"
      },
      "source": [
        "cf_matrix = confusion_matrix(y_test, rfc.predict(X_test))\n",
        "import seaborn as sns\n",
        "import matplotlib.pyplot as plt\n",
        "labels = ['Checking', 'Credit Card', 'Credit Reporting', 'Debt Collection','Money Transfer', 'Mortgage','Payday loan','Sutdent Loan','Vehicle Loan']\n",
        "sns.heatmap(cf_matrix, annot=True, xticklabels=labels, yticklabels=labels, fmt = 'd', vmax = 150)\n",
        "ax = plt.axes()\n",
        "ax.set_title('Random Forest')"
      ],
      "execution_count": null,
      "outputs": [
        {
          "output_type": "stream",
          "text": [
            "/usr/local/lib/python3.6/dist-packages/ipykernel_launcher.py:6: MatplotlibDeprecationWarning: Adding an axes using the same arguments as a previous axes currently reuses the earlier instance.  In a future version, a new instance will always be created and returned.  Meanwhile, this warning can be suppressed, and the future behavior ensured, by passing a unique label to each axes instance.\n",
            "  \n"
          ],
          "name": "stderr"
        },
        {
          "output_type": "execute_result",
          "data": {
            "text/plain": [
              "Text(0.5, 1.0, 'Random Forest')"
            ]
          },
          "metadata": {
            "tags": []
          },
          "execution_count": 405
        },
        {
          "output_type": "display_data",
          "data": {
            "image/png": "[encoded data removed]",
            "text/plain": [
              "<Figure size 432x288 with 2 Axes>"
            ]
          },
          "metadata": {
            "tags": [],
            "needs_background": "light"
          }
        }
      ]
    },
    {
      "cell_type": "code",
      "metadata": {
        "id": "C45drqIQjhRY",
        "colab": {
          "base_uri": "https://localhost:8080/",
          "height": 496
        },
        "outputId": "8ebcfeac-5584-4598-f648-9c48cf9cd77c"
      },
      "source": [
        "print(confusion_matrix(ytest, xgb.predict(X_test)))\n",
        "\n",
        "print(classification_report(ytest, xgb.predict(X_test)))"
      ],
      "execution_count": null,
      "outputs": [
        {
          "output_type": "stream",
          "text": [
            "[[ 11   2  10   0   0   1   0   0   0]\n",
            " [  1  23  13   0   0   0   0   0   0]\n",
            " [  1   6 393   6   0   6   0   1   1]\n",
            " [  0   1  17  37   0   0   0   0   0]\n",
            " [  2   1   0   0   0   0   0   0   0]\n",
            " [  0   0   9   1   0  17   0   0   0]\n",
            " [  0   0   2   0   0   2   0   0   0]\n",
            " [  0   0   2   0   0   0   0   0   0]\n",
            " [  0   0   4   0   0   0   0   0   0]]\n",
            "                                                                              precision    recall  f1-score   support\n",
            "\n",
            "                                                 Checking or savings account       0.73      0.46      0.56        24\n",
            "                                                 Credit card or prepaid card       0.70      0.62      0.66        37\n",
            "Credit reporting, credit repair services, or other personal consumer reports       0.87      0.95      0.91       414\n",
            "                                                             Debt collection       0.84      0.67      0.75        55\n",
            "                          Money transfer, virtual currency, or money service       0.00      0.00      0.00         3\n",
            "                                                                    Mortgage       0.65      0.63      0.64        27\n",
            "                                   Payday loan, title loan, or personal loan       0.00      0.00      0.00         4\n",
            "                                                                Student loan       0.00      0.00      0.00         2\n",
            "                                                       Vehicle loan or lease       0.00      0.00      0.00         4\n",
            "\n",
            "                                                                    accuracy                           0.84       570\n",
            "                                                                   macro avg       0.42      0.37      0.39       570\n",
            "                                                                weighted avg       0.82      0.84      0.83       570\n",
            "\n"
          ],
          "name": "stdout"
        },
        {
          "output_type": "stream",
          "text": [
            "/usr/local/lib/python3.6/dist-packages/sklearn/metrics/_classification.py:1272: UndefinedMetricWarning: Precision and F-score are ill-defined and being set to 0.0 in labels with no predicted samples. Use `zero_division` parameter to control this behavior.\n",
            "  _warn_prf(average, modifier, msg_start, len(result))\n"
          ],
          "name": "stderr"
        }
      ]
    },
    {
      "cell_type": "code",
      "metadata": {
        "id": "3VTgPFjEk0Oz",
        "colab": {
          "base_uri": "https://localhost:8080/",
          "height": 424
        },
        "outputId": "3a3670de-0f65-4c6f-8142-86dd430574d7"
      },
      "source": [
        "cf_matrix = confusion_matrix(y_test, xgb.predict(X_test))\n",
        "import seaborn as sns\n",
        "import matplotlib.pyplot as plt\n",
        "\n",
        "sns.heatmap(cf_matrix, annot=True, xticklabels=labels, yticklabels=labels, fmt = 'd', vmax = 150)\n",
        "ax = plt.axes()\n",
        "ax.set_title('XGBoost')"
      ],
      "execution_count": null,
      "outputs": [
        {
          "output_type": "stream",
          "text": [
            "/usr/local/lib/python3.6/dist-packages/ipykernel_launcher.py:6: MatplotlibDeprecationWarning: Adding an axes using the same arguments as a previous axes currently reuses the earlier instance.  In a future version, a new instance will always be created and returned.  Meanwhile, this warning can be suppressed, and the future behavior ensured, by passing a unique label to each axes instance.\n",
            "  \n"
          ],
          "name": "stderr"
        },
        {
          "output_type": "execute_result",
          "data": {
            "text/plain": [
              "Text(0.5, 1.0, 'XGBoost')"
            ]
          },
          "metadata": {
            "tags": []
          },
          "execution_count": 407
        },
        {
          "output_type": "display_data",
          "data": {
            "image/png": "[encoded data removed]",
            "text/plain": [
              "<Figure size 432x288 with 2 Axes>"
            ]
          },
          "metadata": {
            "tags": [],
            "needs_background": "light"
          }
        }
      ]
    },
    {
      "cell_type": "code",
      "metadata": {
        "id": "_5J1c9Jhl0Cj",
        "colab": {
          "base_uri": "https://localhost:8080/",
          "height": 34
        },
        "outputId": "8706c871-44b5-4bd2-dbf5-78db185ac638"
      },
      "source": [
        "\n",
        "xgb_acc = accuracy_score(y_test, xgb.predict(X_test))\n",
        "\n",
        "\n",
        "xgb_acc\n"
      ],
      "execution_count": null,
      "outputs": [
        {
          "output_type": "execute_result",
          "data": {
            "text/plain": [
              "0.843859649122807"
            ]
          },
          "metadata": {
            "tags": []
          },
          "execution_count": 409
        }
      ]
    },
    {
      "cell_type": "code",
      "metadata": {
        "id": "gbXUm9uBmP_x",
        "colab": {
          "base_uri": "https://localhost:8080/",
          "height": 34
        },
        "outputId": "ebcd738c-1336-457a-95f3-22ab9382f05a"
      },
      "source": [
        "xgb_bal_acc = balanced_accuracy_score(y_test, xgb.predict(X_test))\n",
        "\n",
        "xgb_bal_acc"
      ],
      "execution_count": null,
      "outputs": [
        {
          "output_type": "execute_result",
          "data": {
            "text/plain": [
              "0.37017635773674423"
            ]
          },
          "metadata": {
            "tags": []
          },
          "execution_count": 414
        }
      ]
    },
    {
      "cell_type": "markdown",
      "metadata": {
        "id": "n11zozHsfvRv"
      },
      "source": [
        "# 8. LSTM Model"
      ]
    },
    {
      "cell_type": "code",
      "metadata": {
        "id": "ETiWRBWKs8qH"
      },
      "source": [
        "from keras.preprocessing.text import Tokenizer\n",
        "from keras.preprocessing.sequence import pad_sequences\n",
        "from keras.models import Sequential\n",
        "from keras.layers import Dense, Embedding, LSTM, SpatialDropout1D\n",
        "from sklearn.model_selection import train_test_split\n",
        "from keras.utils.np_utils import to_categorical\n",
        "from keras.callbacks import EarlyStopping\n",
        "from keras.layers import Dropout"
      ],
      "execution_count": null,
      "outputs": []
    },
    {
      "cell_type": "code",
      "metadata": {
        "id": "-A4ae45u6ipC",
        "colab": {
          "base_uri": "https://localhost:8080/",
          "height": 34
        },
        "outputId": "448764fb-6fd6-4728-a2f8-ad7278275298"
      },
      "source": [
        "# The maximum number of words to be used. (most frequent)\n",
        "MAX_NB_WORDS = 50000\n",
        "# Max number of words in each complaint.\n",
        "MAX_SEQUENCE_LENGTH = 250\n",
        "# This is fixed.\n",
        "EMBEDDING_DIM = 100\n",
        "\n",
        "tokenizer = Tokenizer(num_words=MAX_NB_WORDS, filters='!\"#$%&()*+,-./:;<=>?@[\\]^_`{|}~', lower=True)\n",
        "tokenizer.fit_on_texts(df['clean_text'].values)\n",
        "word_index = tokenizer.word_index\n",
        "print('Found %s unique tokens.' % len(word_index))"
      ],
      "execution_count": null,
      "outputs": [
        {
          "output_type": "stream",
          "text": [
            "Found 6789 unique tokens.\n"
          ],
          "name": "stdout"
        }
      ]
    },
    {
      "cell_type": "code",
      "metadata": {
        "id": "zFzTld8_6nTC",
        "colab": {
          "base_uri": "https://localhost:8080/",
          "height": 34
        },
        "outputId": "871aeabf-967e-4049-f593-58b277532ac6"
      },
      "source": [
        "X = tokenizer.texts_to_sequences(df['clean_text'].values)\n",
        "X = pad_sequences(X, maxlen=MAX_SEQUENCE_LENGTH)\n",
        "print('Shape of data tensor:', X.shape)"
      ],
      "execution_count": null,
      "outputs": [
        {
          "output_type": "stream",
          "text": [
            "Shape of data tensor: (2847, 250)\n"
          ],
          "name": "stdout"
        }
      ]
    },
    {
      "cell_type": "code",
      "metadata": {
        "id": "RuxKe4gR6qLs",
        "colab": {
          "base_uri": "https://localhost:8080/",
          "height": 34
        },
        "outputId": "d795795e-21a0-43f9-9686-cfb3cbf213a5"
      },
      "source": [
        "\n",
        "Y = pd.get_dummies(df['Product']).values\n",
        "print('Shape of label tensor:', Y.shape)"
      ],
      "execution_count": null,
      "outputs": [
        {
          "output_type": "stream",
          "text": [
            "Shape of label tensor: (2847, 9)\n"
          ],
          "name": "stdout"
        }
      ]
    },
    {
      "cell_type": "code",
      "metadata": {
        "id": "R8kh-NbD6ry9",
        "colab": {
          "base_uri": "https://localhost:8080/",
          "height": 51
        },
        "outputId": "5e30a147-32ea-400a-ca52-063bfd59383b"
      },
      "source": [
        "X_train, X_test, Y_train, Y_test = train_test_split(X,Y, test_size = 0.20, random_state = 42)\n",
        "print(X_train.shape,Y_train.shape)\n",
        "print(X_test.shape,Y_test.shape)"
      ],
      "execution_count": null,
      "outputs": [
        {
          "output_type": "stream",
          "text": [
            "(2277, 250) (2277, 9)\n",
            "(570, 250) (570, 9)\n"
          ],
          "name": "stdout"
        }
      ]
    },
    {
      "cell_type": "code",
      "metadata": {
        "id": "vibWvHW06uY2"
      },
      "source": [
        "def create_model():\n",
        "  model = Sequential()\n",
        "  model.add(Embedding(MAX_NB_WORDS, EMBEDDING_DIM, input_length=X.shape[1]))\n",
        "  model.add(SpatialDropout1D(0.2))\n",
        "  model.add(LSTM(100, dropout=0.2, recurrent_dropout=0.2))\n",
        "  model.add(Dense(9, activation='softmax'))\n",
        "  model.compile(loss='categorical_crossentropy', optimizer='adam', metrics=['accuracy'])\n",
        "  print(model.summary())\n",
        "  return model"
      ],
      "execution_count": null,
      "outputs": []
    },
    {
      "cell_type": "code",
      "metadata": {
        "id": "TF1zuQAmf8bp"
      },
      "source": [
        "from keras.wrappers.scikit_learn import KerasClassifier\n",
        "\n",
        "batch_size = [10, 30, 60]\n",
        "epochs = [10, 25, 30]\n",
        "\n",
        "param_grid = dict(batch_size=batch_size, epochs=epochs)\n"
      ],
      "execution_count": null,
      "outputs": []
    },
    {
      "cell_type": "code",
      "metadata": {
        "id": "V3wGUcYshKXy"
      },
      "source": [
        "lstm_model = KerasClassifier(build_fn=create_model, verbose=10)\n"
      ],
      "execution_count": null,
      "outputs": []
    },
    {
      "cell_type": "code",
      "metadata": {
        "id": "ODblY6CqajOw"
      },
      "source": [
        "grid_lstm = GridSearchCV(estimator=lstm_model, param_grid=param_grid, n_jobs=-1, cv=5)\n",
        "\n",
        "grid_result = grid_lstm.fit(X, Y)"
      ],
      "execution_count": null,
      "outputs": []
    },
    {
      "cell_type": "code",
      "metadata": {
        "id": "5-TUYuApgaiu",
        "colab": {
          "base_uri": "https://localhost:8080/",
          "height": 34
        },
        "outputId": "1d81de86-05d0-4c57-c5c1-ee3fec91537f"
      },
      "source": [
        "print(\"Best: %f using %s\" % (grid_result.best_score_, grid_result.best_params_))"
      ],
      "execution_count": null,
      "outputs": [
        {
          "output_type": "stream",
          "text": [
            "Best: 0.778011 using {'batch_size': 30, 'epochs': 10}\n"
          ],
          "name": "stdout"
        }
      ]
    },
    {
      "cell_type": "code",
      "metadata": {
        "id": "-FN8h7CocWgd",
        "colab": {
          "base_uri": "https://localhost:8080/",
          "height": 306
        },
        "outputId": "b1a695df-9151-4a07-da46-83b42a6a039e"
      },
      "source": [
        "  model = Sequential()\n",
        "  model.add(Embedding(MAX_NB_WORDS, EMBEDDING_DIM, input_length=X.shape[1]))\n",
        "  model.add(SpatialDropout1D(0.2))\n",
        "  model.add(LSTM(100, dropout=0.2, recurrent_dropout=0.2))\n",
        "  model.add(Dense(9, activation='softmax'))\n",
        "  model.compile(loss='categorical_crossentropy', optimizer='adam', metrics=['accuracy'])\n",
        "  print(model.summary())"
      ],
      "execution_count": null,
      "outputs": [
        {
          "output_type": "stream",
          "text": [
            "Model: \"sequential\"\n",
            "_________________________________________________________________\n",
            "Layer (type)                 Output Shape              Param #   \n",
            "=================================================================\n",
            "embedding (Embedding)        (None, 250, 100)          5000000   \n",
            "_________________________________________________________________\n",
            "spatial_dropout1d (SpatialDr (None, 250, 100)          0         \n",
            "_________________________________________________________________\n",
            "lstm (LSTM)                  (None, 100)               80400     \n",
            "_________________________________________________________________\n",
            "dense (Dense)                (None, 9)                 909       \n",
            "=================================================================\n",
            "Total params: 5,081,309\n",
            "Trainable params: 5,081,309\n",
            "Non-trainable params: 0\n",
            "_________________________________________________________________\n",
            "None\n"
          ],
          "name": "stdout"
        }
      ]
    },
    {
      "cell_type": "code",
      "metadata": {
        "id": "GgCXsM_96vp_",
        "colab": {
          "base_uri": "https://localhost:8080/",
          "height": 357
        },
        "outputId": "210439c3-9ff1-4a9b-cf92-3efd58194264"
      },
      "source": [
        "#change htis\n",
        "epochs = 10\n",
        "batch_size = 30\n",
        "\n",
        "history = model.fit(X_train, Y_train, epochs=epochs, batch_size=batch_size,validation_split=0.1)"
      ],
      "execution_count": null,
      "outputs": [
        {
          "output_type": "stream",
          "text": [
            "Epoch 1/10\n",
            "69/69 [==============================] - 26s 382ms/step - loss: 1.2598 - accuracy: 0.6920 - val_loss: 0.9407 - val_accuracy: 0.7149\n",
            "Epoch 2/10\n",
            "69/69 [==============================] - 26s 375ms/step - loss: 0.8319 - accuracy: 0.7194 - val_loss: 0.8278 - val_accuracy: 0.7149\n",
            "Epoch 3/10\n",
            "69/69 [==============================] - 28s 411ms/step - loss: 0.6564 - accuracy: 0.7726 - val_loss: 0.8501 - val_accuracy: 0.7149\n",
            "Epoch 4/10\n",
            "69/69 [==============================] - 25s 365ms/step - loss: 0.5508 - accuracy: 0.8126 - val_loss: 0.9302 - val_accuracy: 0.7061\n",
            "Epoch 5/10\n",
            "69/69 [==============================] - 27s 386ms/step - loss: 0.4347 - accuracy: 0.8516 - val_loss: 1.0091 - val_accuracy: 0.7105\n",
            "Epoch 6/10\n",
            "69/69 [==============================] - 25s 359ms/step - loss: 0.3662 - accuracy: 0.8848 - val_loss: 0.9828 - val_accuracy: 0.7368\n",
            "Epoch 7/10\n",
            "69/69 [==============================] - 25s 360ms/step - loss: 0.2683 - accuracy: 0.9126 - val_loss: 1.1365 - val_accuracy: 0.7061\n",
            "Epoch 8/10\n",
            "69/69 [==============================] - 25s 367ms/step - loss: 0.2242 - accuracy: 0.9200 - val_loss: 1.0669 - val_accuracy: 0.7456\n",
            "Epoch 9/10\n",
            "69/69 [==============================] - 25s 361ms/step - loss: 0.1685 - accuracy: 0.9483 - val_loss: 1.0744 - val_accuracy: 0.7368\n",
            "Epoch 10/10\n",
            "69/69 [==============================] - 25s 365ms/step - loss: 0.1276 - accuracy: 0.9585 - val_loss: 1.1999 - val_accuracy: 0.7412\n"
          ],
          "name": "stdout"
        }
      ]
    },
    {
      "cell_type": "code",
      "metadata": {
        "id": "B6P6ICSLasye"
      },
      "source": [
        "test_pred =  model.predict(X_test)"
      ],
      "execution_count": null,
      "outputs": []
    },
    {
      "cell_type": "code",
      "metadata": {
        "id": "C63aicMGcl6s",
        "colab": {
          "base_uri": "https://localhost:8080/",
          "height": 34
        },
        "outputId": "1a0505cd-f7ab-4e79-dcd8-033207891a03"
      },
      "source": [
        "import numpy as np\n",
        "rounded_test=np.argmax(Y_test, axis=1)\n",
        "rounded_test[1]"
      ],
      "execution_count": null,
      "outputs": [
        {
          "output_type": "execute_result",
          "data": {
            "text/plain": [
              "5"
            ]
          },
          "metadata": {
            "tags": []
          },
          "execution_count": 52
        }
      ]
    },
    {
      "cell_type": "code",
      "metadata": {
        "id": "Mt-5dcovfneB"
      },
      "source": [
        "test_pred =  model.predict(X_test)"
      ],
      "execution_count": null,
      "outputs": []
    },
    {
      "cell_type": "code",
      "metadata": {
        "id": "h_XgRStofqit",
        "colab": {
          "base_uri": "https://localhost:8080/",
          "height": 34
        },
        "outputId": "5f78e7fd-8ca2-4ca3-f39a-f262dc2041d0"
      },
      "source": [
        "import numpy as np\n",
        "rounded_pred=np.argmax(test_pred, axis=1)\n",
        "rounded_pred[1]"
      ],
      "execution_count": null,
      "outputs": [
        {
          "output_type": "execute_result",
          "data": {
            "text/plain": [
              "5"
            ]
          },
          "metadata": {
            "tags": []
          },
          "execution_count": 54
        }
      ]
    },
    {
      "cell_type": "code",
      "metadata": {
        "id": "A3T4uf-7i-YC",
        "colab": {
          "base_uri": "https://localhost:8080/",
          "height": 352
        },
        "outputId": "6dfb1a8c-b072-4c15-e70e-048a7ac9ab66"
      },
      "source": [
        "cf_matrix = confusion_matrix(rounded_test, rounded_pred)\n",
        "import seaborn as sns\n",
        "import matplotlib.pyplot as plt\n",
        "labels = ['Checking', 'Credit Card', 'Credit Reporting', 'Debt Collection','Money Transfer', 'Mortgage','Payday loan','Sutdent Loan']\n",
        "sns.heatmap(cf_matrix, annot=True, fmt = 'd', vmax = 150)\n",
        "ax = plt.axes()\n",
        "ax.set_title('lstm')"
      ],
      "execution_count": null,
      "outputs": [
        {
          "output_type": "stream",
          "text": [
            "/usr/local/lib/python3.6/dist-packages/ipykernel_launcher.py:6: MatplotlibDeprecationWarning: Adding an axes using the same arguments as a previous axes currently reuses the earlier instance.  In a future version, a new instance will always be created and returned.  Meanwhile, this warning can be suppressed, and the future behavior ensured, by passing a unique label to each axes instance.\n",
            "  \n"
          ],
          "name": "stderr"
        },
        {
          "output_type": "execute_result",
          "data": {
            "text/plain": [
              "Text(0.5, 1.0, 'lstm')"
            ]
          },
          "metadata": {
            "tags": []
          },
          "execution_count": 77
        },
        {
          "output_type": "display_data",
          "data": {
            "image/png": "[encoded data removed]",
            "text/plain": [
              "<Figure size 432x288 with 2 Axes>"
            ]
          },
          "metadata": {
            "tags": [],
            "needs_background": "light"
          }
        }
      ]
    },
    {
      "cell_type": "code",
      "metadata": {
        "id": "USZ56XxLgYiV",
        "colab": {
          "base_uri": "https://localhost:8080/",
          "height": 462
        },
        "outputId": "6b5dc652-69c2-43a0-b181-d65053278a33"
      },
      "source": [
        "print(confusion_matrix(rounded_test, rounded_pred))\n",
        "\n",
        "print(classification_report(rounded_test, rounded_pred))"
      ],
      "execution_count": null,
      "outputs": [
        {
          "output_type": "stream",
          "text": [
            "[[  8  12   4   0   0   1   0   0]\n",
            " [  6  23   7   0   0   0   0   0]\n",
            " [  1  23 358  24   0   2   0   0]\n",
            " [  3   3  21  28   1   0   0   0]\n",
            " [  3   0   0   1   0   0   0   0]\n",
            " [  4  10   3   3   0  11   0   0]\n",
            " [  0   1   2   1   0   0   0   0]\n",
            " [  2   1   2   1   0   0   0   0]]\n",
            "              precision    recall  f1-score   support\n",
            "\n",
            "           0       0.30      0.32      0.31        25\n",
            "           1       0.32      0.64      0.42        36\n",
            "           2       0.90      0.88      0.89       408\n",
            "           3       0.48      0.50      0.49        56\n",
            "           4       0.00      0.00      0.00         4\n",
            "           5       0.79      0.35      0.49        31\n",
            "           6       0.00      0.00      0.00         4\n",
            "           8       0.00      0.00      0.00         6\n",
            "\n",
            "    accuracy                           0.75       570\n",
            "   macro avg       0.35      0.34      0.32       570\n",
            "weighted avg       0.77      0.75      0.75       570\n",
            "\n"
          ],
          "name": "stdout"
        },
        {
          "output_type": "stream",
          "text": [
            "/usr/local/lib/python3.6/dist-packages/sklearn/metrics/_classification.py:1272: UndefinedMetricWarning: Precision and F-score are ill-defined and being set to 0.0 in labels with no predicted samples. Use `zero_division` parameter to control this behavior.\n",
            "  _warn_prf(average, modifier, msg_start, len(result))\n"
          ],
          "name": "stderr"
        }
      ]
    },
    {
      "cell_type": "code",
      "metadata": {
        "id": "MC7JbmiwlHr7"
      },
      "source": [
        "\n",
        "rfc_acc = accuracy_score(rounded_test, rounded_pred)"
      ],
      "execution_count": null,
      "outputs": []
    },
    {
      "cell_type": "code",
      "metadata": {
        "id": "F-EIdBBdho4t"
      },
      "source": [
        "from sklearn.metrics import accuracy_score\n",
        "\n",
        "lstm_acc = accuracy_score(rounded_test, rounded_pred)\n",
        "\n",
        "\n",
        "lstm_bal_acc = balanced_accuracy_score(rounded_test, rounded_pred)\n",
        "\n"
      ],
      "execution_count": null,
      "outputs": []
    },
    {
      "cell_type": "code",
      "metadata": {
        "id": "BUdFW48FeU_0",
        "colab": {
          "base_uri": "https://localhost:8080/",
          "height": 34
        },
        "outputId": "b0b991f5-ed57-41af-a635-0ccf134387d9"
      },
      "source": [
        "lstm_acc"
      ],
      "execution_count": null,
      "outputs": [
        {
          "output_type": "execute_result",
          "data": {
            "text/plain": [
              "0.7508771929824561"
            ]
          },
          "metadata": {
            "tags": []
          },
          "execution_count": 78
        }
      ]
    },
    {
      "cell_type": "code",
      "metadata": {
        "id": "qTSPrr7pi4Eq",
        "colab": {
          "base_uri": "https://localhost:8080/",
          "height": 34
        },
        "outputId": "236b3ec5-c43a-4dc4-8631-b6265d8cc9e8"
      },
      "source": [
        "from sklearn.metrics import balanced_accuracy_score\n",
        "\n",
        "lstm_bal_acc = balanced_accuracy_score(rounded_test, rounded_labels)\n",
        "\n",
        "rfc_bal_acc = balanced_accuracy_score((y_test, xgb.predict(X_test)\n",
        "\n",
        "xgb_bal_acc = balanced_accuracy_score((y_test, xgb.predict(Y_test)\n",
        "\n",
        "lstm_bal_acc"
      ],
      "execution_count": null,
      "outputs": [
        {
          "output_type": "execute_result",
          "data": {
            "text/plain": [
              "0.3333333333333333"
            ]
          },
          "metadata": {
            "tags": []
          },
          "execution_count": 180
        }
      ]
    },
    {
      "cell_type": "code",
      "metadata": {
        "id": "HC5xAl9FR_vF",
        "colab": {
          "base_uri": "https://localhost:8080/",
          "height": 281
        },
        "outputId": "6824c0ac-1f87-46b9-926f-140d204bb80f"
      },
      "source": [
        "plt.title('Loss')\n",
        "plt.plot(history.history['loss'], label='train')\n",
        "plt.legend()\n",
        "plt.show();"
      ],
      "execution_count": null,
      "outputs": [
        {
          "output_type": "display_data",
          "data": {
            "image/png": "[encoded data removed]",
            "text/plain": [
              "<Figure size 432x288 with 1 Axes>"
            ]
          },
          "metadata": {
            "tags": [],
            "needs_background": "light"
          }
        }
      ]
    },
    {
      "cell_type": "markdown",
      "metadata": {
        "id": "TExAwC-pjO9Q"
      },
      "source": [
        "# Compare Models"
      ]
    },
    {
      "cell_type": "code",
      "metadata": {
        "id": "HNDqc0Hcfi2B"
      },
      "source": [
        "import matplotlib.pyplot as plt\n",
        "%matplotlib inline\n",
        "plt.style.use('ggplot')"
      ],
      "execution_count": null,
      "outputs": []
    },
    {
      "cell_type": "code",
      "metadata": {
        "id": "dR5gK4cEfju0",
        "colab": {
          "base_uri": "https://localhost:8080/",
          "height": 299
        },
        "outputId": "c2365b0d-ade2-45cd-a235-cc5dc828a004"
      },
      "source": [
        "%matplotlib inline\n",
        "plt.style.use('ggplot')\n",
        "\n",
        "x = ['Random Forest', 'XGBoost', 'LSTM']\n",
        "score = [81, 84, 75]\n",
        "\n",
        "x_pos = [i for i, _ in enumerate(x)]\n",
        "\n",
        "plt.bar(x_pos, score, color='orange')\n",
        "plt.xlabel(\"Model\")\n",
        "plt.ylabel(\"Accuracy (%)\")\n",
        "plt.title(\"Model Accuracy Score Comparision\")\n",
        "\n",
        "plt.xticks(x_pos, x)\n",
        "\n",
        "plt.show()"
      ],
      "execution_count": null,
      "outputs": [
        {
          "output_type": "display_data",
          "data": {
            "image/png": "[encoded data removed]",
            "text/plain": [
              "<Figure size 432x288 with 1 Axes>"
            ]
          },
          "metadata": {
            "tags": []
          }
        }
      ]
    },
    {
      "cell_type": "code",
      "metadata": {
        "id": "wv0_1LnXfjxd",
        "colab": {
          "base_uri": "https://localhost:8080/",
          "height": 299
        },
        "outputId": "8104c137-d7d1-47e8-b735-b611efdfff9e"
      },
      "source": [
        "%matplotlib inline\n",
        "plt.style.use('ggplot')\n",
        "\n",
        "x = ['Random Forest', 'XGBoost', 'LSTM']\n",
        "score = [28, 37, 33]\n",
        "\n",
        "x_pos = [i for i, _ in enumerate(x)]\n",
        "\n",
        "plt.bar(x_pos, score, color='Blue')\n",
        "plt.xlabel(\"Model\")\n",
        "plt.ylabel(\"Accuracy (%)\")\n",
        "plt.title(\"Model Balanced Accuracy Score Comparision\")\n",
        "\n",
        "plt.xticks(x_pos, x)\n",
        "\n",
        "plt.show()"
      ],
      "execution_count": null,
      "outputs": [
        {
          "output_type": "display_data",
          "data": {
            "image/png": "[encoded data removed]",
            "text/plain": [
              "<Figure size 432x288 with 1 Axes>"
            ]
          },
          "metadata": {
            "tags": []
          }
        }
      ]
    },
    {
      "cell_type": "markdown",
      "metadata": {
        "id": "JoyGlat6f-Oc"
      },
      "source": [
        "# 9. Pretrained BERT Model"
      ]
    },
    {
      "cell_type": "code",
      "metadata": {
        "id": "_vyThT646ygA",
        "colab": {
          "base_uri": "https://localhost:8080/",
          "height": 1000
        },
        "outputId": "11313485-d242-4927-947e-fd02066e1226"
      },
      "source": [
        "!pip install ktrain"
      ],
      "execution_count": null,
      "outputs": [
        {
          "output_type": "stream",
          "text": [
            "Collecting ktrain\n",
            "\u001b[?25l  Downloading https://files.pythonhosted.org/packages/f6/91/e2b47f920e48c0b6ba1916000315b4347c4f727063fb0e474a5cde60bf85/ktrain-0.20.2.tar.gz (25.2MB)\n",
            "\u001b[K     |████████████████████████████████| 25.3MB 1.2MB/s \n",
            "\u001b[?25hCollecting tensorflow==2.1.0\n",
            "\u001b[?25l  Downloading https://files.pythonhosted.org/packages/85/d4/c0cd1057b331bc38b65478302114194bd8e1b9c2bbc06e300935c0e93d90/tensorflow-2.1.0-cp36-cp36m-manylinux2010_x86_64.whl (421.8MB)\n",
            "\u001b[K     |████████████████████████████████| 421.8MB 36kB/s \n",
            "\u001b[?25hRequirement already satisfied: scikit-learn>=0.21.3 in /usr/local/lib/python3.6/dist-packages (from ktrain) (0.22.2.post1)\n",
            "Requirement already satisfied: matplotlib>=3.0.0 in /usr/local/lib/python3.6/dist-packages (from ktrain) (3.2.2)\n",
            "Requirement already satisfied: pandas>=1.0.1 in /usr/local/lib/python3.6/dist-packages (from ktrain) (1.0.5)\n",
            "Requirement already satisfied: fastprogress>=0.1.21 in /usr/local/lib/python3.6/dist-packages (from ktrain) (1.0.0)\n",
            "Collecting keras_bert>=0.81.0\n",
            "  Downloading https://files.pythonhosted.org/packages/e2/7f/95fabd29f4502924fa3f09ff6538c5a7d290dfef2c2fe076d3d1a16e08f0/keras-bert-0.86.0.tar.gz\n",
            "Requirement already satisfied: requests in /usr/local/lib/python3.6/dist-packages (from ktrain) (2.23.0)\n",
            "Requirement already satisfied: joblib in /usr/local/lib/python3.6/dist-packages (from ktrain) (0.16.0)\n",
            "Collecting langdetect\n",
            "\u001b[?25l  Downloading https://files.pythonhosted.org/packages/56/a3/8407c1e62d5980188b4acc45ef3d94b933d14a2ebc9ef3505f22cf772570/langdetect-1.0.8.tar.gz (981kB)\n",
            "\u001b[K     |████████████████████████████████| 983kB 58.4MB/s \n",
            "\u001b[?25hRequirement already satisfied: jieba in /usr/local/lib/python3.6/dist-packages (from ktrain) (0.42.1)\n",
            "Collecting cchardet\n",
            "\u001b[?25l  Downloading https://files.pythonhosted.org/packages/1e/c5/7e1a0d7b4afd83d6f8de794fce82820ec4c5136c6d52e14000822681a842/cchardet-2.1.6-cp36-cp36m-manylinux2010_x86_64.whl (241kB)\n",
            "\u001b[K     |████████████████████████████████| 245kB 59.4MB/s \n",
            "\u001b[?25hRequirement already satisfied: networkx>=2.3 in /usr/local/lib/python3.6/dist-packages (from ktrain) (2.5)\n",
            "Requirement already satisfied: bokeh in /usr/local/lib/python3.6/dist-packages (from ktrain) (2.1.1)\n",
            "Collecting seqeval\n",
            "  Downloading https://files.pythonhosted.org/packages/34/91/068aca8d60ce56dd9ba4506850e876aba5e66a6f2f29aa223224b50df0de/seqeval-0.0.12.tar.gz\n",
            "Requirement already satisfied: packaging in /usr/local/lib/python3.6/dist-packages (from ktrain) (20.4)\n",
            "Requirement already satisfied: tensorflow_datasets in /usr/local/lib/python3.6/dist-packages (from ktrain) (2.1.0)\n",
            "Collecting transformers>=2.11.0\n",
            "\u001b[?25l  Downloading https://files.pythonhosted.org/packages/27/3c/91ed8f5c4e7ef3227b4119200fc0ed4b4fd965b1f0172021c25701087825/transformers-3.0.2-py3-none-any.whl (769kB)\n",
            "\u001b[K     |████████████████████████████████| 778kB 59.6MB/s \n",
            "\u001b[?25hRequirement already satisfied: ipython in /usr/local/lib/python3.6/dist-packages (from ktrain) (5.5.0)\n",
            "Collecting syntok\n",
            "  Downloading https://files.pythonhosted.org/packages/8c/76/a49e73a04b3e3a14ce232e8e28a1587f8108baa665644fe8c40e307e792e/syntok-1.3.1.tar.gz\n",
            "Collecting whoosh\n",
            "\u001b[?25l  Downloading https://files.pythonhosted.org/packages/ba/19/24d0f1f454a2c1eb689ca28d2f178db81e5024f42d82729a4ff6771155cf/Whoosh-2.7.4-py2.py3-none-any.whl (468kB)\n",
            "\u001b[K     |████████████████████████████████| 471kB 58.3MB/s \n",
            "\u001b[?25hCollecting gast==0.2.2\n",
            "  Downloading https://files.pythonhosted.org/packages/4e/35/11749bf99b2d4e3cceb4d55ca22590b0d7c2c62b9de38ac4a4a7f4687421/gast-0.2.2.tar.gz\n",
            "Collecting keras-applications>=1.0.8\n",
            "\u001b[?25l  Downloading https://files.pythonhosted.org/packages/71/e3/19762fdfc62877ae9102edf6342d71b28fbfd9dea3d2f96a882ce099b03f/Keras_Applications-1.0.8-py3-none-any.whl (50kB)\n",
            "\u001b[K     |████████████████████████████████| 51kB 7.4MB/s \n",
            "\u001b[?25hRequirement already satisfied: astor>=0.6.0 in /usr/local/lib/python3.6/dist-packages (from tensorflow==2.1.0->ktrain) (0.8.1)\n",
            "Requirement already satisfied: termcolor>=1.1.0 in /usr/local/lib/python3.6/dist-packages (from tensorflow==2.1.0->ktrain) (1.1.0)\n",
            "Requirement already satisfied: scipy==1.4.1; python_version >= \"3\" in /usr/local/lib/python3.6/dist-packages (from tensorflow==2.1.0->ktrain) (1.4.1)\n",
            "Requirement already satisfied: google-pasta>=0.1.6 in /usr/local/lib/python3.6/dist-packages (from tensorflow==2.1.0->ktrain) (0.2.0)\n",
            "Collecting tensorboard<2.2.0,>=2.1.0\n",
            "\u001b[?25l  Downloading https://files.pythonhosted.org/packages/d9/41/bbf49b61370e4f4d245d4c6051dfb6db80cec672605c91b1652ac8cc3d38/tensorboard-2.1.1-py3-none-any.whl (3.8MB)\n",
            "\u001b[K     |████████████████████████████████| 3.9MB 58.1MB/s \n",
            "\u001b[?25hRequirement already satisfied: six>=1.12.0 in /usr/local/lib/python3.6/dist-packages (from tensorflow==2.1.0->ktrain) (1.15.0)\n",
            "Requirement already satisfied: absl-py>=0.7.0 in /usr/local/lib/python3.6/dist-packages (from tensorflow==2.1.0->ktrain) (0.8.1)\n",
            "Requirement already satisfied: opt-einsum>=2.3.2 in /usr/local/lib/python3.6/dist-packages (from tensorflow==2.1.0->ktrain) (3.3.0)\n",
            "Collecting tensorflow-estimator<2.2.0,>=2.1.0rc0\n",
            "\u001b[?25l  Downloading https://files.pythonhosted.org/packages/18/90/b77c328a1304437ab1310b463e533fa7689f4bfc41549593056d812fab8e/tensorflow_estimator-2.1.0-py2.py3-none-any.whl (448kB)\n",
            "\u001b[K     |████████████████████████████████| 450kB 55.2MB/s \n",
            "\u001b[?25hRequirement already satisfied: grpcio>=1.8.6 in /usr/local/lib/python3.6/dist-packages (from tensorflow==2.1.0->ktrain) (1.31.0)\n",
            "Requirement already satisfied: wrapt>=1.11.1 in /usr/local/lib/python3.6/dist-packages (from tensorflow==2.1.0->ktrain) (1.12.1)\n",
            "Requirement already satisfied: keras-preprocessing>=1.1.0 in /usr/local/lib/python3.6/dist-packages (from tensorflow==2.1.0->ktrain) (1.1.2)\n",
            "Requirement already satisfied: numpy<2.0,>=1.16.0 in /usr/local/lib/python3.6/dist-packages (from tensorflow==2.1.0->ktrain) (1.18.5)\n",
            "Requirement already satisfied: wheel>=0.26; python_version >= \"3\" in /usr/local/lib/python3.6/dist-packages (from tensorflow==2.1.0->ktrain) (0.35.1)\n",
            "Requirement already satisfied: protobuf>=3.8.0 in /usr/local/lib/python3.6/dist-packages (from tensorflow==2.1.0->ktrain) (3.12.4)\n",
            "Requirement already satisfied: kiwisolver>=1.0.1 in /usr/local/lib/python3.6/dist-packages (from matplotlib>=3.0.0->ktrain) (1.2.0)\n",
            "Requirement already satisfied: pyparsing!=2.0.4,!=2.1.2,!=2.1.6,>=2.0.1 in /usr/local/lib/python3.6/dist-packages (from matplotlib>=3.0.0->ktrain) (2.4.7)\n",
            "Requirement already satisfied: python-dateutil>=2.1 in /usr/local/lib/python3.6/dist-packages (from matplotlib>=3.0.0->ktrain) (2.8.1)\n",
            "Requirement already satisfied: cycler>=0.10 in /usr/local/lib/python3.6/dist-packages (from matplotlib>=3.0.0->ktrain) (0.10.0)\n",
            "Requirement already satisfied: pytz>=2017.2 in /usr/local/lib/python3.6/dist-packages (from pandas>=1.0.1->ktrain) (2018.9)\n",
            "Requirement already satisfied: Keras>=2.4.3 in /usr/local/lib/python3.6/dist-packages (from keras_bert>=0.81.0->ktrain) (2.4.3)\n",
            "Collecting keras-transformer>=0.38.0\n",
            "  Downloading https://files.pythonhosted.org/packages/89/6c/d6f0c164f4cc16fbc0d0fea85f5526e87a7d2df7b077809e422a7e626150/keras-transformer-0.38.0.tar.gz\n",
            "Requirement already satisfied: certifi>=2017.4.17 in /usr/local/lib/python3.6/dist-packages (from requests->ktrain) (2020.6.20)\n",
            "Requirement already satisfied: chardet<4,>=3.0.2 in /usr/local/lib/python3.6/dist-packages (from requests->ktrain) (3.0.4)\n",
            "Requirement already satisfied: urllib3!=1.25.0,!=1.25.1,<1.26,>=1.21.1 in /usr/local/lib/python3.6/dist-packages (from requests->ktrain) (1.24.3)\n",
            "Requirement already satisfied: idna<3,>=2.5 in /usr/local/lib/python3.6/dist-packages (from requests->ktrain) (2.10)\n",
            "Requirement already satisfied: decorator>=4.3.0 in /usr/local/lib/python3.6/dist-packages (from networkx>=2.3->ktrain) (4.4.2)\n",
            "Requirement already satisfied: typing-extensions>=3.7.4 in /usr/local/lib/python3.6/dist-packages (from bokeh->ktrain) (3.7.4.3)\n",
            "Requirement already satisfied: Jinja2>=2.7 in /usr/local/lib/python3.6/dist-packages (from bokeh->ktrain) (2.11.2)\n",
            "Requirement already satisfied: tornado>=5.1 in /usr/local/lib/python3.6/dist-packages (from bokeh->ktrain) (5.1.1)\n",
            "Requirement already satisfied: pillow>=4.0 in /usr/local/lib/python3.6/dist-packages (from bokeh->ktrain) (7.0.0)\n",
            "Requirement already satisfied: PyYAML>=3.10 in /usr/local/lib/python3.6/dist-packages (from bokeh->ktrain) (3.13)\n",
            "Requirement already satisfied: attrs>=18.1.0 in /usr/local/lib/python3.6/dist-packages (from tensorflow_datasets->ktrain) (20.1.0)\n",
            "Requirement already satisfied: future in /usr/local/lib/python3.6/dist-packages (from tensorflow_datasets->ktrain) (0.16.0)\n",
            "Requirement already satisfied: dill in /usr/local/lib/python3.6/dist-packages (from tensorflow_datasets->ktrain) (0.3.2)\n",
            "Requirement already satisfied: tensorflow-metadata in /usr/local/lib/python3.6/dist-packages (from tensorflow_datasets->ktrain) (0.23.0)\n",
            "Requirement already satisfied: promise in /usr/local/lib/python3.6/dist-packages (from tensorflow_datasets->ktrain) (2.3)\n",
            "Requirement already satisfied: tqdm in /usr/local/lib/python3.6/dist-packages (from tensorflow_datasets->ktrain) (4.41.1)\n",
            "Collecting sentencepiece!=0.1.92\n",
            "\u001b[?25l  Downloading https://files.pythonhosted.org/packages/d4/a4/d0a884c4300004a78cca907a6ff9a5e9fe4f090f5d95ab341c53d28cbc58/sentencepiece-0.1.91-cp36-cp36m-manylinux1_x86_64.whl (1.1MB)\n",
            "\u001b[K     |████████████████████████████████| 1.1MB 58.5MB/s \n",
            "\u001b[?25hCollecting tokenizers==0.8.1.rc1\n",
            "\u001b[?25l  Downloading https://files.pythonhosted.org/packages/40/d0/30d5f8d221a0ed981a186c8eb986ce1c94e3a6e87f994eae9f4aa5250217/tokenizers-0.8.1rc1-cp36-cp36m-manylinux1_x86_64.whl (3.0MB)\n",
            "\u001b[K     |████████████████████████████████| 3.0MB 60.9MB/s \n",
            "\u001b[?25hCollecting sacremoses\n",
            "\u001b[?25l  Downloading https://files.pythonhosted.org/packages/7d/34/09d19aff26edcc8eb2a01bed8e98f13a1537005d31e95233fd48216eed10/sacremoses-0.0.43.tar.gz (883kB)\n",
            "\u001b[K     |████████████████████████████████| 890kB 61.9MB/s \n",
            "\u001b[?25hRequirement already satisfied: regex!=2019.12.17 in /usr/local/lib/python3.6/dist-packages (from transformers>=2.11.0->ktrain) (2019.12.20)\n",
            "Requirement already satisfied: dataclasses; python_version < \"3.7\" in /usr/local/lib/python3.6/dist-packages (from transformers>=2.11.0->ktrain) (0.7)\n",
            "Requirement already satisfied: filelock in /usr/local/lib/python3.6/dist-packages (from transformers>=2.11.0->ktrain) (3.0.12)\n",
            "Requirement already satisfied: pexpect; sys_platform != \"win32\" in /usr/local/lib/python3.6/dist-packages (from ipython->ktrain) (4.8.0)\n",
            "Requirement already satisfied: pickleshare in /usr/local/lib/python3.6/dist-packages (from ipython->ktrain) (0.7.5)\n",
            "Requirement already satisfied: pygments in /usr/local/lib/python3.6/dist-packages (from ipython->ktrain) (2.1.3)\n",
            "Requirement already satisfied: prompt-toolkit<2.0.0,>=1.0.4 in /usr/local/lib/python3.6/dist-packages (from ipython->ktrain) (1.0.18)\n",
            "Requirement already satisfied: setuptools>=18.5 in /usr/local/lib/python3.6/dist-packages (from ipython->ktrain) (49.6.0)\n",
            "Requirement already satisfied: traitlets>=4.2 in /usr/local/lib/python3.6/dist-packages (from ipython->ktrain) (4.3.3)\n",
            "Requirement already satisfied: simplegeneric>0.8 in /usr/local/lib/python3.6/dist-packages (from ipython->ktrain) (0.8.1)\n",
            "Requirement already satisfied: h5py in /usr/local/lib/python3.6/dist-packages (from keras-applications>=1.0.8->tensorflow==2.1.0->ktrain) (2.10.0)\n",
            "Requirement already satisfied: google-auth<2,>=1.6.3 in /usr/local/lib/python3.6/dist-packages (from tensorboard<2.2.0,>=2.1.0->tensorflow==2.1.0->ktrain) (1.17.2)\n",
            "Requirement already satisfied: werkzeug>=0.11.15 in /usr/local/lib/python3.6/dist-packages (from tensorboard<2.2.0,>=2.1.0->tensorflow==2.1.0->ktrain) (1.0.1)\n",
            "Requirement already satisfied: markdown>=2.6.8 in /usr/local/lib/python3.6/dist-packages (from tensorboard<2.2.0,>=2.1.0->tensorflow==2.1.0->ktrain) (3.2.2)\n",
            "Requirement already satisfied: google-auth-oauthlib<0.5,>=0.4.1 in /usr/local/lib/python3.6/dist-packages (from tensorboard<2.2.0,>=2.1.0->tensorflow==2.1.0->ktrain) (0.4.1)\n",
            "Collecting keras-pos-embd>=0.11.0\n",
            "  Downloading https://files.pythonhosted.org/packages/09/70/b63ed8fc660da2bb6ae29b9895401c628da5740c048c190b5d7107cadd02/keras-pos-embd-0.11.0.tar.gz\n",
            "Collecting keras-multi-head>=0.27.0\n",
            "  Downloading https://files.pythonhosted.org/packages/e6/32/45adf2549450aca7867deccfa04af80a0ab1ca139af44b16bc669e0e09cd/keras-multi-head-0.27.0.tar.gz\n",
            "Collecting keras-layer-normalization>=0.14.0\n",
            "  Downloading https://files.pythonhosted.org/packages/a4/0e/d1078df0494bac9ce1a67954e5380b6e7569668f0f3b50a9531c62c1fc4a/keras-layer-normalization-0.14.0.tar.gz\n",
            "Collecting keras-position-wise-feed-forward>=0.6.0\n",
            "  Downloading https://files.pythonhosted.org/packages/e3/59/f0faa1037c033059e7e9e7758e6c23b4d1c0772cd48de14c4b6fd4033ad5/keras-position-wise-feed-forward-0.6.0.tar.gz\n",
            "Collecting keras-embed-sim>=0.8.0\n",
            "  Downloading https://files.pythonhosted.org/packages/57/ef/61a1e39082c9e1834a2d09261d4a0b69f7c818b359216d4e1912b20b1c86/keras-embed-sim-0.8.0.tar.gz\n",
            "Requirement already satisfied: MarkupSafe>=0.23 in /usr/local/lib/python3.6/dist-packages (from Jinja2>=2.7->bokeh->ktrain) (1.1.1)\n",
            "Requirement already satisfied: googleapis-common-protos in /usr/local/lib/python3.6/dist-packages (from tensorflow-metadata->tensorflow_datasets->ktrain) (1.52.0)\n",
            "Requirement already satisfied: click in /usr/local/lib/python3.6/dist-packages (from sacremoses->transformers>=2.11.0->ktrain) (7.1.2)\n",
            "Requirement already satisfied: ptyprocess>=0.5 in /usr/local/lib/python3.6/dist-packages (from pexpect; sys_platform != \"win32\"->ipython->ktrain) (0.6.0)\n",
            "Requirement already satisfied: wcwidth in /usr/local/lib/python3.6/dist-packages (from prompt-toolkit<2.0.0,>=1.0.4->ipython->ktrain) (0.2.5)\n",
            "Requirement already satisfied: ipython-genutils in /usr/local/lib/python3.6/dist-packages (from traitlets>=4.2->ipython->ktrain) (0.2.0)\n",
            "Requirement already satisfied: cachetools<5.0,>=2.0.0 in /usr/local/lib/python3.6/dist-packages (from google-auth<2,>=1.6.3->tensorboard<2.2.0,>=2.1.0->tensorflow==2.1.0->ktrain) (4.1.1)\n",
            "Requirement already satisfied: pyasn1-modules>=0.2.1 in /usr/local/lib/python3.6/dist-packages (from google-auth<2,>=1.6.3->tensorboard<2.2.0,>=2.1.0->tensorflow==2.1.0->ktrain) (0.2.8)\n",
            "Requirement already satisfied: rsa<5,>=3.1.4; python_version >= \"3\" in /usr/local/lib/python3.6/dist-packages (from google-auth<2,>=1.6.3->tensorboard<2.2.0,>=2.1.0->tensorflow==2.1.0->ktrain) (4.6)\n",
            "Requirement already satisfied: importlib-metadata; python_version < \"3.8\" in /usr/local/lib/python3.6/dist-packages (from markdown>=2.6.8->tensorboard<2.2.0,>=2.1.0->tensorflow==2.1.0->ktrain) (1.7.0)\n",
            "Requirement already satisfied: requests-oauthlib>=0.7.0 in /usr/local/lib/python3.6/dist-packages (from google-auth-oauthlib<0.5,>=0.4.1->tensorboard<2.2.0,>=2.1.0->tensorflow==2.1.0->ktrain) (1.3.0)\n",
            "Collecting keras-self-attention==0.46.0\n",
            "  Downloading https://files.pythonhosted.org/packages/15/6b/c804924a056955fa1f3ff767945187103cfc851ba9bd0fc5a6c6bc18e2eb/keras-self-attention-0.46.0.tar.gz\n",
            "Requirement already satisfied: pyasn1<0.5.0,>=0.4.6 in /usr/local/lib/python3.6/dist-packages (from pyasn1-modules>=0.2.1->google-auth<2,>=1.6.3->tensorboard<2.2.0,>=2.1.0->tensorflow==2.1.0->ktrain) (0.4.8)\n",
            "Requirement already satisfied: zipp>=0.5 in /usr/local/lib/python3.6/dist-packages (from importlib-metadata; python_version < \"3.8\"->markdown>=2.6.8->tensorboard<2.2.0,>=2.1.0->tensorflow==2.1.0->ktrain) (3.1.0)\n",
            "Requirement already satisfied: oauthlib>=3.0.0 in /usr/local/lib/python3.6/dist-packages (from requests-oauthlib>=0.7.0->google-auth-oauthlib<0.5,>=0.4.1->tensorboard<2.2.0,>=2.1.0->tensorflow==2.1.0->ktrain) (3.1.0)\n",
            "Building wheels for collected packages: ktrain, keras-bert, langdetect, seqeval, syntok, gast, keras-transformer, sacremoses, keras-pos-embd, keras-multi-head, keras-layer-normalization, keras-position-wise-feed-forward, keras-embed-sim, keras-self-attention\n",
            "  Building wheel for ktrain (setup.py) ... \u001b[?25l\u001b[?25hdone\n",
            "  Created wheel for ktrain: filename=ktrain-0.20.2-cp36-none-any.whl size=25268858 sha256=80102b75a1f830c9562b4f6ab6cbabb0c9e72069482fad49d7eb445d60714085\n",
            "  Stored in directory: /root/.cache/pip/wheels/39/cb/df/46a2a4009de6e87d908d89dabdd78216bf7396eb2150ca1bfc\n",
            "  Building wheel for keras-bert (setup.py) ... \u001b[?25l\u001b[?25hdone\n",
            "  Created wheel for keras-bert: filename=keras_bert-0.86.0-cp36-none-any.whl size=34145 sha256=e449985d981a34722f135405d8be76a62c0785a59054fdda563d09580a82c275\n",
            "  Stored in directory: /root/.cache/pip/wheels/66/f0/b1/748128b58562fc9e31b907bb5e2ab6a35eb37695e83911236b\n",
            "  Building wheel for langdetect (setup.py) ... \u001b[?25l\u001b[?25hdone\n",
            "  Created wheel for langdetect: filename=langdetect-1.0.8-cp36-none-any.whl size=993195 sha256=30ef545e83eb7d0ac4f4178efc7744e36d659a372caff95a3e074583ad902a77\n",
            "  Stored in directory: /root/.cache/pip/wheels/8d/b3/aa/6d99de9f3841d7d3d40a60ea06e6d669e8e5012e6c8b947a57\n",
            "  Building wheel for seqeval (setup.py) ... \u001b[?25l\u001b[?25hdone\n",
            "  Created wheel for seqeval: filename=seqeval-0.0.12-cp36-none-any.whl size=7423 sha256=49ac124da3cdbceeaccad9e1ead6337151cc3638c699973a3544c1fb4458b7c2\n",
            "  Stored in directory: /root/.cache/pip/wheels/4f/32/0a/df3b340a82583566975377d65e724895b3fad101a3fb729f68\n",
            "  Building wheel for syntok (setup.py) ... \u001b[?25l\u001b[?25hdone\n",
            "  Created wheel for syntok: filename=syntok-1.3.1-cp36-none-any.whl size=20919 sha256=6ed625ce66adc08606153325eccf45147b508487715bd80ec2be2d4250c70be1\n",
            "  Stored in directory: /root/.cache/pip/wheels/51/c6/a4/be1920586c49469846bcd2888200bdecfe109ec421dab9be2d\n",
            "  Building wheel for gast (setup.py) ... \u001b[?25l\u001b[?25hdone\n",
            "  Created wheel for gast: filename=gast-0.2.2-cp36-none-any.whl size=7542 sha256=aef8ddbb290928643ff533b9e566b4c18b388922e666bcd7a3d56b04d13cf458\n",
            "  Stored in directory: /root/.cache/pip/wheels/5c/2e/7e/a1d4d4fcebe6c381f378ce7743a3ced3699feb89bcfbdadadd\n",
            "  Building wheel for keras-transformer (setup.py) ... \u001b[?25l\u001b[?25hdone\n",
            "  Created wheel for keras-transformer: filename=keras_transformer-0.38.0-cp36-none-any.whl size=12942 sha256=8367d659b2ebff252fe5857962aa5be37e7529276d223e7371ba4b0a67940439\n",
            "  Stored in directory: /root/.cache/pip/wheels/e5/fb/3a/37b2b9326c799aa010ae46a04ddb04f320d8c77c0b7e837f4e\n",
            "  Building wheel for sacremoses (setup.py) ... \u001b[?25l\u001b[?25hdone\n",
            "  Created wheel for sacremoses: filename=sacremoses-0.0.43-cp36-none-any.whl size=893257 sha256=1e120e17c27cc5b1ff25bed7f10a3e1012be1583913cea665abfbd31abfbf682\n",
            "  Stored in directory: /root/.cache/pip/wheels/29/3c/fd/7ce5c3f0666dab31a50123635e6fb5e19ceb42ce38d4e58f45\n",
            "  Building wheel for keras-pos-embd (setup.py) ... \u001b[?25l\u001b[?25hdone\n",
            "  Created wheel for keras-pos-embd: filename=keras_pos_embd-0.11.0-cp36-none-any.whl size=7554 sha256=7cc6ed16acdf000cbe47b682d3fca0eadd7e5ffe2b651c1ef1626d739fbdab8c\n",
            "  Stored in directory: /root/.cache/pip/wheels/5b/a1/a0/ce6b1d49ba1a9a76f592e70cf297b05c96bc9f418146761032\n",
            "  Building wheel for keras-multi-head (setup.py) ... \u001b[?25l\u001b[?25hdone\n",
            "  Created wheel for keras-multi-head: filename=keras_multi_head-0.27.0-cp36-none-any.whl size=15612 sha256=8d2116bca10d6fb9e1464363debebcd15d1bbb4828bb50540251975c4f187faf\n",
            "  Stored in directory: /root/.cache/pip/wheels/b5/b4/49/0a0c27dcb93c13af02fea254ff51d1a43a924dd4e5b7a7164d\n",
            "  Building wheel for keras-layer-normalization (setup.py) ... \u001b[?25l\u001b[?25hdone\n",
            "  Created wheel for keras-layer-normalization: filename=keras_layer_normalization-0.14.0-cp36-none-any.whl size=5268 sha256=bb4e8df6ffe57854b2e5990bce91919f648606549f0ae90ac9aefea95e858bde\n",
            "  Stored in directory: /root/.cache/pip/wheels/54/80/22/a638a7d406fd155e507aa33d703e3fa2612b9eb7bb4f4fe667\n",
            "  Building wheel for keras-position-wise-feed-forward (setup.py) ... \u001b[?25l\u001b[?25hdone\n",
            "  Created wheel for keras-position-wise-feed-forward: filename=keras_position_wise_feed_forward-0.6.0-cp36-none-any.whl size=5626 sha256=7605888df2940a844e577da6684b5cc0d6715a930535276605a623bdc378cf81\n",
            "  Stored in directory: /root/.cache/pip/wheels/39/e2/e2/3514fef126a00574b13bc0b9e23891800158df3a3c19c96e3b\n",
            "  Building wheel for keras-embed-sim (setup.py) ... \u001b[?25l\u001b[?25hdone\n",
            "  Created wheel for keras-embed-sim: filename=keras_embed_sim-0.8.0-cp36-none-any.whl size=4559 sha256=d79830b0b8c122d0b2a2ffc1823ad79f5dba1529a41b1219722fad2383641bba\n",
            "  Stored in directory: /root/.cache/pip/wheels/49/45/8b/c111f6cc8bec253e984677de73a6f4f5d2f1649f42aac191c8\n",
            "  Building wheel for keras-self-attention (setup.py) ... \u001b[?25l\u001b[?25hdone\n",
            "  Created wheel for keras-self-attention: filename=keras_self_attention-0.46.0-cp36-none-any.whl size=17278 sha256=8623f645f5731593303b90855193d58e469efabcb28e60a77b76f691463b016a\n",
            "  Stored in directory: /root/.cache/pip/wheels/d2/2e/80/fec4c05eb23c8e13b790e26d207d6e0ffe8013fad8c6bdd4d2\n",
            "Successfully built ktrain keras-bert langdetect seqeval syntok gast keras-transformer sacremoses keras-pos-embd keras-multi-head keras-layer-normalization keras-position-wise-feed-forward keras-embed-sim keras-self-attention\n",
            "\u001b[31mERROR: tensorflow-probability 0.11.0 has requirement gast>=0.3.2, but you'll have gast 0.2.2 which is incompatible.\u001b[0m\n",
            "Installing collected packages: gast, keras-applications, tensorboard, tensorflow-estimator, tensorflow, keras-pos-embd, keras-self-attention, keras-multi-head, keras-layer-normalization, keras-position-wise-feed-forward, keras-embed-sim, keras-transformer, keras-bert, langdetect, cchardet, seqeval, sentencepiece, tokenizers, sacremoses, transformers, syntok, whoosh, ktrain\n",
            "  Found existing installation: gast 0.3.3\n",
            "    Uninstalling gast-0.3.3:\n",
            "      Successfully uninstalled gast-0.3.3\n",
            "  Found existing installation: tensorboard 2.3.0\n",
            "    Uninstalling tensorboard-2.3.0:\n",
            "      Successfully uninstalled tensorboard-2.3.0\n",
            "  Found existing installation: tensorflow-estimator 2.3.0\n",
            "    Uninstalling tensorflow-estimator-2.3.0:\n",
            "      Successfully uninstalled tensorflow-estimator-2.3.0\n",
            "  Found existing installation: tensorflow 2.3.0\n",
            "    Uninstalling tensorflow-2.3.0:\n",
            "      Successfully uninstalled tensorflow-2.3.0\n",
            "Successfully installed cchardet-2.1.6 gast-0.2.2 keras-applications-1.0.8 keras-bert-0.86.0 keras-embed-sim-0.8.0 keras-layer-normalization-0.14.0 keras-multi-head-0.27.0 keras-pos-embd-0.11.0 keras-position-wise-feed-forward-0.6.0 keras-self-attention-0.46.0 keras-transformer-0.38.0 ktrain-0.20.2 langdetect-1.0.8 sacremoses-0.0.43 sentencepiece-0.1.91 seqeval-0.0.12 syntok-1.3.1 tensorboard-2.1.1 tensorflow-2.1.0 tensorflow-estimator-2.1.0 tokenizers-0.8.1rc1 transformers-3.0.2 whoosh-2.7.4\n"
          ],
          "name": "stdout"
        },
        {
          "output_type": "display_data",
          "data": {
            "application/vnd.colab-display-data+json": {
              "pip_warning": {
                "packages": [
                  "gast",
                  "tensorboard",
                  "tensorflow"
                ]
              }
            }
          },
          "metadata": {
            "tags": []
          }
        }
      ]
    },
    {
      "cell_type": "code",
      "metadata": {
        "id": "U8ruOUPbYIuJ"
      },
      "source": [
        "import ktrain\n",
        "from ktrain import text as txt"
      ],
      "execution_count": null,
      "outputs": []
    },
    {
      "cell_type": "code",
      "metadata": {
        "id": "LzOo6onlYJjU",
        "colab": {
          "base_uri": "https://localhost:8080/",
          "height": 272
        },
        "outputId": "3afc660d-9b6d-4c9c-e796-9a5f8d3d7f33"
      },
      "source": [
        "\n",
        "# load data\n",
        "(x_train, y_train), (x_test, y_test), preproc = txt.texts_from_df(df, text_column= 'Consumer complaint narrative', label_columns = 'Product', maxlen=500, \n",
        "                                                                     preprocess_mode='bert')"
      ],
      "execution_count": null,
      "outputs": [
        {
          "output_type": "stream",
          "text": [
            "downloading pretrained BERT model (uncased_L-12_H-768_A-12.zip)...\n",
            "[██████████████████████████████████████████████████]\n",
            "extracting pretrained BERT model...\n",
            "done.\n",
            "\n",
            "cleanup downloaded zip...\n",
            "done.\n",
            "\n",
            "preprocessing train...\n",
            "language: en\n"
          ],
          "name": "stdout"
        },
        {
          "output_type": "display_data",
          "data": {
            "text/html": [
              "done."
            ],
            "text/plain": [
              "<IPython.core.display.HTML object>"
            ]
          },
          "metadata": {
            "tags": []
          }
        },
        {
          "output_type": "stream",
          "text": [
            "Is Multi-Label? False\n",
            "preprocessing test...\n",
            "language: en\n"
          ],
          "name": "stdout"
        },
        {
          "output_type": "display_data",
          "data": {
            "text/html": [
              "done."
            ],
            "text/plain": [
              "<IPython.core.display.HTML object>"
            ]
          },
          "metadata": {
            "tags": []
          }
        }
      ]
    },
    {
      "cell_type": "code",
      "metadata": {
        "id": "zekEQ3B2dD_w",
        "colab": {
          "base_uri": "https://localhost:8080/",
          "height": 68
        },
        "outputId": "f4f8fc48-89b8-4374-9bcd-c3c6b716e287"
      },
      "source": [
        "# load model\n",
        "model = txt.text_classifier('bert', (x_train, y_train), preproc=preproc)"
      ],
      "execution_count": null,
      "outputs": [
        {
          "output_type": "stream",
          "text": [
            "Is Multi-Label? False\n",
            "maxlen is 500\n",
            "done.\n"
          ],
          "name": "stdout"
        }
      ]
    },
    {
      "cell_type": "code",
      "metadata": {
        "id": "N-SQfP0VdKrL"
      },
      "source": [
        "# wrap model and data in ktrain.Learner object\n",
        "learner = ktrain.get_learner(model, \n",
        "                             train_data=(x_train, y_train), \n",
        "                             val_data=(x_test, y_test), \n",
        "                             batch_size=6)"
      ],
      "execution_count": null,
      "outputs": []
    },
    {
      "cell_type": "code",
      "metadata": {
        "id": "v3uyWHAZXKAi"
      },
      "source": [
        ""
      ],
      "execution_count": null,
      "outputs": []
    },
    {
      "cell_type": "code",
      "metadata": {
        "id": "l72ZPR_7dNB9",
        "colab": {
          "base_uri": "https://localhost:8080/",
          "height": 473
        },
        "outputId": "18b00859-d567-493f-cf96-a23dbe56eb78"
      },
      "source": [
        "\n",
        "# find good learning rate\n",
        "learner.lr_find()             # briefly simulate training to find good learning rate\n",
        "learner.lr_plot()             # visually identify best learning rate"
      ],
      "execution_count": null,
      "outputs": [
        {
          "output_type": "stream",
          "text": [
            "simulating training for different learning rates... this may take a few moments...\n",
            "Epoch 1/1024\n",
            "427/427 [==============================] - 1686s 4s/step - loss: 1.4681 - accuracy: 0.5016\n",
            "Epoch 2/1024\n",
            "427/427 [==============================] - 1766s 4s/step - loss: 0.8564 - accuracy: 0.7455\n",
            "Epoch 3/1024\n",
            "427/427 [==============================] - 1679s 4s/step - loss: 4.3294 - accuracy: 0.6120\n",
            "\n",
            "\n",
            "done.\n",
            "Please invoke the Learner.lr_plot() method to visually inspect the loss plot to help identify the maximal learning rate associated with falling loss.\n"
          ],
          "name": "stdout"
        },
        {
          "output_type": "display_data",
          "data": {
            "image/png": "[encoded data removed]",
            "text/plain": [
              "<Figure size 432x288 with 1 Axes>"
            ]
          },
          "metadata": {
            "tags": []
          }
        }
      ]
    },
    {
      "cell_type": "code",
      "metadata": {
        "id": "IeH1EhmndPBe",
        "colab": {
          "base_uri": "https://localhost:8080/",
          "height": 207
        },
        "outputId": "7429b988-bc8c-424c-c0c8-c6de9be5e058"
      },
      "source": [
        "\n",
        "# train using 1cycle learning rate schedule for 3 epochs\n",
        "learner.fit_onecycle(2e-5, 3) "
      ],
      "execution_count": null,
      "outputs": [
        {
          "output_type": "stream",
          "text": [
            "\n",
            "\n",
            "begin training using onecycle policy with max lr of 2e-05...\n",
            "Epoch 1/3\n",
            "427/427 [==============================] - 1729s 4s/step - loss: 0.9719 - accuracy: 0.7022 - val_loss: 0.6993 - val_accuracy: 0.7368\n",
            "Epoch 2/3\n",
            "427/427 [==============================] - 1711s 4s/step - loss: 0.5582 - accuracy: 0.8271 - val_loss: 0.4479 - val_accuracy: 0.8351\n",
            "Epoch 3/3\n",
            "427/427 [==============================] - 1712s 4s/step - loss: 0.2831 - accuracy: 0.9149 - val_loss: 0.4257 - val_accuracy: 0.8596\n"
          ],
          "name": "stdout"
        },
        {
          "output_type": "execute_result",
          "data": {
            "text/plain": [
              "<tensorflow.python.keras.callbacks.History at 0x7f750ceb6240>"
            ]
          },
          "metadata": {
            "tags": []
          },
          "execution_count": 111
        }
      ]
    },
    {
      "cell_type": "code",
      "metadata": {
        "id": "5SMhLGgIhFKr",
        "colab": {
          "base_uri": "https://localhost:8080/",
          "height": 136
        },
        "outputId": "0fc33937-f765-4911-960a-26ef1323023a"
      },
      "source": [
        "learner.validate(val_data=(x_test, y_test), class_names=y_train.target_names)"
      ],
      "execution_count": null,
      "outputs": [
        {
          "output_type": "execute_result",
          "data": {
            "text/plain": [
              "array([[0., 0., 1., ..., 0., 0., 0.],\n",
              "       [0., 0., 1., ..., 0., 0., 0.],\n",
              "       [0., 0., 0., ..., 0., 0., 0.],\n",
              "       ...,\n",
              "       [0., 0., 1., ..., 0., 0., 0.],\n",
              "       [0., 0., 1., ..., 0., 0., 0.],\n",
              "       [0., 1., 0., ..., 0., 0., 0.]], dtype=float32)"
            ]
          },
          "metadata": {
            "tags": []
          },
          "execution_count": 112
        }
      ]
    },
    {
      "cell_type": "code",
      "metadata": {
        "id": "8aCtAqn-dmOV",
        "colab": {
          "base_uri": "https://localhost:8080/",
          "height": 462
        },
        "outputId": "43387fcc-0d14-4edd-90e3-363a91d5de29"
      },
      "source": [
        "learner.validate(val_data=(x_test, y_test))"
      ],
      "execution_count": null,
      "outputs": [
        {
          "output_type": "stream",
          "text": [
            "              precision    recall  f1-score   support\n",
            "\n",
            "           0       0.45      0.71      0.56         7\n",
            "           1       0.79      0.58      0.67        19\n",
            "           2       0.90      0.96      0.93       208\n",
            "           3       0.75      0.60      0.67        30\n",
            "           4       0.00      0.00      0.00         4\n",
            "           5       0.71      0.71      0.71        14\n",
            "           7       0.00      0.00      0.00         2\n",
            "           8       1.00      1.00      1.00         1\n",
            "\n",
            "    accuracy                           0.86       285\n",
            "   macro avg       0.58      0.57      0.57       285\n",
            "weighted avg       0.84      0.86      0.85       285\n",
            "\n"
          ],
          "name": "stdout"
        },
        {
          "output_type": "stream",
          "text": [
            "/usr/local/lib/python3.6/dist-packages/sklearn/metrics/_classification.py:1272: UndefinedMetricWarning: Precision and F-score are ill-defined and being set to 0.0 in labels with no predicted samples. Use `zero_division` parameter to control this behavior.\n",
            "  _warn_prf(average, modifier, msg_start, len(result))\n"
          ],
          "name": "stderr"
        },
        {
          "output_type": "execute_result",
          "data": {
            "text/plain": [
              "array([[  5,   1,   0,   0,   0,   1,   0,   0],\n",
              "       [  1,  11,   7,   0,   0,   0,   0,   0],\n",
              "       [  0,   0, 200,   6,   0,   2,   0,   0],\n",
              "       [  0,   1,  10,  18,   0,   1,   0,   0],\n",
              "       [  4,   0,   0,   0,   0,   0,   0,   0],\n",
              "       [  1,   1,   2,   0,   0,  10,   0,   0],\n",
              "       [  0,   0,   2,   0,   0,   0,   0,   0],\n",
              "       [  0,   0,   0,   0,   0,   0,   0,   1]])"
            ]
          },
          "metadata": {
            "tags": []
          },
          "execution_count": 113
        }
      ]
    },
    {
      "cell_type": "code",
      "metadata": {
        "id": "tjmxnroEgjay",
        "colab": {
          "base_uri": "https://localhost:8080/"
        },
        "outputId": "7d938524-f13a-4457-bb55-275a90bbe43a"
      },
      "source": [
        "!jupyter nbconvert --to html test.ipynb"
      ],
      "execution_count": null,
      "outputs": [
        {
          "output_type": "stream",
          "text": [
            "[NbConvertApp] WARNING | pattern u'test.ipynb' matched no files\n",
            "This application is used to convert notebook files (*.ipynb) to various other\n",
            "formats.\n",
            "\n",
            "WARNING: THE COMMANDLINE INTERFACE MAY CHANGE IN FUTURE RELEASES.\n",
            "\n",
            "Options\n",
            "-------\n",
            "\n",
            "Arguments that take values are actually convenience aliases to full\n",
            "Configurables, whose aliases are listed on the help line. For more information\n",
            "on full configurables, see '--help-all'.\n",
            "\n",
            "--execute\n",
            "    Execute the notebook prior to export.\n",
            "--allow-errors\n",
            "    Continue notebook execution even if one of the cells throws an error and include the error message in the cell output (the default behaviour is to abort conversion). This flag is only relevant if '--execute' was specified, too.\n",
            "--no-input\n",
            "    Exclude input cells and output prompts from converted document. \n",
            "    This mode is ideal for generating code-free reports.\n",
            "--stdout\n",
            "    Write notebook output to stdout instead of files.\n",
            "--stdin\n",
            "    read a single notebook file from stdin. Write the resulting notebook with default basename 'notebook.*'\n",
            "--inplace\n",
            "    Run nbconvert in place, overwriting the existing notebook (only \n",
            "    relevant when converting to notebook format)\n",
            "-y\n",
            "    Answer yes to any questions instead of prompting.\n",
            "--clear-output\n",
            "    Clear output of current file and save in place, \n",
            "    overwriting the existing notebook.\n",
            "--debug\n",
            "    set log level to logging.DEBUG (maximize logging output)\n",
            "--no-prompt\n",
            "    Exclude input and output prompts from converted document.\n",
            "--generate-config\n",
            "    generate default config file\n",
            "--nbformat=<Enum> (NotebookExporter.nbformat_version)\n",
            "    Default: 4\n",
            "    Choices: [1, 2, 3, 4]\n",
            "    The nbformat version to write. Use this to downgrade notebooks.\n",
            "--output-dir=<Unicode> (FilesWriter.build_directory)\n",
            "    Default: ''\n",
            "    Directory to write output(s) to. Defaults to output to the directory of each\n",
            "    notebook. To recover previous default behaviour (outputting to the current\n",
            "    working directory) use . as the flag value.\n",
            "--writer=<DottedObjectName> (NbConvertApp.writer_class)\n",
            "    Default: 'FilesWriter'\n",
            "    Writer class used to write the  results of the conversion\n",
            "--log-level=<Enum> (Application.log_level)\n",
            "    Default: 30\n",
            "    Choices: (0, 10, 20, 30, 40, 50, 'DEBUG', 'INFO', 'WARN', 'ERROR', 'CRITICAL')\n",
            "    Set the log level by value or name.\n",
            "--reveal-prefix=<Unicode> (SlidesExporter.reveal_url_prefix)\n",
            "    Default: u''\n",
            "    The URL prefix for reveal.js (version 3.x). This defaults to the reveal CDN,\n",
            "    but can be any url pointing to a copy  of reveal.js.\n",
            "    For speaker notes to work, this must be a relative path to a local  copy of\n",
            "    reveal.js: e.g., \"reveal.js\".\n",
            "    If a relative path is given, it must be a subdirectory of the current\n",
            "    directory (from which the server is run).\n",
            "    See the usage documentation\n",
            "    (https://nbconvert.readthedocs.io/en/latest/usage.html#reveal-js-html-\n",
            "    slideshow) for more details.\n",
            "--to=<Unicode> (NbConvertApp.export_format)\n",
            "    Default: 'html'\n",
            "    The export format to be used, either one of the built-in formats\n",
            "    ['asciidoc', 'custom', 'html', 'latex', 'markdown', 'notebook', 'pdf',\n",
            "    'python', 'rst', 'script', 'slides'] or a dotted object name that represents\n",
            "    the import path for an `Exporter` class\n",
            "--template=<Unicode> (TemplateExporter.template_file)\n",
            "    Default: u''\n",
            "    Name of the template file to use\n",
            "--output=<Unicode> (NbConvertApp.output_base)\n",
            "    Default: ''\n",
            "    overwrite base name use for output files. can only be used when converting\n",
            "    one notebook at a time.\n",
            "--post=<DottedOrNone> (NbConvertApp.postprocessor_class)\n",
            "    Default: u''\n",
            "    PostProcessor class used to write the results of the conversion\n",
            "--config=<Unicode> (JupyterApp.config_file)\n",
            "    Default: u''\n",
            "    Full path of a config file.\n",
            "\n",
            "To see all available configurables, use `--help-all`\n",
            "\n",
            "Examples\n",
            "--------\n",
            "\n",
            "    The simplest way to use nbconvert is\n",
            "    \n",
            "    > jupyter nbconvert mynotebook.ipynb\n",
            "    \n",
            "    which will convert mynotebook.ipynb to the default format (probably HTML).\n",
            "    \n",
            "    You can specify the export format with `--to`.\n",
            "    Options include ['asciidoc', 'custom', 'html', 'latex', 'markdown', 'notebook', 'pdf', 'python', 'rst', 'script', 'slides'].\n",
            "    \n",
            "    > jupyter nbconvert --to latex mynotebook.ipynb\n",
            "    \n",
            "    Both HTML and LaTeX support multiple output templates. LaTeX includes\n",
            "    'base', 'article' and 'report'.  HTML includes 'basic' and 'full'. You\n",
            "    can specify the flavor of the format used.\n",
            "    \n",
            "    > jupyter nbconvert --to html --template basic mynotebook.ipynb\n",
            "    \n",
            "    You can also pipe the output to stdout, rather than a file\n",
            "    \n",
            "    > jupyter nbconvert mynotebook.ipynb --stdout\n",
            "    \n",
            "    PDF is generated via latex\n",
            "    \n",
            "    > jupyter nbconvert mynotebook.ipynb --to pdf\n",
            "    \n",
            "    You can get (and serve) a Reveal.js-powered slideshow\n",
            "    \n",
            "    > jupyter nbconvert myslides.ipynb --to slides --post serve\n",
            "    \n",
            "    Multiple notebooks can be given at the command line in a couple of \n",
            "    different ways:\n",
            "    \n",
            "    > jupyter nbconvert notebook*.ipynb\n",
            "    > jupyter nbconvert notebook1.ipynb notebook2.ipynb\n",
            "    \n",
            "    or you can specify the notebooks list in a config file, containing::\n",
            "    \n",
            "        c.NbConvertApp.notebooks = [\"my_notebook.ipynb\"]\n",
            "    \n",
            "    > jupyter nbconvert --config mycfg.py\n",
            "\n"
          ],
          "name": "stdout"
        }
      ]
    },
    {
      "cell_type": "code",
      "metadata": {
        "id": "Ji5PDBmOV3Z8"
      },
      "source": [
        ""
      ],
      "execution_count": null,
      "outputs": []
    }
  ]
}