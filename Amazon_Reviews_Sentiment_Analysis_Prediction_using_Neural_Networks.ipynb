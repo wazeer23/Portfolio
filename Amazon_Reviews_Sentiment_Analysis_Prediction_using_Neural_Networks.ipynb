{
  "nbformat": 4,
  "nbformat_minor": 0,
  "metadata": {
    "colab": {
      "name": "Copy of Amazon Reviews Sentiment Analysis Prediction using Neural Networks.ipynb",
      "provenance": [],
      "collapsed_sections": [],
      "machine_shape": "hm",
      "mount_file_id": "1KAZwKaMn-eoNiu6c4LJIewVFXKQgso83",
      "authorship_tag": "ABX9TyMrx8b3owA0UFm0UdTkZLcB",
      "include_colab_link": true
    },
    "kernelspec": {
      "name": "python3",
      "display_name": "Python 3"
    },
    "accelerator": "GPU"
  },
  "cells": [
    {
      "cell_type": "markdown",
      "metadata": {
        "id": "view-in-github",
        "colab_type": "text"
      },
      "source": [
        "<a href=\"https://colab.research.google.com/github/wazeer23/Portfolio/blob/main/Amazon_Reviews_Sentiment_Analysis_Prediction_using_Neural_Networks.ipynb\" target=\"_parent\"><img src=\"https://colab.research.google.com/assets/colab-badge.svg\" alt=\"Open In Colab\"/></a>"
      ]
    },
    {
      "cell_type": "markdown",
      "metadata": {
        "id": "AYLxOWAUtHen"
      },
      "source": [
        "Load Data"
      ]
    },
    {
      "cell_type": "code",
      "metadata": {
        "id": "hJSrriVnyJc3",
        "colab": {
          "base_uri": "https://localhost:8080/"
        },
        "outputId": "64556ff3-93f7-4ee2-82ee-3bc61bf8a372"
      },
      "source": [
        "gpu_info = !nvidia-smi\n",
        "gpu_info = '\\n'.join(gpu_info)\n",
        "if gpu_info.find('failed') >= 0:\n",
        "  print('Select the Runtime > \"Change runtime type\" menu to enable a GPU accelerator, ')\n",
        "  print('and then re-execute this cell.')\n",
        "else:\n",
        "  print(gpu_info)"
      ],
      "execution_count": null,
      "outputs": [
        {
          "output_type": "stream",
          "text": [
            "Tue Nov 24 23:47:48 2020       \n",
            "+-----------------------------------------------------------------------------+\n",
            "| NVIDIA-SMI 455.38       Driver Version: 418.67       CUDA Version: 10.1     |\n",
            "|-------------------------------+----------------------+----------------------+\n",
            "| GPU  Name        Persistence-M| Bus-Id        Disp.A | Volatile Uncorr. ECC |\n",
            "| Fan  Temp  Perf  Pwr:Usage/Cap|         Memory-Usage | GPU-Util  Compute M. |\n",
            "|                               |                      |               MIG M. |\n",
            "|===============================+======================+======================|\n",
            "|   0  Tesla V100-SXM2...  Off  | 00000000:00:04.0 Off |                    0 |\n",
            "| N/A   39C    P0    25W / 300W |      0MiB / 16130MiB |      0%      Default |\n",
            "|                               |                      |                 ERR! |\n",
            "+-------------------------------+----------------------+----------------------+\n",
            "                                                                               \n",
            "+-----------------------------------------------------------------------------+\n",
            "| Processes:                                                                  |\n",
            "|  GPU   GI   CI        PID   Type   Process name                  GPU Memory |\n",
            "|        ID   ID                                                   Usage      |\n",
            "|=============================================================================|\n",
            "|  No running processes found                                                 |\n",
            "+-----------------------------------------------------------------------------+\n"
          ],
          "name": "stdout"
        }
      ]
    },
    {
      "cell_type": "code",
      "metadata": {
        "id": "5FQzXrAUHFwB"
      },
      "source": [
        "import numpy as np \n",
        "import pandas as pd \n",
        "\n",
        "import bz2\n",
        "import csv\n",
        "from sklearn.metrics import roc_auc_score\n",
        "from sklearn.metrics import roc_curve\n",
        "import os\n",
        "from numpy import array\n",
        "from keras.preprocessing.text import one_hot\n",
        "from keras.preprocessing.sequence import pad_sequences\n",
        "from keras.models import Sequential\n",
        "from keras.layers import Dense\n",
        "from keras.layers import Flatten\n",
        "from keras.layers import Conv1D\n",
        "from keras.layers import GlobalMaxPooling1D\n",
        "from keras.layers.embeddings import Embedding"
      ],
      "execution_count": null,
      "outputs": []
    },
    {
      "cell_type": "code",
      "metadata": {
        "id": "9Kr8r9wLqOwu",
        "colab": {
          "base_uri": "https://localhost:8080/"
        },
        "outputId": "ea2391b2-c7ad-43d6-b4c7-0de0d3e4d035"
      },
      "source": [
        "from google.colab import drive\n",
        "drive.mount('/content/drive')"
      ],
      "execution_count": null,
      "outputs": [
        {
          "output_type": "stream",
          "text": [
            "Mounted at /content/drive\n"
          ],
          "name": "stdout"
        }
      ]
    },
    {
      "cell_type": "code",
      "metadata": {
        "id": "PlYGMdyuILeh"
      },
      "source": [
        "import pandas as pd\n",
        "\n",
        "\n",
        "train = pd.read_csv('/content/drive/My Drive/training.csv')\n",
        "test = pd.read_csv('/content/drive/My Drive/test.csv')\n",
        "\n",
        "#/content/drive/My Drive/test.ft.txt"
      ],
      "execution_count": null,
      "outputs": []
    },
    {
      "cell_type": "code",
      "metadata": {
        "id": "2pa6JlSPtp2E"
      },
      "source": [
        "#combine to 1 dataframe\n",
        "frames = [train, test]"
      ],
      "execution_count": null,
      "outputs": []
    },
    {
      "cell_type": "code",
      "metadata": {
        "id": "af0G2Q19tr3x"
      },
      "source": [
        "df = pd.concat(frames)"
      ],
      "execution_count": null,
      "outputs": []
    },
    {
      "cell_type": "code",
      "metadata": {
        "id": "Ay9GJ_YQuRHw"
      },
      "source": [
        "df = df.reset_index()"
      ],
      "execution_count": null,
      "outputs": []
    },
    {
      "cell_type": "code",
      "metadata": {
        "id": "XkXqER7nuhnF"
      },
      "source": [
        "#since the dataframe is very large, i will only grab a select number of rows\n",
        "#df = df.sample(frac=0.002, replace=True, random_state=42)\n",
        "df = df.sample(frac=0.070, replace=True, random_state=42)\n"
      ],
      "execution_count": null,
      "outputs": []
    },
    {
      "cell_type": "code",
      "metadata": {
        "id": "J1ajSoKCtr9s"
      },
      "source": [
        "df = df[['Sentence','Labels']]"
      ],
      "execution_count": null,
      "outputs": []
    },
    {
      "cell_type": "code",
      "metadata": {
        "id": "RZLDD62Mcuee",
        "colab": {
          "base_uri": "https://localhost:8080/",
          "height": 419
        },
        "outputId": "8ffd3f85-f2cf-4c21-c1d8-ad6ac085420f"
      },
      "source": [
        "df"
      ],
      "execution_count": null,
      "outputs": [
        {
          "output_type": "execute_result",
          "data": {
            "text/html": [
              "<div>\n",
              "<style scoped>\n",
              "    .dataframe tbody tr th:only-of-type {\n",
              "        vertical-align: middle;\n",
              "    }\n",
              "\n",
              "    .dataframe tbody tr th {\n",
              "        vertical-align: top;\n",
              "    }\n",
              "\n",
              "    .dataframe thead th {\n",
              "        text-align: right;\n",
              "    }\n",
              "</style>\n",
              "<table border=\"1\" class=\"dataframe\">\n",
              "  <thead>\n",
              "    <tr style=\"text-align: right;\">\n",
              "      <th></th>\n",
              "      <th>Sentence</th>\n",
              "      <th>Labels</th>\n",
              "    </tr>\n",
              "  </thead>\n",
              "  <tbody>\n",
              "    <tr>\n",
              "      <th>2219110</th>\n",
              "      <td>fantasy and science fiction; what's better!?: ...</td>\n",
              "      <td>1</td>\n",
              "    </tr>\n",
              "    <tr>\n",
              "      <th>2768307</th>\n",
              "      <td>a little too convenient: this was my first jo ...</td>\n",
              "      <td>1</td>\n",
              "    </tr>\n",
              "    <tr>\n",
              "      <th>2229084</th>\n",
              "      <td>too complex and not very fun: after 90 minutes...</td>\n",
              "      <td>0</td>\n",
              "    </tr>\n",
              "    <tr>\n",
              "      <th>3511566</th>\n",
              "      <td>darth vader still #1!: no way in the world can...</td>\n",
              "      <td>0</td>\n",
              "    </tr>\n",
              "    <tr>\n",
              "      <th>2356330</th>\n",
              "      <td>shoddy customer service: i can't review this p...</td>\n",
              "      <td>0</td>\n",
              "    </tr>\n",
              "    <tr>\n",
              "      <th>...</th>\n",
              "      <td>...</td>\n",
              "      <td>...</td>\n",
              "    </tr>\n",
              "    <tr>\n",
              "      <th>2327406</th>\n",
              "      <td>just a toy - can't be tuned: i have to disagre...</td>\n",
              "      <td>0</td>\n",
              "    </tr>\n",
              "    <tr>\n",
              "      <th>768159</th>\n",
              "      <td>couldn't get it to work well: be careful of th...</td>\n",
              "      <td>0</td>\n",
              "    </tr>\n",
              "    <tr>\n",
              "      <th>3750497</th>\n",
              "      <td>motorola hs850 bluetooth headset: i received a...</td>\n",
              "      <td>0</td>\n",
              "    </tr>\n",
              "    <tr>\n",
              "      <th>3500757</th>\n",
              "      <td>not good at all: i bought this on my recent tr...</td>\n",
              "      <td>0</td>\n",
              "    </tr>\n",
              "    <tr>\n",
              "      <th>3002573</th>\n",
              "      <td>don't buy this product: this product does not ...</td>\n",
              "      <td>0</td>\n",
              "    </tr>\n",
              "  </tbody>\n",
              "</table>\n",
              "<p>280000 rows × 2 columns</p>\n",
              "</div>"
            ],
            "text/plain": [
              "                                                  Sentence  Labels\n",
              "2219110  fantasy and science fiction; what's better!?: ...       1\n",
              "2768307  a little too convenient: this was my first jo ...       1\n",
              "2229084  too complex and not very fun: after 90 minutes...       0\n",
              "3511566  darth vader still #1!: no way in the world can...       0\n",
              "2356330  shoddy customer service: i can't review this p...       0\n",
              "...                                                    ...     ...\n",
              "2327406  just a toy - can't be tuned: i have to disagre...       0\n",
              "768159   couldn't get it to work well: be careful of th...       0\n",
              "3750497  motorola hs850 bluetooth headset: i received a...       0\n",
              "3500757  not good at all: i bought this on my recent tr...       0\n",
              "3002573  don't buy this product: this product does not ...       0\n",
              "\n",
              "[280000 rows x 2 columns]"
            ]
          },
          "metadata": {
            "tags": []
          },
          "execution_count": 13
        }
      ]
    },
    {
      "cell_type": "markdown",
      "metadata": {
        "id": "qV_7qVPaLH-l"
      },
      "source": [
        "Data Pre-processing"
      ]
    },
    {
      "cell_type": "code",
      "metadata": {
        "id": "rb_FuhMks_N5"
      },
      "source": [
        "from keras.preprocessing.text import Tokenizer\n",
        "from keras.preprocessing.sequence import pad_sequences\n",
        "from keras.models import Sequential\n",
        "from keras.layers import Dense, Embedding, LSTM, SpatialDropout1D, Bidirectional\n",
        "from sklearn.model_selection import train_test_split\n",
        "from keras.utils.np_utils import to_categorical\n",
        "from keras.callbacks import EarlyStopping\n",
        "from keras.layers import Dropout"
      ],
      "execution_count": null,
      "outputs": []
    },
    {
      "cell_type": "code",
      "metadata": {
        "id": "VQHpqSCHtRos",
        "colab": {
          "base_uri": "https://localhost:8080/"
        },
        "outputId": "2872a860-8018-4a0e-eca0-1f1b896c9a60"
      },
      "source": [
        "# The maximum number of words to be used. (most frequent)\n",
        "MAX_NB_WORDS = 50000\n",
        "# Max number of words in each review.\n",
        "MAX_SEQUENCE_LENGTH = 250\n",
        "# This is fixed.\n",
        "EMBEDDING_DIM = 100\n",
        "\n",
        "tokenizer = Tokenizer(num_words=MAX_NB_WORDS, filters='!\"#$%&()*+,-./:;<=>?@[\\]^_`{|}~', lower=True)\n",
        "tokenizer.fit_on_texts(df['Sentence'].values)\n",
        "word_index = tokenizer.word_index\n",
        "print('Found %s unique tokens.' % len(word_index))"
      ],
      "execution_count": null,
      "outputs": [
        {
          "output_type": "stream",
          "text": [
            "Found 231118 unique tokens.\n"
          ],
          "name": "stdout"
        }
      ]
    },
    {
      "cell_type": "code",
      "metadata": {
        "id": "NvHd4C8xtXnn",
        "colab": {
          "base_uri": "https://localhost:8080/"
        },
        "outputId": "c13db9a7-2a51-4ef4-ffe8-dcd3607c45ff"
      },
      "source": [
        "X = tokenizer.texts_to_sequences(df['Sentence'].values)\n",
        "X = pad_sequences(X, maxlen=MAX_SEQUENCE_LENGTH)\n",
        "print('Shape of data tensor:', X.shape)"
      ],
      "execution_count": null,
      "outputs": [
        {
          "output_type": "stream",
          "text": [
            "Shape of data tensor: (280000, 250)\n"
          ],
          "name": "stdout"
        }
      ]
    },
    {
      "cell_type": "code",
      "metadata": {
        "id": "ORm-Z_gJtaY4",
        "colab": {
          "base_uri": "https://localhost:8080/"
        },
        "outputId": "ffb65d23-af39-4a74-bd4f-ec61e4873e1a"
      },
      "source": [
        "\n",
        "Y = pd.get_dummies(df['Labels']).values\n",
        "print('Shape of label tensor:', Y.shape)"
      ],
      "execution_count": null,
      "outputs": [
        {
          "output_type": "stream",
          "text": [
            "Shape of label tensor: (280000, 2)\n"
          ],
          "name": "stdout"
        }
      ]
    },
    {
      "cell_type": "code",
      "metadata": {
        "id": "58GNzp9EudAr",
        "colab": {
          "base_uri": "https://localhost:8080/"
        },
        "outputId": "9f7d6067-9edb-4e9a-bd20-7eb756a00313"
      },
      "source": [
        "X_train, X_test, Y_train, Y_test = train_test_split(X,Y, test_size = 0.20, random_state = 42)\n",
        "print(X_train.shape,Y_train.shape)\n",
        "print(X_test.shape,Y_test.shape)"
      ],
      "execution_count": null,
      "outputs": [
        {
          "output_type": "stream",
          "text": [
            "(224000, 250) (224000, 2)\n",
            "(56000, 250) (56000, 2)\n"
          ],
          "name": "stdout"
        }
      ]
    },
    {
      "cell_type": "code",
      "metadata": {
        "id": "3LH5j1T7_v7v",
        "colab": {
          "base_uri": "https://localhost:8080/"
        },
        "outputId": "f3e63d05-22ab-4eaf-fb36-f24c99f4a7b1"
      },
      "source": [
        "Y_train"
      ],
      "execution_count": null,
      "outputs": [
        {
          "output_type": "execute_result",
          "data": {
            "text/plain": [
              "array([[1, 0],\n",
              "       [1, 0],\n",
              "       [1, 0],\n",
              "       ...,\n",
              "       [1, 0],\n",
              "       [0, 1],\n",
              "       [1, 0]], dtype=uint8)"
            ]
          },
          "metadata": {
            "tags": []
          },
          "execution_count": 19
        }
      ]
    },
    {
      "cell_type": "code",
      "metadata": {
        "id": "8eBiWfRy58pp",
        "colab": {
          "base_uri": "https://localhost:8080/"
        },
        "outputId": "faa6d7ef-b81a-428e-a610-5def4fe239f6"
      },
      "source": [
        "df.Labels.value_counts()"
      ],
      "execution_count": null,
      "outputs": [
        {
          "output_type": "execute_result",
          "data": {
            "text/plain": [
              "1    140425\n",
              "0    139575\n",
              "Name: Labels, dtype: int64"
            ]
          },
          "metadata": {
            "tags": []
          },
          "execution_count": 20
        }
      ]
    },
    {
      "cell_type": "markdown",
      "metadata": {
        "id": "0YohEXKULWYS"
      },
      "source": [
        "Basic Embedding Model = Embedding + Flatten + Dense"
      ]
    },
    {
      "cell_type": "code",
      "metadata": {
        "id": "vi5PNJRHvBxN",
        "colab": {
          "base_uri": "https://localhost:8080/"
        },
        "outputId": "9ceaab1c-eba7-4667-b41a-d8b09525791d"
      },
      "source": [
        "model = Sequential()\n",
        "model.add(Embedding(MAX_NB_WORDS, EMBEDDING_DIM, input_length=X.shape[1]))\n",
        "model.add(Flatten())\n",
        "model.add(Dense(2, activation='sigmoid'))\n",
        "model.compile(optimizer='adam', loss='binary_crossentropy', metrics=['acc'])\n",
        "print(model.summary())"
      ],
      "execution_count": null,
      "outputs": [
        {
          "output_type": "stream",
          "text": [
            "Model: \"sequential\"\n",
            "_________________________________________________________________\n",
            "Layer (type)                 Output Shape              Param #   \n",
            "=================================================================\n",
            "embedding (Embedding)        (None, 250, 100)          5000000   \n",
            "_________________________________________________________________\n",
            "flatten (Flatten)            (None, 25000)             0         \n",
            "_________________________________________________________________\n",
            "dense (Dense)                (None, 2)                 50002     \n",
            "=================================================================\n",
            "Total params: 5,050,002\n",
            "Trainable params: 5,050,002\n",
            "Non-trainable params: 0\n",
            "_________________________________________________________________\n",
            "None\n"
          ],
          "name": "stdout"
        }
      ]
    },
    {
      "cell_type": "code",
      "metadata": {
        "id": "kthHspwMupA7",
        "colab": {
          "base_uri": "https://localhost:8080/"
        },
        "outputId": "1b521f5a-131d-48ac-d869-7352111a8073"
      },
      "source": [
        "\n",
        "epochs = 5\n",
        "batch_size = 30\n",
        "\n",
        "history = model.fit(X_train, Y_train, epochs=epochs, batch_size=batch_size,validation_split=0.1)"
      ],
      "execution_count": null,
      "outputs": [
        {
          "output_type": "stream",
          "text": [
            "Epoch 1/5\n",
            "6720/6720 [==============================] - 216s 32ms/step - loss: 0.2847 - acc: 0.8833 - val_loss: 0.2527 - val_acc: 0.9015\n",
            "Epoch 2/5\n",
            "6720/6720 [==============================] - 216s 32ms/step - loss: 0.1369 - acc: 0.9514 - val_loss: 0.2922 - val_acc: 0.8938\n",
            "Epoch 3/5\n",
            "6720/6720 [==============================] - 216s 32ms/step - loss: 0.0384 - acc: 0.9895 - val_loss: 0.3884 - val_acc: 0.8888\n",
            "Epoch 4/5\n",
            "6720/6720 [==============================] - 216s 32ms/step - loss: 0.0100 - acc: 0.9979 - val_loss: 0.4946 - val_acc: 0.8830\n",
            "Epoch 5/5\n",
            "6720/6720 [==============================] - 213s 32ms/step - loss: 0.0031 - acc: 0.9994 - val_loss: 0.5694 - val_acc: 0.8839\n"
          ],
          "name": "stdout"
        }
      ]
    },
    {
      "cell_type": "code",
      "metadata": {
        "id": "kJ4yYnasTEH9",
        "colab": {
          "base_uri": "https://localhost:8080/"
        },
        "outputId": "d9199027-8129-4032-a909-6d701e4c67c9"
      },
      "source": [
        "accr = model.evaluate(X_test,Y_test)\n",
        "print('Test set\\n  Loss: {:0.3f}\\n  Accuracy: {:0.3f}'.format(accr[0],accr[1]))\n"
      ],
      "execution_count": null,
      "outputs": [
        {
          "output_type": "stream",
          "text": [
            "1750/1750 [==============================] - 4s 2ms/step - loss: 0.5888 - acc: 0.8836\n",
            "Test set\n",
            "  Loss: 0.589\n",
            "  Accuracy: 0.884\n"
          ],
          "name": "stdout"
        }
      ]
    },
    {
      "cell_type": "code",
      "metadata": {
        "id": "QOESpPANyYKU"
      },
      "source": [
        "import matplotlib.pyplot as plt"
      ],
      "execution_count": null,
      "outputs": []
    },
    {
      "cell_type": "code",
      "metadata": {
        "id": "Qi3xyrEsyA22",
        "colab": {
          "base_uri": "https://localhost:8080/",
          "height": 281
        },
        "outputId": "552e89d3-ba03-4a43-cfed-32a5c6003818"
      },
      "source": [
        "plt.title('Loss')\n",
        "plt.plot(history.history['loss'], label='train')\n",
        "plt.plot(history.history['val_loss'], label='test')\n",
        "plt.legend()\n",
        "plt.show();"
      ],
      "execution_count": null,
      "outputs": [
        {
          "output_type": "display_data",
          "data": {
            "image/png": "[encoded data removed]",
            "text/plain": [
              "<Figure size 432x288 with 1 Axes>"
            ]
          },
          "metadata": {
            "tags": [],
            "needs_background": "light"
          }
        }
      ]
    },
    {
      "cell_type": "code",
      "metadata": {
        "id": "uA_yetH-yE1i",
        "colab": {
          "base_uri": "https://localhost:8080/",
          "height": 281
        },
        "outputId": "97193a12-f867-4cd5-ab6e-568eb0be0b38"
      },
      "source": [
        "plt.title('Accuracy')\n",
        "plt.plot(history.history['acc'], label='train')\n",
        "plt.plot(history.history['val_acc'], label='test')\n",
        "plt.legend()\n",
        "plt.show();"
      ],
      "execution_count": null,
      "outputs": [
        {
          "output_type": "display_data",
          "data": {
            "image/png": "[encoded data removed]",
            "text/plain": [
              "<Figure size 432x288 with 1 Axes>"
            ]
          },
          "metadata": {
            "tags": [],
            "needs_background": "light"
          }
        }
      ]
    },
    {
      "cell_type": "code",
      "metadata": {
        "id": "EcSFeHJk0FMc",
        "colab": {
          "base_uri": "https://localhost:8080/"
        },
        "outputId": "c1c46e04-7f52-4050-dbe7-fb2cc2177eaa"
      },
      "source": [
        "y_pred = model.predict(X_test)\n",
        "\n",
        "\n",
        "print('Basic Embedding AUC score:', roc_auc_score(Y_test, y_pred))"
      ],
      "execution_count": null,
      "outputs": [
        {
          "output_type": "stream",
          "text": [
            "Basic Embedding AUC score: 0.9489982764982299\n"
          ],
          "name": "stdout"
        }
      ]
    },
    {
      "cell_type": "code",
      "metadata": {
        "id": "TGTb8p0-BNgM"
      },
      "source": [
        "first_model_score = roc_auc_score(Y_test, y_pred)"
      ],
      "execution_count": null,
      "outputs": []
    },
    {
      "cell_type": "code",
      "metadata": {
        "id": "VlywbEva34MC",
        "colab": {
          "base_uri": "https://localhost:8080/"
        },
        "outputId": "15e150ff-5e2d-460b-85cb-1e18b0bbdab7"
      },
      "source": [
        "first_model_score"
      ],
      "execution_count": null,
      "outputs": [
        {
          "output_type": "execute_result",
          "data": {
            "text/plain": [
              "0.9489982764982299"
            ]
          },
          "metadata": {
            "tags": []
          },
          "execution_count": 29
        }
      ]
    },
    {
      "cell_type": "code",
      "metadata": {
        "id": "VQMzgF_yu22S"
      },
      "source": [
        "test_pred =  model.predict(X_test)"
      ],
      "execution_count": null,
      "outputs": []
    },
    {
      "cell_type": "code",
      "metadata": {
        "id": "cfpFAcVv1QjI",
        "colab": {
          "base_uri": "https://localhost:8080/"
        },
        "outputId": "7c4f9a1a-4f8d-4a9e-f3c2-6076dc7c12b6"
      },
      "source": [
        "import numpy as np\n",
        "rounded_test=np.argmax(Y_test, axis=1)\n",
        "rounded_test[1]"
      ],
      "execution_count": null,
      "outputs": [
        {
          "output_type": "execute_result",
          "data": {
            "text/plain": [
              "1"
            ]
          },
          "metadata": {
            "tags": []
          },
          "execution_count": 31
        }
      ]
    },
    {
      "cell_type": "code",
      "metadata": {
        "id": "QTBBF_OA1YYl",
        "colab": {
          "base_uri": "https://localhost:8080/"
        },
        "outputId": "9940d653-7a35-4360-f438-b43a65529258"
      },
      "source": [
        "import numpy as np\n",
        "rounded_pred=np.argmax(test_pred, axis=1)\n",
        "rounded_pred[1]"
      ],
      "execution_count": null,
      "outputs": [
        {
          "output_type": "execute_result",
          "data": {
            "text/plain": [
              "1"
            ]
          },
          "metadata": {
            "tags": []
          },
          "execution_count": 32
        }
      ]
    },
    {
      "cell_type": "code",
      "metadata": {
        "id": "beri4uTd1SJk",
        "colab": {
          "base_uri": "https://localhost:8080/",
          "height": 352
        },
        "outputId": "15d3019b-fa0a-4279-e211-eb945d7ffe6b"
      },
      "source": [
        "from sklearn.metrics import classification_report, confusion_matrix\n",
        "cf_matrix = confusion_matrix(rounded_test, rounded_pred)\n",
        "import seaborn as sns\n",
        "import matplotlib.pyplot as plt\n",
        "#labels = ['Negative','Positive']\n",
        "sns.heatmap(cf_matrix, annot=True, fmt = 'd', vmax = 6400)\n",
        "ax = plt.axes()\n",
        "ax.set_title('Basic Embedding')"
      ],
      "execution_count": null,
      "outputs": [
        {
          "output_type": "stream",
          "text": [
            "/usr/local/lib/python3.6/dist-packages/ipykernel_launcher.py:7: MatplotlibDeprecationWarning: Adding an axes using the same arguments as a previous axes currently reuses the earlier instance.  In a future version, a new instance will always be created and returned.  Meanwhile, this warning can be suppressed, and the future behavior ensured, by passing a unique label to each axes instance.\n",
            "  import sys\n"
          ],
          "name": "stderr"
        },
        {
          "output_type": "execute_result",
          "data": {
            "text/plain": [
              "Text(0.5, 1.0, 'Basic Embedding')"
            ]
          },
          "metadata": {
            "tags": []
          },
          "execution_count": 33
        },
        {
          "output_type": "display_data",
          "data": {
            "image/png": "[encoded data removed]",
            "text/plain": [
              "<Figure size 432x288 with 2 Axes>"
            ]
          },
          "metadata": {
            "tags": [],
            "needs_background": "light"
          }
        }
      ]
    },
    {
      "cell_type": "markdown",
      "metadata": {
        "id": "S6UIbXmAL5gb"
      },
      "source": [
        "Adding Spatial 1D Dropout  "
      ]
    },
    {
      "cell_type": "code",
      "metadata": {
        "id": "ds4kbzcUBPNi",
        "colab": {
          "base_uri": "https://localhost:8080/"
        },
        "outputId": "3da27765-0a3e-4c3d-fab8-c283bbec822f"
      },
      "source": [
        "model = Sequential()\n",
        "model.add(Embedding(MAX_NB_WORDS, EMBEDDING_DIM, input_length=X.shape[1]))\n",
        "model.add(SpatialDropout1D(0.2))\n",
        "model.add(Flatten())\n",
        "model.add(Dense(2, activation='sigmoid'))\n",
        "model.compile(optimizer='adam', loss='binary_crossentropy', metrics=['acc'])\n",
        "print(model.summary())"
      ],
      "execution_count": null,
      "outputs": [
        {
          "output_type": "stream",
          "text": [
            "Model: \"sequential_1\"\n",
            "_________________________________________________________________\n",
            "Layer (type)                 Output Shape              Param #   \n",
            "=================================================================\n",
            "embedding_1 (Embedding)      (None, 250, 100)          5000000   \n",
            "_________________________________________________________________\n",
            "spatial_dropout1d (SpatialDr (None, 250, 100)          0         \n",
            "_________________________________________________________________\n",
            "flatten_1 (Flatten)          (None, 25000)             0         \n",
            "_________________________________________________________________\n",
            "dense_1 (Dense)              (None, 2)                 50002     \n",
            "=================================================================\n",
            "Total params: 5,050,002\n",
            "Trainable params: 5,050,002\n",
            "Non-trainable params: 0\n",
            "_________________________________________________________________\n",
            "None\n"
          ],
          "name": "stdout"
        }
      ]
    },
    {
      "cell_type": "code",
      "metadata": {
        "id": "CA2mCpSlBP-O",
        "colab": {
          "base_uri": "https://localhost:8080/"
        },
        "outputId": "feec1819-dde7-49bf-80ef-d42c9b9dcd3a"
      },
      "source": [
        "\n",
        "epochs = 5\n",
        "batch_size = 30\n",
        "\n",
        "history = model.fit(X_train, Y_train, epochs=epochs, batch_size=batch_size,validation_split=0.1)"
      ],
      "execution_count": null,
      "outputs": [
        {
          "output_type": "stream",
          "text": [
            "Epoch 1/5\n",
            "6720/6720 [==============================] - 215s 32ms/step - loss: 0.2880 - acc: 0.8810 - val_loss: 0.2486 - val_acc: 0.9044\n",
            "Epoch 2/5\n",
            "6720/6720 [==============================] - 214s 32ms/step - loss: 0.1495 - acc: 0.9457 - val_loss: 0.2916 - val_acc: 0.8929\n",
            "Epoch 3/5\n",
            "6720/6720 [==============================] - 217s 32ms/step - loss: 0.0564 - acc: 0.9825 - val_loss: 0.3423 - val_acc: 0.8930\n",
            "Epoch 4/5\n",
            "6720/6720 [==============================] - 214s 32ms/step - loss: 0.0230 - acc: 0.9934 - val_loss: 0.4283 - val_acc: 0.8870\n",
            "Epoch 5/5\n",
            "6720/6720 [==============================] - 216s 32ms/step - loss: 0.0110 - acc: 0.9971 - val_loss: 0.4905 - val_acc: 0.8879\n"
          ],
          "name": "stdout"
        }
      ]
    },
    {
      "cell_type": "code",
      "metadata": {
        "id": "qQGNrIl483bV",
        "colab": {
          "base_uri": "https://localhost:8080/"
        },
        "outputId": "b6607cb9-c6be-46a8-97dd-86e1813875c1"
      },
      "source": [
        "accr = model.evaluate(X_test,Y_test)\n",
        "print('Test set\\n  Loss: {:0.3f}\\n  Accuracy: {:0.3f}'.format(accr[0],accr[1]))\n",
        "\n"
      ],
      "execution_count": null,
      "outputs": [
        {
          "output_type": "stream",
          "text": [
            "1750/1750 [==============================] - 4s 3ms/step - loss: 0.5060 - acc: 0.8855\n",
            "Test set\n",
            "  Loss: 0.506\n",
            "  Accuracy: 0.886\n"
          ],
          "name": "stdout"
        }
      ]
    },
    {
      "cell_type": "code",
      "metadata": {
        "id": "bxr-aqBoME9R",
        "colab": {
          "base_uri": "https://localhost:8080/"
        },
        "outputId": "456060b9-6241-47ee-f69d-710e71fd9a17"
      },
      "source": [
        "\n",
        "y_pred = model.predict(X_test)\n",
        "\n",
        "\n",
        "print('Basic Embedding + Spatial Dropout AUC score:', roc_auc_score(Y_test, y_pred))\n"
      ],
      "execution_count": null,
      "outputs": [
        {
          "output_type": "stream",
          "text": [
            "Basic Embedding + Spatial Dropout AUC score: 0.9515106723085476\n"
          ],
          "name": "stdout"
        }
      ]
    },
    {
      "cell_type": "code",
      "metadata": {
        "id": "RVG0wmk283uO",
        "colab": {
          "base_uri": "https://localhost:8080/",
          "height": 352
        },
        "outputId": "3b117ce4-b29b-4acf-e10a-b6740cf4dc73"
      },
      "source": [
        "\n",
        "test_pred =  model.predict(X_test)\n",
        "\n",
        "rounded_pred=np.argmax(test_pred, axis=1)\n",
        "rounded_pred[1]\n",
        "cf_matrix = confusion_matrix(rounded_test, rounded_pred)\n",
        "sns.heatmap(cf_matrix, annot=True, fmt = 'd', vmax = 6400)\n",
        "ax = plt.axes()\n",
        "ax.set_title('Basic Embedding + Spacial Dropout Classification Report')"
      ],
      "execution_count": null,
      "outputs": [
        {
          "output_type": "stream",
          "text": [
            "/usr/local/lib/python3.6/dist-packages/ipykernel_launcher.py:8: MatplotlibDeprecationWarning: Adding an axes using the same arguments as a previous axes currently reuses the earlier instance.  In a future version, a new instance will always be created and returned.  Meanwhile, this warning can be suppressed, and the future behavior ensured, by passing a unique label to each axes instance.\n",
            "  \n"
          ],
          "name": "stderr"
        },
        {
          "output_type": "execute_result",
          "data": {
            "text/plain": [
              "Text(0.5, 1.0, 'Basic Embedding + Spacial Dropout Classification Report')"
            ]
          },
          "metadata": {
            "tags": []
          },
          "execution_count": 38
        },
        {
          "output_type": "display_data",
          "data": {
            "image/png": "[encoded data removed]",
            "text/plain": [
              "<Figure size 432x288 with 2 Axes>"
            ]
          },
          "metadata": {
            "tags": [],
            "needs_background": "light"
          }
        }
      ]
    },
    {
      "cell_type": "code",
      "metadata": {
        "id": "SUOooGLz3BUb"
      },
      "source": [
        "#Roc score"
      ],
      "execution_count": null,
      "outputs": []
    },
    {
      "cell_type": "markdown",
      "metadata": {
        "id": "BCP0IBD_2BjJ"
      },
      "source": [
        "LSTM"
      ]
    },
    {
      "cell_type": "code",
      "metadata": {
        "id": "XecVT05414-h",
        "colab": {
          "base_uri": "https://localhost:8080/"
        },
        "outputId": "846bb7aa-3c78-4f70-b8d8-97e4b5c4ce18"
      },
      "source": [
        "  model = Sequential()\n",
        "  model.add(Embedding(MAX_NB_WORDS, EMBEDDING_DIM, input_length=X.shape[1]))\n",
        "  model.add(SpatialDropout1D(0.2))\n",
        "  model.add(LSTM(100, dropout=0.2, recurrent_dropout=0.2))\n",
        "  model.add(Dense(2, activation='softmax'))\n",
        "  model.compile(loss='binary_crossentropy', optimizer='adam', metrics=['accuracy'])\n",
        "  print(model.summary())"
      ],
      "execution_count": null,
      "outputs": [
        {
          "output_type": "stream",
          "text": [
            "WARNING:tensorflow:Layer lstm will not use cuDNN kernel since it doesn't meet the cuDNN kernel criteria. It will use generic GPU kernel as fallback when running on GPU\n",
            "Model: \"sequential_2\"\n",
            "_________________________________________________________________\n",
            "Layer (type)                 Output Shape              Param #   \n",
            "=================================================================\n",
            "embedding_2 (Embedding)      (None, 250, 100)          5000000   \n",
            "_________________________________________________________________\n",
            "spatial_dropout1d_1 (Spatial (None, 250, 100)          0         \n",
            "_________________________________________________________________\n",
            "lstm (LSTM)                  (None, 100)               80400     \n",
            "_________________________________________________________________\n",
            "dense_2 (Dense)              (None, 2)                 202       \n",
            "=================================================================\n",
            "Total params: 5,080,602\n",
            "Trainable params: 5,080,602\n",
            "Non-trainable params: 0\n",
            "_________________________________________________________________\n",
            "None\n"
          ],
          "name": "stdout"
        }
      ]
    },
    {
      "cell_type": "code",
      "metadata": {
        "id": "IXPrcy7-2C2O",
        "colab": {
          "base_uri": "https://localhost:8080/"
        },
        "outputId": "44ab9f92-f96d-49bd-a5d1-d2d14cc6c115"
      },
      "source": [
        "\n",
        "epochs = 5\n",
        "batch_size = 30\n",
        "\n",
        "history = model.fit(X_train, Y_train, epochs=epochs, batch_size=batch_size,validation_split=0.1)"
      ],
      "execution_count": null,
      "outputs": [
        {
          "output_type": "stream",
          "text": [
            "Epoch 1/5\n",
            "6720/6720 [==============================] - 2530s 377ms/step - loss: 0.2560 - accuracy: 0.8975 - val_loss: 0.1898 - val_accuracy: 0.9280\n",
            "Epoch 2/5\n",
            "6720/6720 [==============================] - 2571s 383ms/step - loss: 0.1614 - accuracy: 0.9397 - val_loss: 0.1739 - val_accuracy: 0.9354\n",
            "Epoch 3/5\n",
            "6720/6720 [==============================] - 2608s 388ms/step - loss: 0.1205 - accuracy: 0.9563 - val_loss: 0.1793 - val_accuracy: 0.9343\n",
            "Epoch 4/5\n",
            "6720/6720 [==============================] - 2612s 389ms/step - loss: 0.0904 - accuracy: 0.9687 - val_loss: 0.1951 - val_accuracy: 0.9322\n",
            "Epoch 5/5\n",
            "6720/6720 [==============================] - 2610s 388ms/step - loss: 0.0683 - accuracy: 0.9768 - val_loss: 0.2266 - val_accuracy: 0.9306\n"
          ],
          "name": "stdout"
        }
      ]
    },
    {
      "cell_type": "code",
      "metadata": {
        "id": "5_7XN4FX71TJ",
        "colab": {
          "base_uri": "https://localhost:8080/"
        },
        "outputId": "a495fa0e-b533-44a8-e186-51d97b038eef"
      },
      "source": [
        "accr = model.evaluate(X_test,Y_test)\n",
        "print('Test set\\n  Loss: {:0.3f}\\n  Accuracy: {:0.3f}'.format(accr[0],accr[1]))\n"
      ],
      "execution_count": null,
      "outputs": [
        {
          "output_type": "stream",
          "text": [
            "1750/1750 [==============================] - 115s 66ms/step - loss: 0.2302 - accuracy: 0.9292\n",
            "Test set\n",
            "  Loss: 0.230\n",
            "  Accuracy: 0.929\n"
          ],
          "name": "stdout"
        }
      ]
    },
    {
      "cell_type": "code",
      "metadata": {
        "id": "-FYfOxjn74e2",
        "colab": {
          "base_uri": "https://localhost:8080/"
        },
        "outputId": "a8393364-c3e0-4592-8dfa-cbded3001174"
      },
      "source": [
        "\n",
        "y_pred = model.predict(X_test)\n",
        "\n",
        "\n",
        "print('LSTM AUC score:', roc_auc_score(Y_test, y_pred))\n"
      ],
      "execution_count": null,
      "outputs": [
        {
          "output_type": "stream",
          "text": [
            "LSTM AUC score: 0.9758491490000746\n"
          ],
          "name": "stdout"
        }
      ]
    },
    {
      "cell_type": "code",
      "metadata": {
        "id": "7cZd_5Br76Xf",
        "colab": {
          "base_uri": "https://localhost:8080/",
          "height": 352
        },
        "outputId": "825e7e72-94f0-46de-f276-984036344050"
      },
      "source": [
        "test_pred =  model.predict(X_test)\n",
        "\n",
        "rounded_pred=np.argmax(test_pred, axis=1)\n",
        "rounded_pred[1]\n",
        "cf_matrix = confusion_matrix(rounded_test, rounded_pred)\n",
        "sns.heatmap(cf_matrix, annot=True, fmt = 'd', vmax = 6400)\n",
        "ax = plt.axes()\n",
        "ax.set_title('LSTM')"
      ],
      "execution_count": null,
      "outputs": [
        {
          "output_type": "stream",
          "text": [
            "/usr/local/lib/python3.6/dist-packages/ipykernel_launcher.py:7: MatplotlibDeprecationWarning: Adding an axes using the same arguments as a previous axes currently reuses the earlier instance.  In a future version, a new instance will always be created and returned.  Meanwhile, this warning can be suppressed, and the future behavior ensured, by passing a unique label to each axes instance.\n",
            "  import sys\n"
          ],
          "name": "stderr"
        },
        {
          "output_type": "execute_result",
          "data": {
            "text/plain": [
              "Text(0.5, 1.0, 'LSTM')"
            ]
          },
          "metadata": {
            "tags": []
          },
          "execution_count": 44
        },
        {
          "output_type": "display_data",
          "data": {
            "image/png": "[encoded data removed]",
            "text/plain": [
              "<Figure size 432x288 with 2 Axes>"
            ]
          },
          "metadata": {
            "tags": [],
            "needs_background": "light"
          }
        }
      ]
    },
    {
      "cell_type": "markdown",
      "metadata": {
        "id": "-Ul8uzCNKBMp"
      },
      "source": [
        "Bidirectional LSTM"
      ]
    },
    {
      "cell_type": "code",
      "metadata": {
        "id": "Jh94euzW2GyI",
        "colab": {
          "base_uri": "https://localhost:8080/"
        },
        "outputId": "8b48704d-41d5-4c03-b1b2-8d6ff8c815c7"
      },
      "source": [
        "  model = Sequential()\n",
        "  model.add(Embedding(MAX_NB_WORDS, EMBEDDING_DIM, input_length=X.shape[1]))\n",
        "  model.add(SpatialDropout1D(0.2))\n",
        "  model.add(Bidirectional(LSTM(100)))\n",
        "  model.add(Dense(2, activation='softmax'))\n",
        "  model.compile(loss='binary_crossentropy', optimizer='adam', metrics=['accuracy'])\n",
        "  print(model.summary())"
      ],
      "execution_count": null,
      "outputs": [
        {
          "output_type": "stream",
          "text": [
            "Model: \"sequential_3\"\n",
            "_________________________________________________________________\n",
            "Layer (type)                 Output Shape              Param #   \n",
            "=================================================================\n",
            "embedding_3 (Embedding)      (None, 250, 100)          5000000   \n",
            "_________________________________________________________________\n",
            "spatial_dropout1d_2 (Spatial (None, 250, 100)          0         \n",
            "_________________________________________________________________\n",
            "bidirectional (Bidirectional (None, 200)               160800    \n",
            "_________________________________________________________________\n",
            "dense_3 (Dense)              (None, 2)                 402       \n",
            "=================================================================\n",
            "Total params: 5,161,202\n",
            "Trainable params: 5,161,202\n",
            "Non-trainable params: 0\n",
            "_________________________________________________________________\n",
            "None\n"
          ],
          "name": "stdout"
        }
      ]
    },
    {
      "cell_type": "code",
      "metadata": {
        "id": "KhNoNJVT5Q03",
        "colab": {
          "base_uri": "https://localhost:8080/"
        },
        "outputId": "fb130c65-aa10-4756-e411-eb8347e3a7ca"
      },
      "source": [
        "\n",
        "epochs = 5\n",
        "batch_size = 30\n",
        "\n",
        "history = model.fit(X_train, Y_train, epochs=epochs, batch_size=batch_size,validation_split=0.1)"
      ],
      "execution_count": null,
      "outputs": [
        {
          "output_type": "stream",
          "text": [
            "Epoch 1/5\n",
            "6720/6720 [==============================] - 362s 54ms/step - loss: 0.2535 - accuracy: 0.8991 - val_loss: 0.1837 - val_accuracy: 0.9309\n",
            "Epoch 2/5\n",
            "6720/6720 [==============================] - 359s 53ms/step - loss: 0.1517 - accuracy: 0.9442 - val_loss: 0.1793 - val_accuracy: 0.9339\n",
            "Epoch 3/5\n",
            "  39/6720 [..............................] - ETA: 5:16 - loss: 0.1076 - accuracy: 0.9624"
          ],
          "name": "stdout"
        }
      ]
    },
    {
      "cell_type": "code",
      "metadata": {
        "id": "FUs5BrbGHyii"
      },
      "source": [
        "accr = model.evaluate(X_test,Y_test)\n",
        "print('Test set\\n  Loss: {:0.3f}\\n  Accuracy: {:0.3f}'.format(accr[0],accr[1]))\n",
        "\n"
      ],
      "execution_count": null,
      "outputs": []
    },
    {
      "cell_type": "code",
      "metadata": {
        "id": "Gfsitlz5NWRP"
      },
      "source": [
        "\n",
        "y_pred = model.predict(X_test)\n",
        "\n",
        "\n",
        "print('Bi-Directional LSTM AUC score:', roc_auc_score(Y_test, y_pred))"
      ],
      "execution_count": null,
      "outputs": []
    },
    {
      "cell_type": "code",
      "metadata": {
        "id": "4Fm3Y9kdHylN"
      },
      "source": [
        "\n",
        "test_pred =  model.predict(X_test)\n",
        "\n",
        "rounded_pred=np.argmax(test_pred, axis=1)\n",
        "rounded_pred[1]\n",
        "cf_matrix = confusion_matrix(rounded_test, rounded_pred)\n",
        "sns.heatmap(cf_matrix, annot=True, fmt = 'd', vmax = 6400)\n",
        "ax = plt.axes()\n",
        "ax.set_title('Bi-Directional LSTM')"
      ],
      "execution_count": null,
      "outputs": []
    },
    {
      "cell_type": "markdown",
      "metadata": {
        "id": "RByCzcFsFsYL"
      },
      "source": [
        "CNN"
      ]
    },
    {
      "cell_type": "code",
      "metadata": {
        "id": "ALUfNaR9GfeF"
      },
      "source": [
        "num_kernels = 260\n",
        "kernel_size = 3\n",
        "hidden_dims = 300\n"
      ],
      "execution_count": null,
      "outputs": []
    },
    {
      "cell_type": "code",
      "metadata": {
        "id": "Tqnu84185afM"
      },
      "source": [
        "model = Sequential()\n",
        "model.add(Embedding(MAX_NB_WORDS, EMBEDDING_DIM, input_length=X.shape[1]))\n",
        "model.add(Dropout(0.2))\n",
        "model.add(Conv1D(num_kernels,kernel_size, padding='valid', activation='relu', strides=1))\n",
        "model.add(GlobalMaxPooling1D())\n",
        "model.add(Dense(hidden_dims))\n",
        "model.add(Dropout(0.5))\n",
        "model.add(Dense(2, activation='relu'))\n",
        "model.compile(loss='binary_crossentropy',optimizer='adam', metrics=['accuracy'])\n",
        "print (model.summary())"
      ],
      "execution_count": null,
      "outputs": []
    },
    {
      "cell_type": "code",
      "metadata": {
        "id": "kpnw9Wb1DKM5"
      },
      "source": [
        "\n",
        "epochs = 5\n",
        "batch_size = 30\n",
        "\n",
        "history = model.fit(X_train, Y_train, epochs=epochs, batch_size=batch_size,validation_split=0.1)"
      ],
      "execution_count": null,
      "outputs": []
    },
    {
      "cell_type": "code",
      "metadata": {
        "id": "FKsYnQWzHUWV"
      },
      "source": [
        "accr = model.evaluate(X_test,Y_test)\n",
        "print('Test set\\n  Loss: {:0.3f}\\n  Accuracy: {:0.3f}'.format(accr[0],accr[1]))\n",
        "\n"
      ],
      "execution_count": null,
      "outputs": []
    },
    {
      "cell_type": "code",
      "metadata": {
        "id": "-eozuhfNNdfh"
      },
      "source": [
        "\n",
        "y_pred = model.predict(X_test)\n",
        "\n",
        "\n",
        "print('Basic CNN AUC score:', roc_auc_score(Y_test, y_pred))"
      ],
      "execution_count": null,
      "outputs": []
    },
    {
      "cell_type": "code",
      "metadata": {
        "id": "VXW36JUdIZI4"
      },
      "source": [
        "\n",
        "test_pred =  model.predict(X_test)\n",
        "\n",
        "rounded_pred=np.argmax(test_pred, axis=1)\n",
        "rounded_pred[1]\n",
        "cf_matrix = confusion_matrix(rounded_test, rounded_pred)\n",
        "sns.heatmap(cf_matrix, annot=True, fmt = 'd', vmax = 6400)\n",
        "ax = plt.axes()\n",
        "ax.set_title('1-D CNN')"
      ],
      "execution_count": null,
      "outputs": []
    },
    {
      "cell_type": "markdown",
      "metadata": {
        "id": "D6qylpIgV0Ig"
      },
      "source": [
        "GLovE Pre-Trained Model"
      ]
    },
    {
      "cell_type": "code",
      "metadata": {
        "id": "GeIoyTWEWCSy"
      },
      "source": [
        "  \n",
        "from numpy import array, asarray, zeros\n",
        "\n"
      ],
      "execution_count": null,
      "outputs": []
    },
    {
      "cell_type": "code",
      "metadata": {
        "id": "F8W4qRIRVzwd"
      },
      "source": [
        "# load glove model\n",
        "inMemoryGlove = dict()\n",
        "f = open('/content/drive/My Drive/glove.6B.100d.txt')\n",
        "for line in f:\n",
        "    values = line.split()\n",
        "    word = values[0]\n",
        "    coefficients = asarray(values[1:], dtype='float32')\n",
        "    inMemoryGlove[word] = coefficients\n",
        "f.close()\n",
        "print(len(inMemoryGlove))"
      ],
      "execution_count": null,
      "outputs": []
    },
    {
      "cell_type": "code",
      "metadata": {
        "id": "wNJu_a5RWHq5"
      },
      "source": [
        "# The maximum number of words to be used. (most frequent)\n",
        "MAX_NB_WORDS = 50000\n",
        "# Max number of words in each complaint.\n",
        "MAX_SEQUENCE_LENGTH = 250\n",
        "# This is fixed.\n",
        "EMBEDDING_DIM = 100\n",
        "\n",
        "tokenizer = Tokenizer(num_words=MAX_NB_WORDS, filters='!\"#$%&()*+,-./:;<=>?@[\\]^_`{|}~', lower=True)\n",
        "tokenizer.fit_on_texts(df['Sentence'].values)\n",
        "word_index = tokenizer.word_index\n",
        "vocab_size = len(tokenizer.word_index) + 1\n",
        "print('Found %s unique tokens.' % len(word_index))\n"
      ],
      "execution_count": null,
      "outputs": []
    },
    {
      "cell_type": "code",
      "metadata": {
        "id": "UnrjUmcyXBuR"
      },
      "source": [
        "\n",
        "X = tokenizer.texts_to_sequences(df['Sentence'].values)\n",
        "X = pad_sequences(X, maxlen=MAX_SEQUENCE_LENGTH)\n",
        "print('Shape of data tensor:', X.shape)\n",
        "\n",
        "encodeDocuments = X"
      ],
      "execution_count": null,
      "outputs": []
    },
    {
      "cell_type": "code",
      "metadata": {
        "id": "kpYBZb1NYO5c"
      },
      "source": [
        "\n",
        "Y = pd.get_dummies(df['Labels']).values\n",
        "print('Shape of label tensor:', Y.shape)\n"
      ],
      "execution_count": null,
      "outputs": []
    },
    {
      "cell_type": "code",
      "metadata": {
        "id": "wkpiEtgEYQ7j"
      },
      "source": [
        "\n",
        "X_train, X_test, Y_train, Y_test = train_test_split(X,Y, test_size = 0.20, random_state = 42)\n",
        "print(X_train.shape,Y_train.shape)\n",
        "print(X_test.shape,Y_test.shape)"
      ],
      "execution_count": null,
      "outputs": []
    },
    {
      "cell_type": "code",
      "metadata": {
        "id": "RYHBFU45XDu2"
      },
      "source": [
        "# create coefficient matrix for training data\n",
        "trainingToEmbeddings = zeros((vocab_size, 100))\n",
        "for word, i in tokenizer.word_index.items():\n",
        "    gloveVector = inMemoryGlove.get(word)\n",
        "    if gloveVector is not None:\n",
        "        trainingToEmbeddings[i] = gloveVector"
      ],
      "execution_count": null,
      "outputs": []
    },
    {
      "cell_type": "code",
      "metadata": {
        "id": "5N79Ok85XWMy"
      },
      "source": [
        "model = Sequential()\n",
        "model.add(Embedding(vocab_size, 100, weights=[trainingToEmbeddings], input_length=MAX_SEQUENCE_LENGTH, trainable=False))\n",
        "model.add(LSTM(100, dropout=0.2, recurrent_dropout=0.2, return_sequences = True))\n",
        "model.add(LSTM(50, dropout=0.2, recurrent_dropout=0.2))\n",
        "#model.add(Flatten())\n",
        "model.add(Dense(2, activation='sigmoid'))\n",
        "model.compile(optimizer='adam', loss='binary_crossentropy', metrics=['acc'])\n",
        "print(model.summary())"
      ],
      "execution_count": null,
      "outputs": []
    },
    {
      "cell_type": "code",
      "metadata": {
        "id": "nfwBnxItX-cC"
      },
      "source": [
        "epochs = 5\n",
        "batch_size = 30\n",
        "\n",
        "history = model.fit(X_train, Y_train, epochs=epochs, batch_size=batch_size,validation_split=0.1)"
      ],
      "execution_count": null,
      "outputs": []
    },
    {
      "cell_type": "code",
      "metadata": {
        "id": "3NL3FeZNYlcd"
      },
      "source": [
        "\n",
        "y_pred = model.predict(X_test)\n",
        "\n",
        "\n",
        "print('GloVe Model AUC Score:', roc_auc_score(Y_test, y_pred))"
      ],
      "execution_count": null,
      "outputs": []
    },
    {
      "cell_type": "code",
      "metadata": {
        "id": "6tyjO2gSayIB"
      },
      "source": [
        "import matplotlib.pyplot as plt\n",
        "\n",
        "import numpy as np\n",
        "def plot_graphs(history, string):\n",
        "  plt.plot(history.history[string])\n",
        "  plt.plot(history.history['val_'+string])\n",
        "  plt.xlabel(\"Epochs\")\n",
        "  plt.ylabel(string)\n",
        "  plt.legend([string, 'val_'+string])\n",
        "  plt.show()\n",
        "  \n",
        "plot_graphs(history, \"acc\")\n",
        "plot_graphs(history, \"loss\")"
      ],
      "execution_count": null,
      "outputs": []
    },
    {
      "cell_type": "code",
      "metadata": {
        "id": "TjsT77MfaTQp"
      },
      "source": [
        "plt.title('Accuracy')\n",
        "plt.plot(history.history['acc'], label='train')\n",
        "plt.plot(history.history['val_acc'], label='test')\n",
        "plt.legend()\n",
        "plt.show();"
      ],
      "execution_count": null,
      "outputs": []
    },
    {
      "cell_type": "code",
      "metadata": {
        "id": "7HicYwpaYgst"
      },
      "source": [
        "\n",
        "test_pred =  model.predict(X_test)\n",
        "\n",
        "rounded_pred=np.argmax(test_pred, axis=1)\n",
        "rounded_pred[1]\n",
        "cf_matrix = confusion_matrix(rounded_test, rounded_pred)\n",
        "sns.heatmap(cf_matrix, annot=True, fmt = 'd', vmax = 6400)\n",
        "ax = plt.axes()\n",
        "ax.set_title('GlovE')"
      ],
      "execution_count": null,
      "outputs": []
    },
    {
      "cell_type": "markdown",
      "metadata": {
        "id": "3n4MCDluOajJ"
      },
      "source": [
        "BERT"
      ]
    },
    {
      "cell_type": "code",
      "metadata": {
        "id": "994VK03AOj7A"
      },
      "source": [
        "!pip install transformers"
      ],
      "execution_count": null,
      "outputs": []
    },
    {
      "cell_type": "code",
      "metadata": {
        "id": "iEL6KWLzIcno"
      },
      "source": [
        "import numpy as np\n",
        "import pandas as pd\n",
        "import tensorflow as tf\n",
        "from tensorflow.keras.layers import Dense, Input\n",
        "from tensorflow.keras.optimizers import Adam\n",
        "from tensorflow.keras.models import Model\n",
        "from tensorflow.keras.callbacks import ModelCheckpoint\n",
        "import transformers"
      ],
      "execution_count": null,
      "outputs": []
    },
    {
      "cell_type": "code",
      "metadata": {
        "id": "XE7fhJLNOQT-"
      },
      "source": [
        "def bert_encode(texts, tokenizer, max_len=512):\n",
        "    all_tokens = []\n",
        "    \n",
        "    for text in texts:\n",
        "        text = tokenizer.tokenize(text)\n",
        "            \n",
        "        text = text[:max_len-2]\n",
        "        input_sequence = [\"[CLS]\"] + text + [\"[SEP]\"]\n",
        "        pad_len = max_len - len(input_sequence)\n",
        "        \n",
        "        tokens = tokenizer.convert_tokens_to_ids(input_sequence)\n",
        "        tokens += [0] * pad_len\n",
        "        pad_masks = [1] * len(input_sequence) + [0] * pad_len\n",
        "        segment_ids = [0] * max_len\n",
        "        \n",
        "        all_tokens.append(tokens)\n",
        "    \n",
        "    return np.array(all_tokens)"
      ],
      "execution_count": null,
      "outputs": []
    },
    {
      "cell_type": "code",
      "metadata": {
        "id": "xwl5IdTqOoff"
      },
      "source": [
        "def build_model(transformer, max_len=512):\n",
        "    input_word_ids = Input(shape=(max_len,), dtype=tf.int32, name=\"input_word_ids\")\n",
        "    sequence_output = transformer(input_word_ids)[0]\n",
        "    cls_token = sequence_output[:, 0, :]\n",
        "    out = Dense(1, activation='sigmoid')(cls_token)\n",
        "    \n",
        "    model = Model(inputs=input_word_ids, outputs=out)\n",
        "    model.compile(Adam(lr=1e-5), loss='binary_crossentropy', metrics=['accuracy'])\n",
        "    \n",
        "    return model"
      ],
      "execution_count": null,
      "outputs": []
    },
    {
      "cell_type": "code",
      "metadata": {
        "id": "9olyY3OyOrCX"
      },
      "source": [
        "%%time\n",
        "transformer_layer = transformers.TFDistilBertModel.from_pretrained('distilbert-base-uncased')\n",
        "tokenizer = transformers.DistilBertTokenizer.from_pretrained('distilbert-base-uncased')"
      ],
      "execution_count": null,
      "outputs": []
    },
    {
      "cell_type": "code",
      "metadata": {
        "id": "1sesC2OjOtN7"
      },
      "source": [
        "model = build_model(transformer_layer, max_len=250)\n",
        "model.summary()"
      ],
      "execution_count": null,
      "outputs": []
    },
    {
      "cell_type": "code",
      "metadata": {
        "id": "QNxF3xUIRsJL"
      },
      "source": [
        "X = df['Sentence']\n",
        "\n",
        "Y = df['Labels']"
      ],
      "execution_count": null,
      "outputs": []
    },
    {
      "cell_type": "code",
      "metadata": {
        "id": "GFa_O0a3RBRB"
      },
      "source": [
        "X_train, X_test, Y_train, Y_test = train_test_split(X,Y, test_size = 0.20, random_state = 42)\n",
        "print(X_train.shape,Y_train.shape)\n",
        "print(X_test.shape,Y_test.shape)"
      ],
      "execution_count": null,
      "outputs": []
    },
    {
      "cell_type": "code",
      "metadata": {
        "id": "sK7nMIRVSnOa"
      },
      "source": [
        "train_input = bert_encode(X_train.values, tokenizer, max_len=250)\n",
        "test_input = bert_encode(X_test.values, tokenizer, max_len=250)\n",
        "train_labels = Y_train.values"
      ],
      "execution_count": null,
      "outputs": []
    },
    {
      "cell_type": "code",
      "metadata": {
        "id": "eh7JHZLgPrQu"
      },
      "source": [
        "\n",
        "epochs = 1\n",
        "batch_size = 30\n",
        "\n",
        "history = model.fit(train_input, train_labels, epochs=epochs, batch_size=batch_size,validation_split=0.1)"
      ],
      "execution_count": null,
      "outputs": []
    },
    {
      "cell_type": "code",
      "metadata": {
        "id": "cdP_i4tNO_z2"
      },
      "source": [
        "\n",
        "test_pred = model.predict(test_input, verbose = 1)\n",
        "\n",
        "y_pred = test_pred.round().astype(int)\n",
        "\n"
      ],
      "execution_count": null,
      "outputs": []
    },
    {
      "cell_type": "code",
      "metadata": {
        "id": "ve0u7SauUbT7"
      },
      "source": [
        "print('BERT AUC Score:', roc_auc_score(Y_test, y_pred))"
      ],
      "execution_count": null,
      "outputs": []
    },
    {
      "cell_type": "code",
      "metadata": {
        "id": "ekI7_n4IQhN8"
      },
      "source": [
        "import seaborn as sns\n",
        "from sklearn.metrics import classification_report, confusion_matrix\n",
        "cf_matrix = confusion_matrix(Y_test, y_pred)\n",
        "sns.heatmap(cf_matrix, annot=True, fmt = 'd', vmax = 6400)\n",
        "ax = plt.axes()\n",
        "ax.set_title('BERT')"
      ],
      "execution_count": null,
      "outputs": []
    },
    {
      "cell_type": "code",
      "metadata": {
        "id": "fLOv-AA7g8IB"
      },
      "source": [
        ""
      ],
      "execution_count": null,
      "outputs": []
    },
    {
      "cell_type": "markdown",
      "metadata": {
        "id": "w8IhzAQbh4e5"
      },
      "source": [
        ""
      ]
    },
    {
      "cell_type": "code",
      "metadata": {
        "id": "e2cl0Od4g8Kp"
      },
      "source": [
        "%%time\n",
        "transformer_layer = transformers.OpenAIGPTTokenizer.from_pretrained('openai-gpt')\n",
        "tokenizer = transformers.OpenAIGPTTokenizer.from_pretrained('openai-gpt')"
      ],
      "execution_count": null,
      "outputs": []
    },
    {
      "cell_type": "code",
      "metadata": {
        "id": "cY8O3_xSg8NP"
      },
      "source": [
        "model = build_model(transformer_layer, max_len=160)\n",
        "model.summary()"
      ],
      "execution_count": null,
      "outputs": []
    },
    {
      "cell_type": "code",
      "metadata": {
        "id": "PlNjf9WUg8R6"
      },
      "source": [
        ""
      ],
      "execution_count": null,
      "outputs": []
    },
    {
      "cell_type": "code",
      "metadata": {
        "id": "NhHiQKnJg8QN"
      },
      "source": [
        ""
      ],
      "execution_count": null,
      "outputs": []
    },
    {
      "cell_type": "code",
      "metadata": {
        "id": "Z0YxywJ1VFI4"
      },
      "source": [
        "!jupyter nbconvert --to html test.ipynb"
      ],
      "execution_count": null,
      "outputs": []
    },
    {
      "cell_type": "code",
      "metadata": {
        "id": "frE0NBVaipyZ"
      },
      "source": [
        "import pandas as pd"
      ],
      "execution_count": null,
      "outputs": []
    },
    {
      "cell_type": "code",
      "metadata": {
        "id": "RyzT3Yytm3W0"
      },
      "source": [
        "results = pd.read_csv('results.csv')"
      ],
      "execution_count": null,
      "outputs": []
    },
    {
      "cell_type": "code",
      "metadata": {
        "id": "S7SCmyunm7R1"
      },
      "source": [
        "results"
      ],
      "execution_count": null,
      "outputs": []
    },
    {
      "cell_type": "code",
      "metadata": {
        "id": "nzLTfUUrm7yd"
      },
      "source": [
        "import seaborn as sns"
      ],
      "execution_count": null,
      "outputs": []
    },
    {
      "cell_type": "code",
      "metadata": {
        "id": "eAmYlA1enkKM"
      },
      "source": [
        "ax = sns.barplot(x=\"AUC Score\", y=\"Architecture\", data=results, dodge = False, palette=\"icefire\")\n",
        "ax.set(xlim=(0.73, 1))\n",
        "ax.set_title('Model AUC Score Comparision')"
      ],
      "execution_count": null,
      "outputs": []
    },
    {
      "cell_type": "code",
      "metadata": {
        "id": "pODDCjuYoqS-"
      },
      "source": [
        ""
      ],
      "execution_count": null,
      "outputs": []
    }
  ]
}